{
 "cells": [
  {
   "cell_type": "code",
   "execution_count": 1,
   "metadata": {},
   "outputs": [],
   "source": [
    "from pytorch_tabnet.tab_model import TabNetClassifier\n",
    "\n",
    "import torch\n",
    "from sklearn.preprocessing import LabelEncoder\n",
    "from sklearn.metrics import roc_auc_score, accuracy_score\n",
    "\n",
    "import pandas as pd\n",
    "import numpy as np\n",
    "np.random.seed(0)\n",
    "\n",
    "\n",
    "import os\n",
    "import wget\n",
    "from pathlib import Path\n",
    "\n",
    "from datasets import load_dataset\n",
    "\n",
    "from matplotlib import pyplot as plt\n",
    "%matplotlib inline"
   ]
  },
  {
   "cell_type": "markdown",
   "metadata": {},
   "source": [
    "# Download census-income dataset"
   ]
  },
  {
   "cell_type": "code",
   "execution_count": 2,
   "metadata": {},
   "outputs": [],
   "source": [
    "dataset_name = 'dataset_players_statistics'\n",
    "out = Path(os.getcwd()+'/data/'+dataset_name+'.csv')"
   ]
  },
  {
   "cell_type": "markdown",
   "metadata": {},
   "source": [
    "# Load data and split"
   ]
  },
  {
   "cell_type": "code",
   "execution_count": 3,
   "metadata": {},
   "outputs": [
    {
     "data": {
      "text/html": [
       "<div>\n",
       "<style scoped>\n",
       "    .dataframe tbody tr th:only-of-type {\n",
       "        vertical-align: middle;\n",
       "    }\n",
       "\n",
       "    .dataframe tbody tr th {\n",
       "        vertical-align: top;\n",
       "    }\n",
       "\n",
       "    .dataframe thead th {\n",
       "        text-align: right;\n",
       "    }\n",
       "</style>\n",
       "<table border=\"1\" class=\"dataframe\">\n",
       "  <thead>\n",
       "    <tr style=\"text-align: right;\">\n",
       "      <th></th>\n",
       "      <th>bluetopgp</th>\n",
       "      <th>bluetopwr</th>\n",
       "      <th>bluetopkda</th>\n",
       "      <th>bluejunglegp</th>\n",
       "      <th>bluejunglewr</th>\n",
       "      <th>bluejunglekda</th>\n",
       "      <th>bluemidgp</th>\n",
       "      <th>bluemidwr</th>\n",
       "      <th>bluemidkda</th>\n",
       "      <th>blueadcgp</th>\n",
       "      <th>...</th>\n",
       "      <th>redmidwr</th>\n",
       "      <th>redmidkda</th>\n",
       "      <th>redadcgp</th>\n",
       "      <th>redadcwr</th>\n",
       "      <th>redadckda</th>\n",
       "      <th>redsupportgp</th>\n",
       "      <th>redsupportwr</th>\n",
       "      <th>redsupportkda</th>\n",
       "      <th>result</th>\n",
       "      <th>Set</th>\n",
       "    </tr>\n",
       "  </thead>\n",
       "  <tbody>\n",
       "    <tr>\n",
       "      <th>0</th>\n",
       "      <td>8</td>\n",
       "      <td>0.50</td>\n",
       "      <td>2.9</td>\n",
       "      <td>27</td>\n",
       "      <td>0.85</td>\n",
       "      <td>5.9</td>\n",
       "      <td>54</td>\n",
       "      <td>0.74</td>\n",
       "      <td>10.2</td>\n",
       "      <td>10</td>\n",
       "      <td>...</td>\n",
       "      <td>0.46</td>\n",
       "      <td>3.6</td>\n",
       "      <td>21</td>\n",
       "      <td>0.57</td>\n",
       "      <td>4.3</td>\n",
       "      <td>10</td>\n",
       "      <td>0.60</td>\n",
       "      <td>2.5</td>\n",
       "      <td>0</td>\n",
       "      <td>train</td>\n",
       "    </tr>\n",
       "    <tr>\n",
       "      <th>1</th>\n",
       "      <td>14</td>\n",
       "      <td>0.36</td>\n",
       "      <td>2.6</td>\n",
       "      <td>63</td>\n",
       "      <td>0.63</td>\n",
       "      <td>5.1</td>\n",
       "      <td>1</td>\n",
       "      <td>0.00</td>\n",
       "      <td>1.0</td>\n",
       "      <td>20</td>\n",
       "      <td>...</td>\n",
       "      <td>0.70</td>\n",
       "      <td>5.0</td>\n",
       "      <td>10</td>\n",
       "      <td>0.70</td>\n",
       "      <td>5.3</td>\n",
       "      <td>11</td>\n",
       "      <td>0.55</td>\n",
       "      <td>2.8</td>\n",
       "      <td>1</td>\n",
       "      <td>train</td>\n",
       "    </tr>\n",
       "    <tr>\n",
       "      <th>2</th>\n",
       "      <td>14</td>\n",
       "      <td>0.36</td>\n",
       "      <td>2.6</td>\n",
       "      <td>63</td>\n",
       "      <td>0.63</td>\n",
       "      <td>5.1</td>\n",
       "      <td>4</td>\n",
       "      <td>0.25</td>\n",
       "      <td>2.3</td>\n",
       "      <td>2</td>\n",
       "      <td>...</td>\n",
       "      <td>0.50</td>\n",
       "      <td>3.8</td>\n",
       "      <td>10</td>\n",
       "      <td>0.70</td>\n",
       "      <td>5.3</td>\n",
       "      <td>11</td>\n",
       "      <td>0.55</td>\n",
       "      <td>2.8</td>\n",
       "      <td>1</td>\n",
       "      <td>train</td>\n",
       "    </tr>\n",
       "    <tr>\n",
       "      <th>3</th>\n",
       "      <td>2</td>\n",
       "      <td>0.00</td>\n",
       "      <td>0.9</td>\n",
       "      <td>5</td>\n",
       "      <td>0.60</td>\n",
       "      <td>3.9</td>\n",
       "      <td>36</td>\n",
       "      <td>0.75</td>\n",
       "      <td>6.2</td>\n",
       "      <td>5</td>\n",
       "      <td>...</td>\n",
       "      <td>0.67</td>\n",
       "      <td>5.2</td>\n",
       "      <td>43</td>\n",
       "      <td>0.60</td>\n",
       "      <td>6.3</td>\n",
       "      <td>4</td>\n",
       "      <td>0.75</td>\n",
       "      <td>4.5</td>\n",
       "      <td>1</td>\n",
       "      <td>train</td>\n",
       "    </tr>\n",
       "    <tr>\n",
       "      <th>4</th>\n",
       "      <td>16</td>\n",
       "      <td>0.56</td>\n",
       "      <td>2.8</td>\n",
       "      <td>11</td>\n",
       "      <td>0.55</td>\n",
       "      <td>3.6</td>\n",
       "      <td>50</td>\n",
       "      <td>0.64</td>\n",
       "      <td>6.1</td>\n",
       "      <td>5</td>\n",
       "      <td>...</td>\n",
       "      <td>0.67</td>\n",
       "      <td>5.2</td>\n",
       "      <td>43</td>\n",
       "      <td>0.60</td>\n",
       "      <td>6.3</td>\n",
       "      <td>2</td>\n",
       "      <td>0.50</td>\n",
       "      <td>1.4</td>\n",
       "      <td>1</td>\n",
       "      <td>train</td>\n",
       "    </tr>\n",
       "    <tr>\n",
       "      <th>...</th>\n",
       "      <td>...</td>\n",
       "      <td>...</td>\n",
       "      <td>...</td>\n",
       "      <td>...</td>\n",
       "      <td>...</td>\n",
       "      <td>...</td>\n",
       "      <td>...</td>\n",
       "      <td>...</td>\n",
       "      <td>...</td>\n",
       "      <td>...</td>\n",
       "      <td>...</td>\n",
       "      <td>...</td>\n",
       "      <td>...</td>\n",
       "      <td>...</td>\n",
       "      <td>...</td>\n",
       "      <td>...</td>\n",
       "      <td>...</td>\n",
       "      <td>...</td>\n",
       "      <td>...</td>\n",
       "      <td>...</td>\n",
       "      <td>...</td>\n",
       "    </tr>\n",
       "    <tr>\n",
       "      <th>2835</th>\n",
       "      <td>6</td>\n",
       "      <td>0.67</td>\n",
       "      <td>2.9</td>\n",
       "      <td>5</td>\n",
       "      <td>0.40</td>\n",
       "      <td>6.1</td>\n",
       "      <td>11</td>\n",
       "      <td>0.45</td>\n",
       "      <td>4.8</td>\n",
       "      <td>3</td>\n",
       "      <td>...</td>\n",
       "      <td>0.80</td>\n",
       "      <td>3.8</td>\n",
       "      <td>1</td>\n",
       "      <td>0.00</td>\n",
       "      <td>3.0</td>\n",
       "      <td>3</td>\n",
       "      <td>0.67</td>\n",
       "      <td>4.4</td>\n",
       "      <td>0</td>\n",
       "      <td>test</td>\n",
       "    </tr>\n",
       "    <tr>\n",
       "      <th>2836</th>\n",
       "      <td>5</td>\n",
       "      <td>0.80</td>\n",
       "      <td>4.0</td>\n",
       "      <td>1</td>\n",
       "      <td>1.00</td>\n",
       "      <td>12.0</td>\n",
       "      <td>3</td>\n",
       "      <td>0.67</td>\n",
       "      <td>6.0</td>\n",
       "      <td>2</td>\n",
       "      <td>...</td>\n",
       "      <td>0.33</td>\n",
       "      <td>1.9</td>\n",
       "      <td>19</td>\n",
       "      <td>0.47</td>\n",
       "      <td>3.7</td>\n",
       "      <td>4</td>\n",
       "      <td>0.75</td>\n",
       "      <td>2.3</td>\n",
       "      <td>0</td>\n",
       "      <td>test</td>\n",
       "    </tr>\n",
       "    <tr>\n",
       "      <th>2837</th>\n",
       "      <td>12</td>\n",
       "      <td>0.50</td>\n",
       "      <td>2.4</td>\n",
       "      <td>6</td>\n",
       "      <td>0.67</td>\n",
       "      <td>6.0</td>\n",
       "      <td>3</td>\n",
       "      <td>1.00</td>\n",
       "      <td>6.3</td>\n",
       "      <td>4</td>\n",
       "      <td>...</td>\n",
       "      <td>0.69</td>\n",
       "      <td>7.4</td>\n",
       "      <td>20</td>\n",
       "      <td>0.70</td>\n",
       "      <td>4.3</td>\n",
       "      <td>15</td>\n",
       "      <td>0.53</td>\n",
       "      <td>2.8</td>\n",
       "      <td>0</td>\n",
       "      <td>train</td>\n",
       "    </tr>\n",
       "    <tr>\n",
       "      <th>2838</th>\n",
       "      <td>5</td>\n",
       "      <td>0.60</td>\n",
       "      <td>2.6</td>\n",
       "      <td>4</td>\n",
       "      <td>0.50</td>\n",
       "      <td>3.0</td>\n",
       "      <td>5</td>\n",
       "      <td>0.60</td>\n",
       "      <td>5.0</td>\n",
       "      <td>3</td>\n",
       "      <td>...</td>\n",
       "      <td>0.45</td>\n",
       "      <td>4.8</td>\n",
       "      <td>12</td>\n",
       "      <td>0.67</td>\n",
       "      <td>5.0</td>\n",
       "      <td>11</td>\n",
       "      <td>0.73</td>\n",
       "      <td>4.3</td>\n",
       "      <td>1</td>\n",
       "      <td>train</td>\n",
       "    </tr>\n",
       "    <tr>\n",
       "      <th>2839</th>\n",
       "      <td>4</td>\n",
       "      <td>0.75</td>\n",
       "      <td>2.6</td>\n",
       "      <td>12</td>\n",
       "      <td>0.58</td>\n",
       "      <td>2.9</td>\n",
       "      <td>27</td>\n",
       "      <td>0.74</td>\n",
       "      <td>8.6</td>\n",
       "      <td>29</td>\n",
       "      <td>...</td>\n",
       "      <td>0.50</td>\n",
       "      <td>4.3</td>\n",
       "      <td>3</td>\n",
       "      <td>0.33</td>\n",
       "      <td>5.0</td>\n",
       "      <td>9</td>\n",
       "      <td>0.22</td>\n",
       "      <td>2.3</td>\n",
       "      <td>0</td>\n",
       "      <td>train</td>\n",
       "    </tr>\n",
       "  </tbody>\n",
       "</table>\n",
       "<p>2840 rows × 32 columns</p>\n",
       "</div>"
      ],
      "text/plain": [
       "      bluetopgp  bluetopwr  bluetopkda  bluejunglegp  bluejunglewr  \\\n",
       "0             8       0.50         2.9            27          0.85   \n",
       "1            14       0.36         2.6            63          0.63   \n",
       "2            14       0.36         2.6            63          0.63   \n",
       "3             2       0.00         0.9             5          0.60   \n",
       "4            16       0.56         2.8            11          0.55   \n",
       "...         ...        ...         ...           ...           ...   \n",
       "2835          6       0.67         2.9             5          0.40   \n",
       "2836          5       0.80         4.0             1          1.00   \n",
       "2837         12       0.50         2.4             6          0.67   \n",
       "2838          5       0.60         2.6             4          0.50   \n",
       "2839          4       0.75         2.6            12          0.58   \n",
       "\n",
       "      bluejunglekda  bluemidgp  bluemidwr  bluemidkda  blueadcgp  ...  \\\n",
       "0               5.9         54       0.74        10.2         10  ...   \n",
       "1               5.1          1       0.00         1.0         20  ...   \n",
       "2               5.1          4       0.25         2.3          2  ...   \n",
       "3               3.9         36       0.75         6.2          5  ...   \n",
       "4               3.6         50       0.64         6.1          5  ...   \n",
       "...             ...        ...        ...         ...        ...  ...   \n",
       "2835            6.1         11       0.45         4.8          3  ...   \n",
       "2836           12.0          3       0.67         6.0          2  ...   \n",
       "2837            6.0          3       1.00         6.3          4  ...   \n",
       "2838            3.0          5       0.60         5.0          3  ...   \n",
       "2839            2.9         27       0.74         8.6         29  ...   \n",
       "\n",
       "      redmidwr  redmidkda  redadcgp  redadcwr  redadckda  redsupportgp  \\\n",
       "0         0.46        3.6        21      0.57        4.3            10   \n",
       "1         0.70        5.0        10      0.70        5.3            11   \n",
       "2         0.50        3.8        10      0.70        5.3            11   \n",
       "3         0.67        5.2        43      0.60        6.3             4   \n",
       "4         0.67        5.2        43      0.60        6.3             2   \n",
       "...        ...        ...       ...       ...        ...           ...   \n",
       "2835      0.80        3.8         1      0.00        3.0             3   \n",
       "2836      0.33        1.9        19      0.47        3.7             4   \n",
       "2837      0.69        7.4        20      0.70        4.3            15   \n",
       "2838      0.45        4.8        12      0.67        5.0            11   \n",
       "2839      0.50        4.3         3      0.33        5.0             9   \n",
       "\n",
       "      redsupportwr  redsupportkda  result    Set  \n",
       "0             0.60            2.5       0  train  \n",
       "1             0.55            2.8       1  train  \n",
       "2             0.55            2.8       1  train  \n",
       "3             0.75            4.5       1  train  \n",
       "4             0.50            1.4       1  train  \n",
       "...            ...            ...     ...    ...  \n",
       "2835          0.67            4.4       0   test  \n",
       "2836          0.75            2.3       0   test  \n",
       "2837          0.53            2.8       0  train  \n",
       "2838          0.73            4.3       1  train  \n",
       "2839          0.22            2.3       0  train  \n",
       "\n",
       "[2840 rows x 32 columns]"
      ]
     },
     "execution_count": 3,
     "metadata": {},
     "output_type": "execute_result"
    }
   ],
   "source": [
    "train = pd.read_csv(out)\n",
    "train = train.drop(['game'], axis=1)\n",
    "target = 'result'\n",
    "if \"Set\" not in train.columns:\n",
    "    train[\"Set\"] = np.random.choice([\"train\", \"valid\", \"test\"], p =[.8, .1, .1], size=(train.shape[0],))\n",
    "\n",
    "train_indices = train[train.Set==\"train\"].index\n",
    "valid_indices = train[train.Set==\"valid\"].index\n",
    "test_indices = train[train.Set==\"test\"].index\n",
    "train"
   ]
  },
  {
   "cell_type": "markdown",
   "metadata": {},
   "source": [
    "# Simple preprocessing\n",
    "\n",
    "Label encode categorical features and fill empty cells."
   ]
  },
  {
   "cell_type": "code",
   "execution_count": 4,
   "metadata": {},
   "outputs": [
    {
     "name": "stdout",
     "output_type": "stream",
     "text": [
      "bluetopgp 56\n",
      "bluetopwr 74\n",
      "bluetopkda 115\n",
      "bluejunglegp 48\n",
      "bluejunglewr 73\n",
      "bluejunglekda 131\n",
      "bluemidgp 62\n",
      "bluemidwr 78\n",
      "bluemidkda 141\n",
      "blueadcgp 67\n",
      "blueadcwr 80\n",
      "blueadckda 144\n",
      "bluesupportgp 63\n",
      "bluesupportwr 77\n",
      "bluesupportkda 111\n",
      "redtopgp 56\n",
      "redtopwr 77\n",
      "redtopkda 108\n",
      "redjunglegp 49\n",
      "redjunglewr 72\n",
      "redjunglekda 125\n",
      "redmidgp 64\n",
      "redmidwr 73\n",
      "redmidkda 142\n",
      "redadcgp 65\n",
      "redadcwr 80\n",
      "redadckda 135\n",
      "redsupportgp 63\n",
      "redsupportwr 76\n",
      "redsupportkda 110\n",
      "result 2\n",
      "Set 3\n"
     ]
    }
   ],
   "source": [
    "nunique = train.nunique()\n",
    "types = train.dtypes\n",
    "\n",
    "categorical_columns = []\n",
    "categorical_dims =  {}\n",
    "for col in train.columns:\n",
    "    if types[col] == 'object' or nunique[col] < 200:\n",
    "        print(col, train[col].nunique())\n",
    "        l_enc = LabelEncoder()\n",
    "        train[col] = train[col].fillna(\"VV_likely\")\n",
    "        train[col] = l_enc.fit_transform(train[col].values)\n",
    "        categorical_columns.append(col)\n",
    "        categorical_dims[col] = len(l_enc.classes_)\n",
    "    else:\n",
    "        train.fillna(train.loc[train_indices, col].mean(), inplace=True)"
   ]
  },
  {
   "cell_type": "markdown",
   "metadata": {},
   "source": [
    "# Define categorical features for categorical embeddings"
   ]
  },
  {
   "cell_type": "code",
   "execution_count": 5,
   "metadata": {},
   "outputs": [],
   "source": [
    "unused_feat = ['Set']\n",
    "\n",
    "features = [ col for col in train.columns if col not in unused_feat+[target]] \n",
    "\n",
    "cat_idxs = [ i for i, f in enumerate(features) if f in categorical_columns]\n",
    "\n",
    "cat_dims = [ categorical_dims[f] for i, f in enumerate(features) if f in categorical_columns]\n"
   ]
  },
  {
   "cell_type": "code",
   "execution_count": 6,
   "metadata": {},
   "outputs": [],
   "source": [
    "X_train = train[features].values[train_indices]\n",
    "y_train = train[target].values[train_indices]\n",
    "\n",
    "X_valid = train[features].values[valid_indices]\n",
    "y_valid = train[target].values[valid_indices]\n",
    "\n",
    "X_test = train[features].values[test_indices]\n",
    "y_test = train[target].values[test_indices]"
   ]
  },
  {
   "cell_type": "markdown",
   "metadata": {},
   "source": [
    "# Network parameters"
   ]
  },
  {
   "cell_type": "code",
   "execution_count": 7,
   "metadata": {},
   "outputs": [],
   "source": [
    "from pytorch_tabnet.pretraining import TabNetPretrainer"
   ]
  },
  {
   "cell_type": "code",
   "execution_count": 8,
   "metadata": {},
   "outputs": [
    {
     "name": "stderr",
     "output_type": "stream",
     "text": [
      "/opt/ml/tabnet/pytorch_tabnet/abstract_model.py:75: UserWarning: Device used : cuda\n",
      "  warnings.warn(f\"Device used : {self.device}\")\n"
     ]
    }
   ],
   "source": [
    "# TabNetPretrainer\n",
    "unsupervised_model = TabNetPretrainer(\n",
    "    cat_idxs=cat_idxs,\n",
    "    cat_dims=cat_dims,\n",
    "    cat_emb_dim=3,\n",
    "    optimizer_fn=torch.optim.Adam,\n",
    "    optimizer_params=dict(lr=2e-2),\n",
    "    mask_type='sparsemax', # \"sparsemax\",\n",
    "    n_shared_decoder=1, # nb shared glu for decoding\n",
    "    n_indep_decoder=1, # nb independent glu for decoding\n",
    ")"
   ]
  },
  {
   "cell_type": "markdown",
   "metadata": {},
   "source": [
    "# Self Supervised Training"
   ]
  },
  {
   "cell_type": "code",
   "execution_count": 9,
   "metadata": {},
   "outputs": [],
   "source": [
    "max_epochs = 1000 if not os.getenv(\"CI\", False) else 2"
   ]
  },
  {
   "cell_type": "code",
   "execution_count": 10,
   "metadata": {},
   "outputs": [
    {
     "name": "stdout",
     "output_type": "stream",
     "text": [
      "epoch 0  | loss: 4.05531 | val_0_unsup_loss: 1.20635 |  0:00:00s\n",
      "epoch 1  | loss: 2.68673 | val_0_unsup_loss: 1.15015 |  0:00:00s\n",
      "epoch 2  | loss: 2.20495 | val_0_unsup_loss: 1.11331 |  0:00:00s\n",
      "epoch 3  | loss: 1.80837 | val_0_unsup_loss: 1.08973 |  0:00:00s\n",
      "epoch 4  | loss: 1.57841 | val_0_unsup_loss: 1.08148 |  0:00:00s\n",
      "epoch 5  | loss: 1.39684 | val_0_unsup_loss: 1.07038 |  0:00:01s\n",
      "epoch 6  | loss: 1.27121 | val_0_unsup_loss: 1.06076 |  0:00:01s\n",
      "epoch 7  | loss: 1.17462 | val_0_unsup_loss: 1.05333 |  0:00:01s\n",
      "epoch 8  | loss: 1.1322  | val_0_unsup_loss: 1.04681 |  0:00:01s\n",
      "epoch 9  | loss: 1.10022 | val_0_unsup_loss: 1.03982 |  0:00:01s\n",
      "epoch 10 | loss: 1.07374 | val_0_unsup_loss: 1.03237 |  0:00:02s\n",
      "epoch 11 | loss: 1.05342 | val_0_unsup_loss: 1.02595 |  0:00:02s\n",
      "epoch 12 | loss: 1.04614 | val_0_unsup_loss: 1.02161 |  0:00:02s\n",
      "epoch 13 | loss: 1.03518 | val_0_unsup_loss: 1.01868 |  0:00:02s\n",
      "epoch 14 | loss: 1.02974 | val_0_unsup_loss: 1.01553 |  0:00:02s\n",
      "epoch 15 | loss: 1.02401 | val_0_unsup_loss: 1.01134 |  0:00:03s\n",
      "epoch 16 | loss: 1.01966 | val_0_unsup_loss: 1.0081  |  0:00:03s\n",
      "epoch 17 | loss: 1.01465 | val_0_unsup_loss: 1.00627 |  0:00:03s\n",
      "epoch 18 | loss: 1.01169 | val_0_unsup_loss: 1.00536 |  0:00:03s\n",
      "epoch 19 | loss: 1.01155 | val_0_unsup_loss: 1.00453 |  0:00:03s\n",
      "epoch 20 | loss: 1.00814 | val_0_unsup_loss: 1.00429 |  0:00:03s\n",
      "epoch 21 | loss: 1.00858 | val_0_unsup_loss: 1.00407 |  0:00:04s\n",
      "epoch 22 | loss: 1.00739 | val_0_unsup_loss: 1.00325 |  0:00:04s\n",
      "epoch 23 | loss: 1.0066  | val_0_unsup_loss: 1.00261 |  0:00:04s\n",
      "epoch 24 | loss: 1.00612 | val_0_unsup_loss: 1.0023  |  0:00:04s\n",
      "epoch 25 | loss: 1.00625 | val_0_unsup_loss: 1.00243 |  0:00:04s\n",
      "epoch 26 | loss: 1.00622 | val_0_unsup_loss: 1.00254 |  0:00:04s\n",
      "epoch 27 | loss: 1.00427 | val_0_unsup_loss: 1.00261 |  0:00:05s\n",
      "epoch 28 | loss: 1.0056  | val_0_unsup_loss: 1.00274 |  0:00:05s\n",
      "epoch 29 | loss: 1.00377 | val_0_unsup_loss: 1.00281 |  0:00:05s\n",
      "epoch 30 | loss: 1.00392 | val_0_unsup_loss: 1.0025  |  0:00:05s\n",
      "epoch 31 | loss: 1.00427 | val_0_unsup_loss: 1.00193 |  0:00:05s\n",
      "epoch 32 | loss: 1.00346 | val_0_unsup_loss: 1.00181 |  0:00:05s\n",
      "epoch 33 | loss: 1.00424 | val_0_unsup_loss: 1.00182 |  0:00:06s\n",
      "epoch 34 | loss: 1.00238 | val_0_unsup_loss: 1.0019  |  0:00:06s\n",
      "epoch 35 | loss: 1.00256 | val_0_unsup_loss: 1.00248 |  0:00:06s\n",
      "epoch 36 | loss: 1.00465 | val_0_unsup_loss: 1.00316 |  0:00:06s\n",
      "epoch 37 | loss: 1.0036  | val_0_unsup_loss: 1.00283 |  0:00:06s\n",
      "epoch 38 | loss: 1.004   | val_0_unsup_loss: 1.00225 |  0:00:06s\n",
      "epoch 39 | loss: 1.00229 | val_0_unsup_loss: 1.0023  |  0:00:07s\n",
      "epoch 40 | loss: 1.00186 | val_0_unsup_loss: 1.00232 |  0:00:07s\n",
      "epoch 41 | loss: 1.00143 | val_0_unsup_loss: 1.00237 |  0:00:07s\n",
      "epoch 42 | loss: 0.99945 | val_0_unsup_loss: 1.00286 |  0:00:07s\n",
      "epoch 43 | loss: 1.0033  | val_0_unsup_loss: 1.0031  |  0:00:07s\n",
      "epoch 44 | loss: 1.00333 | val_0_unsup_loss: 1.00286 |  0:00:07s\n",
      "epoch 45 | loss: 1.00249 | val_0_unsup_loss: 1.00239 |  0:00:08s\n",
      "epoch 46 | loss: 0.99926 | val_0_unsup_loss: 1.00226 |  0:00:08s\n",
      "epoch 47 | loss: 1.00106 | val_0_unsup_loss: 1.0021  |  0:00:08s\n",
      "epoch 48 | loss: 1.0038  | val_0_unsup_loss: 1.00206 |  0:00:08s\n",
      "epoch 49 | loss: 1.00184 | val_0_unsup_loss: 1.00219 |  0:00:08s\n",
      "epoch 50 | loss: 1.00172 | val_0_unsup_loss: 1.00224 |  0:00:08s\n",
      "epoch 51 | loss: 1.00167 | val_0_unsup_loss: 1.002   |  0:00:09s\n",
      "epoch 52 | loss: 1.00034 | val_0_unsup_loss: 1.00165 |  0:00:09s\n",
      "epoch 53 | loss: 1.00194 | val_0_unsup_loss: 1.00151 |  0:00:09s\n",
      "epoch 54 | loss: 1.00024 | val_0_unsup_loss: 1.00143 |  0:00:09s\n",
      "epoch 55 | loss: 1.00145 | val_0_unsup_loss: 1.00122 |  0:00:09s\n",
      "epoch 56 | loss: 1.00172 | val_0_unsup_loss: 1.00106 |  0:00:09s\n",
      "epoch 57 | loss: 1.00175 | val_0_unsup_loss: 1.00125 |  0:00:10s\n",
      "epoch 58 | loss: 1.0015  | val_0_unsup_loss: 1.0015  |  0:00:10s\n",
      "epoch 59 | loss: 1.00153 | val_0_unsup_loss: 1.00141 |  0:00:10s\n",
      "epoch 60 | loss: 0.99954 | val_0_unsup_loss: 1.001   |  0:00:10s\n",
      "epoch 61 | loss: 1.00316 | val_0_unsup_loss: 1.0011  |  0:00:10s\n",
      "epoch 62 | loss: 1.00236 | val_0_unsup_loss: 1.00112 |  0:00:11s\n",
      "epoch 63 | loss: 1.00219 | val_0_unsup_loss: 1.00121 |  0:00:11s\n",
      "epoch 64 | loss: 0.99909 | val_0_unsup_loss: 1.00145 |  0:00:11s\n",
      "epoch 65 | loss: 1.00255 | val_0_unsup_loss: 1.00169 |  0:00:11s\n",
      "epoch 66 | loss: 0.99976 | val_0_unsup_loss: 1.00168 |  0:00:11s\n",
      "epoch 67 | loss: 1.00269 | val_0_unsup_loss: 1.00165 |  0:00:11s\n",
      "epoch 68 | loss: 1.00154 | val_0_unsup_loss: 1.00161 |  0:00:11s\n",
      "epoch 69 | loss: 1.00159 | val_0_unsup_loss: 1.00163 |  0:00:12s\n",
      "epoch 70 | loss: 0.99984 | val_0_unsup_loss: 1.00166 |  0:00:12s\n",
      "epoch 71 | loss: 1.0002  | val_0_unsup_loss: 1.00162 |  0:00:12s\n",
      "epoch 72 | loss: 0.99968 | val_0_unsup_loss: 1.00147 |  0:00:12s\n",
      "epoch 73 | loss: 1.00042 | val_0_unsup_loss: 1.00126 |  0:00:12s\n",
      "epoch 74 | loss: 1.00159 | val_0_unsup_loss: 1.0009  |  0:00:12s\n",
      "epoch 75 | loss: 1.00085 | val_0_unsup_loss: 1.00062 |  0:00:13s\n",
      "epoch 76 | loss: 1.0001  | val_0_unsup_loss: 1.00043 |  0:00:13s\n",
      "epoch 77 | loss: 1.00081 | val_0_unsup_loss: 1.00025 |  0:00:13s\n",
      "epoch 78 | loss: 0.99891 | val_0_unsup_loss: 1.00034 |  0:00:13s\n",
      "epoch 79 | loss: 1.00042 | val_0_unsup_loss: 1.00039 |  0:00:13s\n",
      "epoch 80 | loss: 1.00104 | val_0_unsup_loss: 1.00045 |  0:00:13s\n",
      "epoch 81 | loss: 0.99867 | val_0_unsup_loss: 1.00058 |  0:00:14s\n",
      "epoch 82 | loss: 1.00011 | val_0_unsup_loss: 1.00079 |  0:00:14s\n",
      "epoch 83 | loss: 1.00201 | val_0_unsup_loss: 1.00091 |  0:00:14s\n",
      "epoch 84 | loss: 0.99757 | val_0_unsup_loss: 1.00101 |  0:00:14s\n",
      "epoch 85 | loss: 1.00269 | val_0_unsup_loss: 1.00107 |  0:00:14s\n",
      "epoch 86 | loss: 1.00114 | val_0_unsup_loss: 1.00122 |  0:00:14s\n",
      "epoch 87 | loss: 0.9983  | val_0_unsup_loss: 1.00141 |  0:00:15s\n",
      "epoch 88 | loss: 1.00173 | val_0_unsup_loss: 1.00145 |  0:00:15s\n",
      "epoch 89 | loss: 1.0001  | val_0_unsup_loss: 1.00145 |  0:00:15s\n",
      "epoch 90 | loss: 0.99928 | val_0_unsup_loss: 1.00147 |  0:00:15s\n",
      "epoch 91 | loss: 1.00125 | val_0_unsup_loss: 1.00151 |  0:00:15s\n",
      "epoch 92 | loss: 0.99832 | val_0_unsup_loss: 1.0017  |  0:00:15s\n",
      "epoch 93 | loss: 1.00061 | val_0_unsup_loss: 1.00181 |  0:00:16s\n",
      "epoch 94 | loss: 0.99876 | val_0_unsup_loss: 1.00193 |  0:00:16s\n",
      "epoch 95 | loss: 0.99911 | val_0_unsup_loss: 1.00178 |  0:00:16s\n",
      "epoch 96 | loss: 0.99918 | val_0_unsup_loss: 1.00166 |  0:00:16s\n",
      "epoch 97 | loss: 0.99995 | val_0_unsup_loss: 1.0015  |  0:00:16s\n",
      "epoch 98 | loss: 1.0013  | val_0_unsup_loss: 1.00152 |  0:00:16s\n",
      "epoch 99 | loss: 0.99883 | val_0_unsup_loss: 1.0015  |  0:00:17s\n",
      "epoch 100| loss: 0.99929 | val_0_unsup_loss: 1.00157 |  0:00:17s\n",
      "epoch 101| loss: 1.00093 | val_0_unsup_loss: 1.00156 |  0:00:17s\n",
      "epoch 102| loss: 1.00057 | val_0_unsup_loss: 1.00142 |  0:00:17s\n",
      "epoch 103| loss: 0.99917 | val_0_unsup_loss: 1.00133 |  0:00:17s\n",
      "epoch 104| loss: 0.99939 | val_0_unsup_loss: 1.0014  |  0:00:17s\n",
      "epoch 105| loss: 0.99955 | val_0_unsup_loss: 1.00135 |  0:00:18s\n",
      "epoch 106| loss: 1.00131 | val_0_unsup_loss: 1.0013  |  0:00:18s\n",
      "epoch 107| loss: 1.00097 | val_0_unsup_loss: 1.00113 |  0:00:18s\n",
      "epoch 108| loss: 0.99997 | val_0_unsup_loss: 1.00124 |  0:00:18s\n",
      "epoch 109| loss: 1.00138 | val_0_unsup_loss: 1.00137 |  0:00:18s\n",
      "epoch 110| loss: 0.9999  | val_0_unsup_loss: 1.00148 |  0:00:18s\n",
      "epoch 111| loss: 1.00283 | val_0_unsup_loss: 1.00153 |  0:00:19s\n",
      "epoch 112| loss: 0.99942 | val_0_unsup_loss: 1.00161 |  0:00:19s\n",
      "epoch 113| loss: 1.00005 | val_0_unsup_loss: 1.00173 |  0:00:19s\n",
      "epoch 114| loss: 0.99743 | val_0_unsup_loss: 1.00189 |  0:00:19s\n",
      "epoch 115| loss: 0.99833 | val_0_unsup_loss: 1.00225 |  0:00:19s\n",
      "epoch 116| loss: 1.00195 | val_0_unsup_loss: 1.00232 |  0:00:19s\n",
      "epoch 117| loss: 1.00044 | val_0_unsup_loss: 1.00212 |  0:00:20s\n",
      "epoch 118| loss: 0.99826 | val_0_unsup_loss: 1.00193 |  0:00:20s\n",
      "epoch 119| loss: 0.99916 | val_0_unsup_loss: 1.00197 |  0:00:20s\n",
      "epoch 120| loss: 0.99753 | val_0_unsup_loss: 1.00196 |  0:00:20s\n",
      "epoch 121| loss: 1.00148 | val_0_unsup_loss: 1.00184 |  0:00:20s\n",
      "epoch 122| loss: 0.99902 | val_0_unsup_loss: 1.00174 |  0:00:20s\n",
      "epoch 123| loss: 1.00077 | val_0_unsup_loss: 1.00188 |  0:00:21s\n",
      "epoch 124| loss: 0.9988  | val_0_unsup_loss: 1.00202 |  0:00:21s\n",
      "epoch 125| loss: 1.00205 | val_0_unsup_loss: 1.00205 |  0:00:21s\n",
      "epoch 126| loss: 1.00047 | val_0_unsup_loss: 1.00174 |  0:00:21s\n",
      "epoch 127| loss: 0.99892 | val_0_unsup_loss: 1.00152 |  0:00:21s\n",
      "epoch 128| loss: 1.00014 | val_0_unsup_loss: 1.00145 |  0:00:21s\n",
      "epoch 129| loss: 0.99966 | val_0_unsup_loss: 1.00145 |  0:00:22s\n",
      "epoch 130| loss: 1.00208 | val_0_unsup_loss: 1.00145 |  0:00:22s\n",
      "epoch 131| loss: 0.99897 | val_0_unsup_loss: 1.00144 |  0:00:22s\n",
      "epoch 132| loss: 0.99859 | val_0_unsup_loss: 1.00146 |  0:00:22s\n",
      "epoch 133| loss: 1.00005 | val_0_unsup_loss: 1.00153 |  0:00:22s\n",
      "epoch 134| loss: 1.00002 | val_0_unsup_loss: 1.00157 |  0:00:22s\n",
      "epoch 135| loss: 1.00018 | val_0_unsup_loss: 1.00163 |  0:00:23s\n",
      "epoch 136| loss: 0.99783 | val_0_unsup_loss: 1.00173 |  0:00:23s\n",
      "epoch 137| loss: 1.00125 | val_0_unsup_loss: 1.00176 |  0:00:23s\n",
      "epoch 138| loss: 0.99958 | val_0_unsup_loss: 1.00184 |  0:00:23s\n",
      "epoch 139| loss: 0.99935 | val_0_unsup_loss: 1.00192 |  0:00:23s\n",
      "epoch 140| loss: 1.00129 | val_0_unsup_loss: 1.00181 |  0:00:23s\n",
      "epoch 141| loss: 0.99977 | val_0_unsup_loss: 1.002   |  0:00:24s\n",
      "epoch 142| loss: 0.9982  | val_0_unsup_loss: 1.00198 |  0:00:24s\n",
      "epoch 143| loss: 1.00102 | val_0_unsup_loss: 1.00201 |  0:00:24s\n",
      "epoch 144| loss: 0.99933 | val_0_unsup_loss: 1.00251 |  0:00:24s\n",
      "epoch 145| loss: 0.99971 | val_0_unsup_loss: 1.00266 |  0:00:24s\n",
      "epoch 146| loss: 1.00087 | val_0_unsup_loss: 1.00191 |  0:00:24s\n",
      "epoch 147| loss: 1.00015 | val_0_unsup_loss: 1.00139 |  0:00:25s\n",
      "epoch 148| loss: 0.99814 | val_0_unsup_loss: 1.00125 |  0:00:25s\n",
      "epoch 149| loss: 0.99927 | val_0_unsup_loss: 1.00124 |  0:00:25s\n",
      "epoch 150| loss: 1.00119 | val_0_unsup_loss: 1.00138 |  0:00:25s\n",
      "epoch 151| loss: 1.00031 | val_0_unsup_loss: 1.00156 |  0:00:25s\n",
      "epoch 152| loss: 1.00149 | val_0_unsup_loss: 1.00159 |  0:00:25s\n",
      "epoch 153| loss: 0.99984 | val_0_unsup_loss: 1.00139 |  0:00:26s\n",
      "epoch 154| loss: 0.99964 | val_0_unsup_loss: 1.00121 |  0:00:26s\n",
      "epoch 155| loss: 0.99949 | val_0_unsup_loss: 1.00124 |  0:00:26s\n",
      "epoch 156| loss: 1.00092 | val_0_unsup_loss: 1.00128 |  0:00:26s\n",
      "epoch 157| loss: 1.00115 | val_0_unsup_loss: 1.00147 |  0:00:26s\n",
      "epoch 158| loss: 0.99984 | val_0_unsup_loss: 1.00178 |  0:00:26s\n",
      "epoch 159| loss: 1.00245 | val_0_unsup_loss: 1.00205 |  0:00:27s\n",
      "epoch 160| loss: 0.99911 | val_0_unsup_loss: 1.002   |  0:00:27s\n",
      "epoch 161| loss: 0.99927 | val_0_unsup_loss: 1.00202 |  0:00:27s\n",
      "epoch 162| loss: 0.99967 | val_0_unsup_loss: 1.00225 |  0:00:27s\n",
      "epoch 163| loss: 1.00272 | val_0_unsup_loss: 1.0024  |  0:00:27s\n",
      "epoch 164| loss: 0.99975 | val_0_unsup_loss: 1.00232 |  0:00:27s\n",
      "epoch 165| loss: 0.99999 | val_0_unsup_loss: 1.00224 |  0:00:28s\n",
      "epoch 166| loss: 1.00189 | val_0_unsup_loss: 1.00222 |  0:00:28s\n",
      "epoch 167| loss: 1.00095 | val_0_unsup_loss: 1.00213 |  0:00:28s\n",
      "epoch 168| loss: 0.99951 | val_0_unsup_loss: 1.00185 |  0:00:28s\n",
      "epoch 169| loss: 1.00143 | val_0_unsup_loss: 1.00165 |  0:00:28s\n",
      "epoch 170| loss: 0.99823 | val_0_unsup_loss: 1.00163 |  0:00:28s\n",
      "epoch 171| loss: 0.99979 | val_0_unsup_loss: 1.00151 |  0:00:29s\n",
      "epoch 172| loss: 0.99918 | val_0_unsup_loss: 1.00131 |  0:00:29s\n",
      "epoch 173| loss: 1.00224 | val_0_unsup_loss: 1.00123 |  0:00:29s\n",
      "epoch 174| loss: 0.99887 | val_0_unsup_loss: 1.00132 |  0:00:29s\n",
      "epoch 175| loss: 0.99973 | val_0_unsup_loss: 1.00133 |  0:00:29s\n",
      "epoch 176| loss: 0.9967  | val_0_unsup_loss: 1.00128 |  0:00:30s\n",
      "epoch 177| loss: 1.00253 | val_0_unsup_loss: 1.00109 |  0:00:30s\n",
      "epoch 178| loss: 0.99987 | val_0_unsup_loss: 1.00105 |  0:00:30s\n",
      "epoch 179| loss: 1.00167 | val_0_unsup_loss: 1.00101 |  0:00:30s\n",
      "epoch 180| loss: 0.99985 | val_0_unsup_loss: 1.00102 |  0:00:30s\n",
      "epoch 181| loss: 0.99639 | val_0_unsup_loss: 1.00113 |  0:00:30s\n",
      "epoch 182| loss: 0.99848 | val_0_unsup_loss: 1.00123 |  0:00:31s\n",
      "epoch 183| loss: 0.99988 | val_0_unsup_loss: 1.0014  |  0:00:31s\n",
      "epoch 184| loss: 0.99851 | val_0_unsup_loss: 1.00156 |  0:00:31s\n",
      "epoch 185| loss: 0.99793 | val_0_unsup_loss: 1.00195 |  0:00:31s\n",
      "epoch 186| loss: 0.99963 | val_0_unsup_loss: 1.00221 |  0:00:31s\n",
      "epoch 187| loss: 1.00018 | val_0_unsup_loss: 1.00211 |  0:00:31s\n",
      "epoch 188| loss: 1.00016 | val_0_unsup_loss: 1.00225 |  0:00:32s\n",
      "epoch 189| loss: 0.99907 | val_0_unsup_loss: 1.00235 |  0:00:32s\n",
      "epoch 190| loss: 0.99791 | val_0_unsup_loss: 1.00254 |  0:00:32s\n",
      "epoch 191| loss: 1.00092 | val_0_unsup_loss: 1.00231 |  0:00:32s\n",
      "epoch 192| loss: 0.99904 | val_0_unsup_loss: 1.00206 |  0:00:32s\n",
      "epoch 193| loss: 0.99882 | val_0_unsup_loss: 1.0022  |  0:00:32s\n",
      "epoch 194| loss: 0.99922 | val_0_unsup_loss: 1.00245 |  0:00:33s\n",
      "epoch 195| loss: 1.0003  | val_0_unsup_loss: 1.00269 |  0:00:33s\n",
      "epoch 196| loss: 1.00164 | val_0_unsup_loss: 1.00262 |  0:00:33s\n",
      "epoch 197| loss: 0.99745 | val_0_unsup_loss: 1.00255 |  0:00:33s\n",
      "epoch 198| loss: 1.00145 | val_0_unsup_loss: 1.00265 |  0:00:33s\n",
      "epoch 199| loss: 0.99933 | val_0_unsup_loss: 1.0026  |  0:00:33s\n",
      "epoch 200| loss: 1.00018 | val_0_unsup_loss: 1.00243 |  0:00:34s\n",
      "epoch 201| loss: 1.00046 | val_0_unsup_loss: 1.00246 |  0:00:34s\n",
      "epoch 202| loss: 1.00102 | val_0_unsup_loss: 1.00225 |  0:00:34s\n",
      "epoch 203| loss: 1.00251 | val_0_unsup_loss: 1.00194 |  0:00:34s\n",
      "epoch 204| loss: 0.99846 | val_0_unsup_loss: 1.00175 |  0:00:34s\n",
      "epoch 205| loss: 0.99886 | val_0_unsup_loss: 1.00161 |  0:00:34s\n",
      "epoch 206| loss: 1.00201 | val_0_unsup_loss: 1.00143 |  0:00:35s\n",
      "epoch 207| loss: 0.99863 | val_0_unsup_loss: 1.00138 |  0:00:35s\n",
      "epoch 208| loss: 1.00021 | val_0_unsup_loss: 1.0015  |  0:00:35s\n",
      "epoch 209| loss: 0.99714 | val_0_unsup_loss: 1.00163 |  0:00:35s\n",
      "epoch 210| loss: 0.99985 | val_0_unsup_loss: 1.00173 |  0:00:35s\n",
      "epoch 211| loss: 0.99713 | val_0_unsup_loss: 1.00175 |  0:00:35s\n",
      "epoch 212| loss: 0.99844 | val_0_unsup_loss: 1.00191 |  0:00:36s\n",
      "epoch 213| loss: 0.99961 | val_0_unsup_loss: 1.00214 |  0:00:36s\n",
      "epoch 214| loss: 1.00167 | val_0_unsup_loss: 1.00214 |  0:00:36s\n",
      "epoch 215| loss: 0.99962 | val_0_unsup_loss: 1.00228 |  0:00:36s\n",
      "epoch 216| loss: 0.99925 | val_0_unsup_loss: 1.00241 |  0:00:36s\n",
      "epoch 217| loss: 1.0004  | val_0_unsup_loss: 1.00224 |  0:00:36s\n",
      "epoch 218| loss: 0.99894 | val_0_unsup_loss: 1.00205 |  0:00:37s\n",
      "epoch 219| loss: 1.00131 | val_0_unsup_loss: 1.00183 |  0:00:37s\n",
      "epoch 220| loss: 0.99933 | val_0_unsup_loss: 1.0018  |  0:00:37s\n",
      "epoch 221| loss: 0.99948 | val_0_unsup_loss: 1.00167 |  0:00:37s\n",
      "epoch 222| loss: 1.00295 | val_0_unsup_loss: 1.00164 |  0:00:37s\n",
      "epoch 223| loss: 0.9994  | val_0_unsup_loss: 1.00158 |  0:00:37s\n",
      "epoch 224| loss: 1.00075 | val_0_unsup_loss: 1.00152 |  0:00:38s\n",
      "epoch 225| loss: 0.99627 | val_0_unsup_loss: 1.00151 |  0:00:38s\n",
      "epoch 226| loss: 1.00181 | val_0_unsup_loss: 1.00147 |  0:00:38s\n",
      "epoch 227| loss: 0.99963 | val_0_unsup_loss: 1.00152 |  0:00:38s\n",
      "epoch 228| loss: 0.99966 | val_0_unsup_loss: 1.00156 |  0:00:38s\n",
      "epoch 229| loss: 0.9996  | val_0_unsup_loss: 1.0018  |  0:00:38s\n",
      "epoch 230| loss: 1.00027 | val_0_unsup_loss: 1.00185 |  0:00:39s\n",
      "epoch 231| loss: 0.99864 | val_0_unsup_loss: 1.00198 |  0:00:39s\n",
      "epoch 232| loss: 0.99955 | val_0_unsup_loss: 1.00215 |  0:00:39s\n",
      "epoch 233| loss: 0.99811 | val_0_unsup_loss: 1.0021  |  0:00:39s\n",
      "epoch 234| loss: 1.00057 | val_0_unsup_loss: 1.00186 |  0:00:39s\n",
      "epoch 235| loss: 0.99744 | val_0_unsup_loss: 1.00155 |  0:00:39s\n",
      "epoch 236| loss: 0.99819 | val_0_unsup_loss: 1.0012  |  0:00:39s\n",
      "epoch 237| loss: 1.00048 | val_0_unsup_loss: 1.00116 |  0:00:40s\n",
      "epoch 238| loss: 0.99948 | val_0_unsup_loss: 1.00111 |  0:00:40s\n",
      "epoch 239| loss: 0.99802 | val_0_unsup_loss: 1.00111 |  0:00:40s\n",
      "epoch 240| loss: 1.0003  | val_0_unsup_loss: 1.00131 |  0:00:40s\n",
      "epoch 241| loss: 0.99886 | val_0_unsup_loss: 1.00149 |  0:00:40s\n",
      "epoch 242| loss: 0.99839 | val_0_unsup_loss: 1.00139 |  0:00:40s\n",
      "epoch 243| loss: 0.99814 | val_0_unsup_loss: 1.00155 |  0:00:41s\n",
      "epoch 244| loss: 0.99939 | val_0_unsup_loss: 1.00149 |  0:00:41s\n",
      "epoch 245| loss: 0.9962  | val_0_unsup_loss: 1.00126 |  0:00:41s\n",
      "epoch 246| loss: 0.99773 | val_0_unsup_loss: 1.00117 |  0:00:41s\n",
      "epoch 247| loss: 1.00145 | val_0_unsup_loss: 1.0011  |  0:00:41s\n",
      "epoch 248| loss: 0.99636 | val_0_unsup_loss: 1.00099 |  0:00:41s\n",
      "epoch 249| loss: 0.99947 | val_0_unsup_loss: 1.00084 |  0:00:42s\n",
      "epoch 250| loss: 0.99893 | val_0_unsup_loss: 1.00088 |  0:00:42s\n",
      "epoch 251| loss: 0.99976 | val_0_unsup_loss: 1.00112 |  0:00:42s\n",
      "epoch 252| loss: 0.99922 | val_0_unsup_loss: 1.00119 |  0:00:42s\n",
      "epoch 253| loss: 0.99911 | val_0_unsup_loss: 1.00145 |  0:00:42s\n",
      "epoch 254| loss: 0.99889 | val_0_unsup_loss: 1.00173 |  0:00:42s\n",
      "epoch 255| loss: 0.99906 | val_0_unsup_loss: 1.00211 |  0:00:43s\n",
      "epoch 256| loss: 1.00034 | val_0_unsup_loss: 1.00221 |  0:00:43s\n",
      "epoch 257| loss: 0.99621 | val_0_unsup_loss: 1.00192 |  0:00:43s\n",
      "epoch 258| loss: 0.99871 | val_0_unsup_loss: 1.00182 |  0:00:43s\n",
      "epoch 259| loss: 0.99993 | val_0_unsup_loss: 1.00186 |  0:00:43s\n",
      "epoch 260| loss: 0.99977 | val_0_unsup_loss: 1.00173 |  0:00:43s\n",
      "epoch 261| loss: 0.99916 | val_0_unsup_loss: 1.0017  |  0:00:43s\n",
      "epoch 262| loss: 0.99845 | val_0_unsup_loss: 1.00179 |  0:00:44s\n",
      "epoch 263| loss: 0.99632 | val_0_unsup_loss: 1.00157 |  0:00:44s\n",
      "epoch 264| loss: 0.99973 | val_0_unsup_loss: 1.0012  |  0:00:44s\n",
      "epoch 265| loss: 0.99905 | val_0_unsup_loss: 1.00105 |  0:00:44s\n",
      "epoch 266| loss: 0.99974 | val_0_unsup_loss: 1.00095 |  0:00:44s\n",
      "epoch 267| loss: 0.99879 | val_0_unsup_loss: 1.00089 |  0:00:44s\n",
      "epoch 268| loss: 0.99735 | val_0_unsup_loss: 1.00095 |  0:00:45s\n",
      "epoch 269| loss: 0.99947 | val_0_unsup_loss: 1.00115 |  0:00:45s\n",
      "epoch 270| loss: 1.00042 | val_0_unsup_loss: 1.00146 |  0:00:45s\n",
      "epoch 271| loss: 0.99903 | val_0_unsup_loss: 1.00169 |  0:00:45s\n",
      "epoch 272| loss: 1.00069 | val_0_unsup_loss: 1.00145 |  0:00:45s\n",
      "epoch 273| loss: 1.00012 | val_0_unsup_loss: 1.00155 |  0:00:45s\n",
      "epoch 274| loss: 1.00026 | val_0_unsup_loss: 1.00152 |  0:00:46s\n",
      "epoch 275| loss: 0.9972  | val_0_unsup_loss: 1.00145 |  0:00:46s\n",
      "epoch 276| loss: 1.00072 | val_0_unsup_loss: 1.00125 |  0:00:46s\n",
      "epoch 277| loss: 1.00129 | val_0_unsup_loss: 1.00133 |  0:00:46s\n",
      "\n",
      "Early stopping occurred at epoch 277 with best_epoch = 77 and best_val_0_unsup_loss = 1.00025\n"
     ]
    },
    {
     "name": "stderr",
     "output_type": "stream",
     "text": [
      "/opt/ml/tabnet/pytorch_tabnet/callbacks.py:172: UserWarning: Best weights from best epoch are automatically used!\n",
      "  warnings.warn(wrn_msg)\n"
     ]
    }
   ],
   "source": [
    "unsupervised_model.fit(\n",
    "    X_train=X_train,\n",
    "    eval_set=[X_valid],\n",
    "    max_epochs=max_epochs , patience=200,\n",
    "    batch_size=2048, virtual_batch_size=128,\n",
    "    num_workers=0,\n",
    "    drop_last=False,\n",
    "    pretraining_ratio=0.8,\n",
    "\n",
    ") "
   ]
  },
  {
   "cell_type": "code",
   "execution_count": 11,
   "metadata": {},
   "outputs": [],
   "source": [
    "# Make reconstruction from a dataset\n",
    "reconstructed_X, embedded_X = unsupervised_model.predict(X_valid)\n",
    "assert(reconstructed_X.shape==embedded_X.shape)"
   ]
  },
  {
   "cell_type": "code",
   "execution_count": 12,
   "metadata": {
    "scrolled": true
   },
   "outputs": [],
   "source": [
    "unsupervised_explain_matrix, unsupervised_masks = unsupervised_model.explain(X_valid)"
   ]
  },
  {
   "cell_type": "code",
   "execution_count": 13,
   "metadata": {},
   "outputs": [
    {
     "data": {
      "image/png": "[encoded data removed]",
      "text/plain": [
       "<Figure size 1440x1440 with 3 Axes>"
      ]
     },
     "metadata": {
      "needs_background": "light"
     },
     "output_type": "display_data"
    }
   ],
   "source": [
    "fig, axs = plt.subplots(1, 3, figsize=(20,20))\n",
    "\n",
    "for i in range(3):\n",
    "    axs[i].imshow(unsupervised_masks[i][:50])\n",
    "    axs[i].set_title(f\"mask {i}\")\n"
   ]
  },
  {
   "cell_type": "markdown",
   "metadata": {},
   "source": [
    "## Save and load the same way as other TabNet models"
   ]
  },
  {
   "cell_type": "code",
   "execution_count": 14,
   "metadata": {},
   "outputs": [
    {
     "name": "stdout",
     "output_type": "stream",
     "text": [
      "Successfully saved model at ./test_pretrain.zip\n"
     ]
    },
    {
     "name": "stderr",
     "output_type": "stream",
     "text": [
      "/opt/ml/tabnet/pytorch_tabnet/abstract_model.py:75: UserWarning: Device used : cuda\n",
      "  warnings.warn(f\"Device used : {self.device}\")\n"
     ]
    }
   ],
   "source": [
    "unsupervised_model.save_model('./test_pretrain')\n",
    "loaded_pretrain = TabNetPretrainer()\n",
    "loaded_pretrain.load_model('./test_pretrain.zip')"
   ]
  },
  {
   "cell_type": "markdown",
   "metadata": {},
   "source": [
    "# Training"
   ]
  },
  {
   "cell_type": "code",
   "execution_count": 15,
   "metadata": {},
   "outputs": [],
   "source": [
    "clf = TabNetClassifier(optimizer_fn=torch.optim.Adam,\n",
    "                       optimizer_params=dict(lr=2e-2),\n",
    "                       scheduler_params={\"step_size\":10, # how to use learning rate scheduler\n",
    "                                         \"gamma\":0.9},\n",
    "                       scheduler_fn=torch.optim.lr_scheduler.StepLR,\n",
    "                       mask_type='sparsemax' # This will be overwritten if using pretrain model\n",
    "                      )"
   ]
  },
  {
   "cell_type": "code",
   "execution_count": 16,
   "metadata": {},
   "outputs": [
    {
     "name": "stderr",
     "output_type": "stream",
     "text": [
      "/opt/ml/tabnet/pytorch_tabnet/abstract_model.py:105: UserWarning: Pretraining: cat_dims changed from [] to [56, 74, 115, 48, 73, 131, 62, 78, 141, 67, 80, 144, 63, 77, 111, 56, 77, 108, 49, 72, 125, 64, 73, 142, 65, 80, 135, 63, 76, 110]\n",
      "  warnings.warn(wrn_msg)\n",
      "/opt/ml/tabnet/pytorch_tabnet/abstract_model.py:105: UserWarning: Pretraining: cat_emb_dim changed from 1 to 3\n",
      "  warnings.warn(wrn_msg)\n",
      "/opt/ml/tabnet/pytorch_tabnet/abstract_model.py:105: UserWarning: Pretraining: cat_idxs changed from [] to [0, 1, 2, 3, 4, 5, 6, 7, 8, 9, 10, 11, 12, 13, 14, 15, 16, 17, 18, 19, 20, 21, 22, 23, 24, 25, 26, 27, 28, 29]\n",
      "  warnings.warn(wrn_msg)\n",
      "/opt/ml/tabnet/pytorch_tabnet/abstract_model.py:225: UserWarning: Loading weights from unsupervised pretraining\n",
      "  warnings.warn(\"Loading weights from unsupervised pretraining\")\n"
     ]
    },
    {
     "name": "stdout",
     "output_type": "stream",
     "text": [
      "epoch 0  | loss: 1.21342 | train_accuracy: 0.52739 | valid_accuracy: 0.50181 |  0:00:00s\n",
      "epoch 1  | loss: 0.84695 | train_accuracy: 0.53497 | valid_accuracy: 0.49458 |  0:00:00s\n",
      "epoch 2  | loss: 0.74493 | train_accuracy: 0.55857 | valid_accuracy: 0.5343  |  0:00:00s\n",
      "epoch 3  | loss: 0.69601 | train_accuracy: 0.54744 | valid_accuracy: 0.52347 |  0:00:00s\n",
      "epoch 4  | loss: 0.69913 | train_accuracy: 0.56437 | valid_accuracy: 0.56318 |  0:00:01s\n",
      "epoch 5  | loss: 0.67971 | train_accuracy: 0.59866 | valid_accuracy: 0.54152 |  0:00:01s\n",
      "epoch 6  | loss: 0.66089 | train_accuracy: 0.60757 | valid_accuracy: 0.58123 |  0:00:01s\n",
      "epoch 7  | loss: 0.66185 | train_accuracy: 0.62361 | valid_accuracy: 0.59567 |  0:00:01s\n",
      "epoch 8  | loss: 0.64287 | train_accuracy: 0.6294  | valid_accuracy: 0.62094 |  0:00:02s\n",
      "epoch 9  | loss: 0.6461  | train_accuracy: 0.63519 | valid_accuracy: 0.59928 |  0:00:02s\n",
      "epoch 10 | loss: 0.64767 | train_accuracy: 0.64009 | valid_accuracy: 0.61733 |  0:00:02s\n",
      "epoch 11 | loss: 0.6263  | train_accuracy: 0.62361 | valid_accuracy: 0.60289 |  0:00:02s\n",
      "epoch 12 | loss: 0.62072 | train_accuracy: 0.63563 | valid_accuracy: 0.59928 |  0:00:03s\n",
      "epoch 13 | loss: 0.61515 | train_accuracy: 0.66147 | valid_accuracy: 0.61372 |  0:00:03s\n",
      "epoch 14 | loss: 0.61132 | train_accuracy: 0.66904 | valid_accuracy: 0.62816 |  0:00:03s\n",
      "epoch 15 | loss: 0.61018 | train_accuracy: 0.67127 | valid_accuracy: 0.62816 |  0:00:03s\n",
      "epoch 16 | loss: 0.59724 | train_accuracy: 0.68909 | valid_accuracy: 0.66426 |  0:00:04s\n",
      "epoch 17 | loss: 0.59002 | train_accuracy: 0.67751 | valid_accuracy: 0.64982 |  0:00:04s\n",
      "epoch 18 | loss: 0.56658 | train_accuracy: 0.68374 | valid_accuracy: 0.64621 |  0:00:04s\n",
      "epoch 19 | loss: 0.56842 | train_accuracy: 0.69621 | valid_accuracy: 0.66065 |  0:00:04s\n",
      "epoch 20 | loss: 0.55843 | train_accuracy: 0.70512 | valid_accuracy: 0.65343 |  0:00:04s\n",
      "epoch 21 | loss: 0.56318 | train_accuracy: 0.71804 | valid_accuracy: 0.66426 |  0:00:05s\n",
      "epoch 22 | loss: 0.56132 | train_accuracy: 0.71759 | valid_accuracy: 0.67148 |  0:00:05s\n",
      "epoch 23 | loss: 0.56198 | train_accuracy: 0.72517 | valid_accuracy: 0.66426 |  0:00:05s\n",
      "epoch 24 | loss: 0.55016 | train_accuracy: 0.73185 | valid_accuracy: 0.6426  |  0:00:05s\n",
      "epoch 25 | loss: 0.53783 | train_accuracy: 0.74388 | valid_accuracy: 0.68231 |  0:00:06s\n",
      "epoch 26 | loss: 0.51985 | train_accuracy: 0.74254 | valid_accuracy: 0.67509 |  0:00:06s\n",
      "epoch 27 | loss: 0.52779 | train_accuracy: 0.74031 | valid_accuracy: 0.65704 |  0:00:06s\n",
      "epoch 28 | loss: 0.50199 | train_accuracy: 0.75323 | valid_accuracy: 0.6787  |  0:00:06s\n",
      "epoch 29 | loss: 0.47894 | train_accuracy: 0.75991 | valid_accuracy: 0.68592 |  0:00:07s\n",
      "epoch 30 | loss: 0.47197 | train_accuracy: 0.7657  | valid_accuracy: 0.68592 |  0:00:07s\n",
      "epoch 31 | loss: 0.4678  | train_accuracy: 0.77416 | valid_accuracy: 0.69675 |  0:00:07s\n",
      "epoch 32 | loss: 0.46518 | train_accuracy: 0.78486 | valid_accuracy: 0.71119 |  0:00:07s\n",
      "epoch 33 | loss: 0.43684 | train_accuracy: 0.79198 | valid_accuracy: 0.67509 |  0:00:08s\n",
      "epoch 34 | loss: 0.47064 | train_accuracy: 0.80401 | valid_accuracy: 0.69314 |  0:00:08s\n",
      "epoch 35 | loss: 0.4441  | train_accuracy: 0.80223 | valid_accuracy: 0.70397 |  0:00:08s\n",
      "epoch 36 | loss: 0.4257  | train_accuracy: 0.80134 | valid_accuracy: 0.71841 |  0:00:08s\n",
      "epoch 37 | loss: 0.4219  | train_accuracy: 0.81871 | valid_accuracy: 0.70397 |  0:00:08s\n",
      "epoch 38 | loss: 0.40852 | train_accuracy: 0.81871 | valid_accuracy: 0.70758 |  0:00:09s\n",
      "epoch 39 | loss: 0.4216  | train_accuracy: 0.82405 | valid_accuracy: 0.70036 |  0:00:09s\n",
      "epoch 40 | loss: 0.40609 | train_accuracy: 0.83697 | valid_accuracy: 0.68592 |  0:00:09s\n",
      "epoch 41 | loss: 0.38628 | train_accuracy: 0.8441  | valid_accuracy: 0.71119 |  0:00:09s\n",
      "epoch 42 | loss: 0.36981 | train_accuracy: 0.8441  | valid_accuracy: 0.72924 |  0:00:10s\n",
      "epoch 43 | loss: 0.36991 | train_accuracy: 0.85212 | valid_accuracy: 0.72202 |  0:00:10s\n",
      "epoch 44 | loss: 0.35995 | train_accuracy: 0.849   | valid_accuracy: 0.73285 |  0:00:10s\n",
      "epoch 45 | loss: 0.3356  | train_accuracy: 0.85657 | valid_accuracy: 0.74368 |  0:00:10s\n",
      "epoch 46 | loss: 0.33704 | train_accuracy: 0.8686  | valid_accuracy: 0.75451 |  0:00:11s\n",
      "epoch 47 | loss: 0.33167 | train_accuracy: 0.87082 | valid_accuracy: 0.74007 |  0:00:11s\n",
      "epoch 48 | loss: 0.31695 | train_accuracy: 0.87127 | valid_accuracy: 0.74007 |  0:00:11s\n",
      "epoch 49 | loss: 0.30392 | train_accuracy: 0.88374 | valid_accuracy: 0.74368 |  0:00:11s\n",
      "epoch 50 | loss: 0.31521 | train_accuracy: 0.88285 | valid_accuracy: 0.74007 |  0:00:12s\n",
      "epoch 51 | loss: 0.30694 | train_accuracy: 0.88374 | valid_accuracy: 0.74007 |  0:00:12s\n",
      "epoch 52 | loss: 0.30248 | train_accuracy: 0.88374 | valid_accuracy: 0.7509  |  0:00:12s\n",
      "epoch 53 | loss: 0.30317 | train_accuracy: 0.88285 | valid_accuracy: 0.75451 |  0:00:12s\n",
      "epoch 54 | loss: 0.32048 | train_accuracy: 0.88241 | valid_accuracy: 0.76534 |  0:00:12s\n",
      "epoch 55 | loss: 0.30048 | train_accuracy: 0.89399 | valid_accuracy: 0.75451 |  0:00:13s\n",
      "epoch 56 | loss: 0.30122 | train_accuracy: 0.89577 | valid_accuracy: 0.74729 |  0:00:13s\n",
      "epoch 57 | loss: 0.28765 | train_accuracy: 0.89755 | valid_accuracy: 0.76895 |  0:00:13s\n",
      "epoch 58 | loss: 0.28129 | train_accuracy: 0.90334 | valid_accuracy: 0.74368 |  0:00:13s\n",
      "epoch 59 | loss: 0.28165 | train_accuracy: 0.90468 | valid_accuracy: 0.75812 |  0:00:14s\n",
      "epoch 60 | loss: 0.27653 | train_accuracy: 0.90646 | valid_accuracy: 0.75812 |  0:00:14s\n",
      "epoch 61 | loss: 0.273   | train_accuracy: 0.90869 | valid_accuracy: 0.75812 |  0:00:14s\n",
      "epoch 62 | loss: 0.26371 | train_accuracy: 0.91047 | valid_accuracy: 0.76534 |  0:00:14s\n",
      "epoch 63 | loss: 0.26075 | train_accuracy: 0.91002 | valid_accuracy: 0.76173 |  0:00:15s\n",
      "epoch 64 | loss: 0.24994 | train_accuracy: 0.91136 | valid_accuracy: 0.75451 |  0:00:15s\n",
      "epoch 65 | loss: 0.27004 | train_accuracy: 0.91314 | valid_accuracy: 0.72924 |  0:00:15s\n",
      "epoch 66 | loss: 0.25635 | train_accuracy: 0.91359 | valid_accuracy: 0.74368 |  0:00:15s\n",
      "epoch 67 | loss: 0.25749 | train_accuracy: 0.91448 | valid_accuracy: 0.74729 |  0:00:15s\n",
      "epoch 68 | loss: 0.2274  | train_accuracy: 0.91982 | valid_accuracy: 0.74007 |  0:00:16s\n",
      "epoch 69 | loss: 0.256   | train_accuracy: 0.92517 | valid_accuracy: 0.7509  |  0:00:16s\n",
      "epoch 70 | loss: 0.22839 | train_accuracy: 0.92784 | valid_accuracy: 0.75451 |  0:00:16s\n",
      "epoch 71 | loss: 0.22452 | train_accuracy: 0.92918 | valid_accuracy: 0.74729 |  0:00:16s\n",
      "epoch 72 | loss: 0.21031 | train_accuracy: 0.93051 | valid_accuracy: 0.74729 |  0:00:16s\n",
      "epoch 73 | loss: 0.23611 | train_accuracy: 0.92695 | valid_accuracy: 0.75812 |  0:00:17s\n",
      "epoch 74 | loss: 0.2391  | train_accuracy: 0.93408 | valid_accuracy: 0.76173 |  0:00:17s\n",
      "epoch 75 | loss: 0.21546 | train_accuracy: 0.93497 | valid_accuracy: 0.77617 |  0:00:17s\n",
      "epoch 76 | loss: 0.24446 | train_accuracy: 0.9363  | valid_accuracy: 0.76173 |  0:00:17s\n",
      "epoch 77 | loss: 0.21302 | train_accuracy: 0.93853 | valid_accuracy: 0.76895 |  0:00:18s\n",
      "epoch 78 | loss: 0.22818 | train_accuracy: 0.93808 | valid_accuracy: 0.75451 |  0:00:18s\n",
      "epoch 79 | loss: 0.21195 | train_accuracy: 0.93987 | valid_accuracy: 0.75812 |  0:00:18s\n",
      "epoch 80 | loss: 0.20587 | train_accuracy: 0.94165 | valid_accuracy: 0.76534 |  0:00:18s\n",
      "epoch 81 | loss: 0.18283 | train_accuracy: 0.94298 | valid_accuracy: 0.77617 |  0:00:19s\n",
      "epoch 82 | loss: 0.2017  | train_accuracy: 0.94477 | valid_accuracy: 0.77978 |  0:00:19s\n",
      "epoch 83 | loss: 0.19994 | train_accuracy: 0.94699 | valid_accuracy: 0.78339 |  0:00:19s\n",
      "epoch 84 | loss: 0.18552 | train_accuracy: 0.94922 | valid_accuracy: 0.77256 |  0:00:19s\n",
      "epoch 85 | loss: 0.18872 | train_accuracy: 0.94967 | valid_accuracy: 0.77978 |  0:00:19s\n",
      "epoch 86 | loss: 0.20557 | train_accuracy: 0.95278 | valid_accuracy: 0.77617 |  0:00:20s\n",
      "epoch 87 | loss: 0.18509 | train_accuracy: 0.95501 | valid_accuracy: 0.787   |  0:00:20s\n",
      "epoch 88 | loss: 0.18586 | train_accuracy: 0.95278 | valid_accuracy: 0.79061 |  0:00:20s\n",
      "epoch 89 | loss: 0.19513 | train_accuracy: 0.94655 | valid_accuracy: 0.79061 |  0:00:20s\n",
      "epoch 90 | loss: 0.15778 | train_accuracy: 0.95056 | valid_accuracy: 0.78339 |  0:00:21s\n",
      "epoch 91 | loss: 0.18092 | train_accuracy: 0.95457 | valid_accuracy: 0.787   |  0:00:21s\n",
      "epoch 92 | loss: 0.15444 | train_accuracy: 0.95724 | valid_accuracy: 0.77978 |  0:00:21s\n",
      "epoch 93 | loss: 0.16659 | train_accuracy: 0.96169 | valid_accuracy: 0.79061 |  0:00:21s\n",
      "epoch 94 | loss: 0.16002 | train_accuracy: 0.95813 | valid_accuracy: 0.77256 |  0:00:22s\n",
      "epoch 95 | loss: 0.15395 | train_accuracy: 0.95902 | valid_accuracy: 0.78339 |  0:00:22s\n",
      "epoch 96 | loss: 0.16399 | train_accuracy: 0.95857 | valid_accuracy: 0.78339 |  0:00:22s\n",
      "epoch 97 | loss: 0.15183 | train_accuracy: 0.95857 | valid_accuracy: 0.77978 |  0:00:22s\n",
      "epoch 98 | loss: 0.13838 | train_accuracy: 0.95857 | valid_accuracy: 0.78339 |  0:00:22s\n",
      "epoch 99 | loss: 0.14538 | train_accuracy: 0.96303 | valid_accuracy: 0.77978 |  0:00:23s\n",
      "epoch 100| loss: 0.14643 | train_accuracy: 0.96437 | valid_accuracy: 0.76534 |  0:00:23s\n",
      "epoch 101| loss: 0.14797 | train_accuracy: 0.96214 | valid_accuracy: 0.7509  |  0:00:23s\n",
      "epoch 102| loss: 0.15712 | train_accuracy: 0.96214 | valid_accuracy: 0.76173 |  0:00:23s\n",
      "epoch 103| loss: 0.12918 | train_accuracy: 0.96437 | valid_accuracy: 0.75451 |  0:00:24s\n",
      "epoch 104| loss: 0.15321 | train_accuracy: 0.96437 | valid_accuracy: 0.75451 |  0:00:24s\n",
      "epoch 105| loss: 0.14413 | train_accuracy: 0.9657  | valid_accuracy: 0.74729 |  0:00:24s\n",
      "epoch 106| loss: 0.1224  | train_accuracy: 0.97016 | valid_accuracy: 0.76534 |  0:00:24s\n",
      "epoch 107| loss: 0.13532 | train_accuracy: 0.97372 | valid_accuracy: 0.76895 |  0:00:25s\n",
      "epoch 108| loss: 0.12739 | train_accuracy: 0.97416 | valid_accuracy: 0.77617 |  0:00:25s\n",
      "epoch 109| loss: 0.1198  | train_accuracy: 0.97283 | valid_accuracy: 0.76534 |  0:00:25s\n",
      "epoch 110| loss: 0.12735 | train_accuracy: 0.97149 | valid_accuracy: 0.76895 |  0:00:25s\n",
      "epoch 111| loss: 0.13239 | train_accuracy: 0.9706  | valid_accuracy: 0.76534 |  0:00:26s\n",
      "epoch 112| loss: 0.11735 | train_accuracy: 0.97194 | valid_accuracy: 0.76534 |  0:00:26s\n",
      "epoch 113| loss: 0.13954 | train_accuracy: 0.97194 | valid_accuracy: 0.76534 |  0:00:26s\n",
      "epoch 114| loss: 0.11857 | train_accuracy: 0.97461 | valid_accuracy: 0.76895 |  0:00:26s\n",
      "epoch 115| loss: 0.1283  | train_accuracy: 0.97372 | valid_accuracy: 0.77617 |  0:00:27s\n",
      "epoch 116| loss: 0.10834 | train_accuracy: 0.97372 | valid_accuracy: 0.77256 |  0:00:27s\n",
      "epoch 117| loss: 0.11046 | train_accuracy: 0.97416 | valid_accuracy: 0.77617 |  0:00:27s\n",
      "epoch 118| loss: 0.12016 | train_accuracy: 0.97238 | valid_accuracy: 0.76895 |  0:00:27s\n",
      "epoch 119| loss: 0.11061 | train_accuracy: 0.97461 | valid_accuracy: 0.76534 |  0:00:28s\n",
      "epoch 120| loss: 0.11656 | train_accuracy: 0.97372 | valid_accuracy: 0.77617 |  0:00:28s\n",
      "epoch 121| loss: 0.1129  | train_accuracy: 0.97461 | valid_accuracy: 0.787   |  0:00:28s\n",
      "epoch 122| loss: 0.10336 | train_accuracy: 0.97639 | valid_accuracy: 0.77617 |  0:00:28s\n",
      "epoch 123| loss: 0.09904 | train_accuracy: 0.97728 | valid_accuracy: 0.76534 |  0:00:29s\n",
      "epoch 124| loss: 0.09295 | train_accuracy: 0.97817 | valid_accuracy: 0.76895 |  0:00:29s\n",
      "epoch 125| loss: 0.09062 | train_accuracy: 0.97506 | valid_accuracy: 0.77978 |  0:00:29s\n",
      "epoch 126| loss: 0.09684 | train_accuracy: 0.97461 | valid_accuracy: 0.77256 |  0:00:29s\n",
      "epoch 127| loss: 0.1264  | train_accuracy: 0.97595 | valid_accuracy: 0.76534 |  0:00:30s\n",
      "epoch 128| loss: 0.0996  | train_accuracy: 0.97506 | valid_accuracy: 0.77256 |  0:00:30s\n",
      "epoch 129| loss: 0.09052 | train_accuracy: 0.97862 | valid_accuracy: 0.77256 |  0:00:30s\n",
      "epoch 130| loss: 0.1014  | train_accuracy: 0.98085 | valid_accuracy: 0.76173 |  0:00:30s\n",
      "epoch 131| loss: 0.09399 | train_accuracy: 0.98218 | valid_accuracy: 0.76534 |  0:00:30s\n",
      "epoch 132| loss: 0.09184 | train_accuracy: 0.97817 | valid_accuracy: 0.76895 |  0:00:31s\n",
      "epoch 133| loss: 0.10573 | train_accuracy: 0.97906 | valid_accuracy: 0.77256 |  0:00:31s\n",
      "epoch 134| loss: 0.10182 | train_accuracy: 0.97906 | valid_accuracy: 0.77256 |  0:00:31s\n",
      "epoch 135| loss: 0.10177 | train_accuracy: 0.97773 | valid_accuracy: 0.77617 |  0:00:31s\n",
      "epoch 136| loss: 0.07888 | train_accuracy: 0.97817 | valid_accuracy: 0.77256 |  0:00:31s\n",
      "epoch 137| loss: 0.0889  | train_accuracy: 0.97996 | valid_accuracy: 0.787   |  0:00:32s\n",
      "epoch 138| loss: 0.09066 | train_accuracy: 0.98129 | valid_accuracy: 0.77617 |  0:00:32s\n",
      "epoch 139| loss: 0.08937 | train_accuracy: 0.98085 | valid_accuracy: 0.80144 |  0:00:32s\n",
      "epoch 140| loss: 0.10363 | train_accuracy: 0.98174 | valid_accuracy: 0.79783 |  0:00:32s\n",
      "epoch 141| loss: 0.09478 | train_accuracy: 0.98263 | valid_accuracy: 0.79061 |  0:00:33s\n",
      "epoch 142| loss: 0.08631 | train_accuracy: 0.98174 | valid_accuracy: 0.78339 |  0:00:33s\n",
      "epoch 143| loss: 0.08343 | train_accuracy: 0.98307 | valid_accuracy: 0.77617 |  0:00:33s\n",
      "epoch 144| loss: 0.09185 | train_accuracy: 0.98486 | valid_accuracy: 0.77978 |  0:00:33s\n",
      "epoch 145| loss: 0.0864  | train_accuracy: 0.98486 | valid_accuracy: 0.787   |  0:00:33s\n",
      "epoch 146| loss: 0.07655 | train_accuracy: 0.98619 | valid_accuracy: 0.77978 |  0:00:34s\n",
      "epoch 147| loss: 0.07077 | train_accuracy: 0.98619 | valid_accuracy: 0.77617 |  0:00:34s\n",
      "epoch 148| loss: 0.06859 | train_accuracy: 0.98486 | valid_accuracy: 0.77617 |  0:00:34s\n",
      "epoch 149| loss: 0.07175 | train_accuracy: 0.98708 | valid_accuracy: 0.77256 |  0:00:34s\n",
      "epoch 150| loss: 0.09404 | train_accuracy: 0.98619 | valid_accuracy: 0.78339 |  0:00:34s\n",
      "epoch 151| loss: 0.08214 | train_accuracy: 0.98619 | valid_accuracy: 0.77256 |  0:00:35s\n",
      "epoch 152| loss: 0.07503 | train_accuracy: 0.98708 | valid_accuracy: 0.78339 |  0:00:35s\n",
      "epoch 153| loss: 0.07593 | train_accuracy: 0.98708 | valid_accuracy: 0.77617 |  0:00:35s\n",
      "epoch 154| loss: 0.07728 | train_accuracy: 0.98708 | valid_accuracy: 0.77256 |  0:00:35s\n",
      "epoch 155| loss: 0.08228 | train_accuracy: 0.9853  | valid_accuracy: 0.77978 |  0:00:35s\n",
      "epoch 156| loss: 0.0822  | train_accuracy: 0.98441 | valid_accuracy: 0.78339 |  0:00:36s\n",
      "epoch 157| loss: 0.09159 | train_accuracy: 0.98396 | valid_accuracy: 0.77978 |  0:00:36s\n",
      "epoch 158| loss: 0.09531 | train_accuracy: 0.98307 | valid_accuracy: 0.787   |  0:00:36s\n",
      "epoch 159| loss: 0.07586 | train_accuracy: 0.98307 | valid_accuracy: 0.787   |  0:00:36s\n",
      "epoch 160| loss: 0.07464 | train_accuracy: 0.98396 | valid_accuracy: 0.78339 |  0:00:37s\n",
      "epoch 161| loss: 0.08607 | train_accuracy: 0.98396 | valid_accuracy: 0.79061 |  0:00:37s\n",
      "epoch 162| loss: 0.08061 | train_accuracy: 0.98441 | valid_accuracy: 0.79061 |  0:00:37s\n",
      "epoch 163| loss: 0.0679  | train_accuracy: 0.98486 | valid_accuracy: 0.787   |  0:00:37s\n",
      "epoch 164| loss: 0.07264 | train_accuracy: 0.98708 | valid_accuracy: 0.787   |  0:00:38s\n",
      "epoch 165| loss: 0.07505 | train_accuracy: 0.98753 | valid_accuracy: 0.77617 |  0:00:38s\n",
      "epoch 166| loss: 0.07013 | train_accuracy: 0.98575 | valid_accuracy: 0.76534 |  0:00:38s\n",
      "epoch 167| loss: 0.07324 | train_accuracy: 0.98619 | valid_accuracy: 0.76534 |  0:00:38s\n",
      "epoch 168| loss: 0.06095 | train_accuracy: 0.98619 | valid_accuracy: 0.76534 |  0:00:38s\n",
      "epoch 169| loss: 0.0876  | train_accuracy: 0.98708 | valid_accuracy: 0.76895 |  0:00:39s\n",
      "epoch 170| loss: 0.07451 | train_accuracy: 0.98753 | valid_accuracy: 0.76895 |  0:00:39s\n",
      "epoch 171| loss: 0.0586  | train_accuracy: 0.98797 | valid_accuracy: 0.77256 |  0:00:39s\n",
      "epoch 172| loss: 0.0624  | train_accuracy: 0.98664 | valid_accuracy: 0.76895 |  0:00:39s\n",
      "epoch 173| loss: 0.06978 | train_accuracy: 0.98753 | valid_accuracy: 0.76895 |  0:00:39s\n",
      "epoch 174| loss: 0.06791 | train_accuracy: 0.98753 | valid_accuracy: 0.76534 |  0:00:40s\n",
      "epoch 175| loss: 0.07266 | train_accuracy: 0.98931 | valid_accuracy: 0.75451 |  0:00:40s\n",
      "epoch 176| loss: 0.0636  | train_accuracy: 0.98886 | valid_accuracy: 0.75812 |  0:00:40s\n",
      "epoch 177| loss: 0.07569 | train_accuracy: 0.98753 | valid_accuracy: 0.76173 |  0:00:40s\n",
      "epoch 178| loss: 0.07608 | train_accuracy: 0.98842 | valid_accuracy: 0.76173 |  0:00:40s\n",
      "epoch 179| loss: 0.05267 | train_accuracy: 0.98797 | valid_accuracy: 0.75451 |  0:00:41s\n",
      "epoch 180| loss: 0.08207 | train_accuracy: 0.98931 | valid_accuracy: 0.74729 |  0:00:41s\n",
      "epoch 181| loss: 0.05821 | train_accuracy: 0.98976 | valid_accuracy: 0.75451 |  0:00:41s\n",
      "epoch 182| loss: 0.06249 | train_accuracy: 0.9902  | valid_accuracy: 0.76173 |  0:00:41s\n",
      "epoch 183| loss: 0.07337 | train_accuracy: 0.9902  | valid_accuracy: 0.75812 |  0:00:41s\n",
      "epoch 184| loss: 0.04898 | train_accuracy: 0.99065 | valid_accuracy: 0.77978 |  0:00:42s\n",
      "epoch 185| loss: 0.06685 | train_accuracy: 0.99065 | valid_accuracy: 0.77978 |  0:00:42s\n",
      "epoch 186| loss: 0.05936 | train_accuracy: 0.98842 | valid_accuracy: 0.77256 |  0:00:42s\n",
      "epoch 187| loss: 0.05442 | train_accuracy: 0.98753 | valid_accuracy: 0.76895 |  0:00:42s\n",
      "epoch 188| loss: 0.0661  | train_accuracy: 0.98708 | valid_accuracy: 0.76895 |  0:00:43s\n",
      "epoch 189| loss: 0.06201 | train_accuracy: 0.98664 | valid_accuracy: 0.77256 |  0:00:43s\n",
      "epoch 190| loss: 0.05266 | train_accuracy: 0.98664 | valid_accuracy: 0.76534 |  0:00:43s\n",
      "epoch 191| loss: 0.05739 | train_accuracy: 0.98708 | valid_accuracy: 0.77256 |  0:00:43s\n",
      "epoch 192| loss: 0.07897 | train_accuracy: 0.98664 | valid_accuracy: 0.76534 |  0:00:44s\n",
      "epoch 193| loss: 0.05917 | train_accuracy: 0.98886 | valid_accuracy: 0.77617 |  0:00:44s\n",
      "epoch 194| loss: 0.06239 | train_accuracy: 0.98886 | valid_accuracy: 0.77617 |  0:00:44s\n",
      "epoch 195| loss: 0.06834 | train_accuracy: 0.98976 | valid_accuracy: 0.77256 |  0:00:44s\n",
      "epoch 196| loss: 0.06725 | train_accuracy: 0.98976 | valid_accuracy: 0.77256 |  0:00:44s\n",
      "epoch 197| loss: 0.07009 | train_accuracy: 0.98976 | valid_accuracy: 0.77978 |  0:00:45s\n",
      "epoch 198| loss: 0.0718  | train_accuracy: 0.98976 | valid_accuracy: 0.77978 |  0:00:45s\n",
      "epoch 199| loss: 0.05553 | train_accuracy: 0.9902  | valid_accuracy: 0.78339 |  0:00:45s\n",
      "epoch 200| loss: 0.06636 | train_accuracy: 0.98976 | valid_accuracy: 0.787   |  0:00:45s\n",
      "epoch 201| loss: 0.06358 | train_accuracy: 0.9902  | valid_accuracy: 0.79061 |  0:00:46s\n",
      "epoch 202| loss: 0.06316 | train_accuracy: 0.99065 | valid_accuracy: 0.77978 |  0:00:46s\n",
      "epoch 203| loss: 0.06308 | train_accuracy: 0.98931 | valid_accuracy: 0.77617 |  0:00:46s\n",
      "epoch 204| loss: 0.07012 | train_accuracy: 0.99065 | valid_accuracy: 0.77256 |  0:00:46s\n",
      "epoch 205| loss: 0.05782 | train_accuracy: 0.99109 | valid_accuracy: 0.77256 |  0:00:47s\n",
      "epoch 206| loss: 0.05538 | train_accuracy: 0.99109 | valid_accuracy: 0.76895 |  0:00:47s\n",
      "epoch 207| loss: 0.04915 | train_accuracy: 0.99065 | valid_accuracy: 0.77978 |  0:00:47s\n",
      "epoch 208| loss: 0.06428 | train_accuracy: 0.99065 | valid_accuracy: 0.76895 |  0:00:47s\n",
      "epoch 209| loss: 0.05012 | train_accuracy: 0.99065 | valid_accuracy: 0.77256 |  0:00:48s\n",
      "epoch 210| loss: 0.05852 | train_accuracy: 0.98976 | valid_accuracy: 0.77256 |  0:00:48s\n",
      "epoch 211| loss: 0.05059 | train_accuracy: 0.9902  | valid_accuracy: 0.78339 |  0:00:48s\n",
      "epoch 212| loss: 0.05119 | train_accuracy: 0.99065 | valid_accuracy: 0.78339 |  0:00:48s\n",
      "epoch 213| loss: 0.06193 | train_accuracy: 0.99109 | valid_accuracy: 0.78339 |  0:00:49s\n",
      "epoch 214| loss: 0.05154 | train_accuracy: 0.99198 | valid_accuracy: 0.787   |  0:00:49s\n",
      "epoch 215| loss: 0.0595  | train_accuracy: 0.99198 | valid_accuracy: 0.77617 |  0:00:49s\n",
      "epoch 216| loss: 0.04578 | train_accuracy: 0.99243 | valid_accuracy: 0.77617 |  0:00:49s\n",
      "epoch 217| loss: 0.04711 | train_accuracy: 0.99198 | valid_accuracy: 0.76895 |  0:00:49s\n",
      "epoch 218| loss: 0.04849 | train_accuracy: 0.99198 | valid_accuracy: 0.76895 |  0:00:50s\n",
      "epoch 219| loss: 0.04436 | train_accuracy: 0.99154 | valid_accuracy: 0.76534 |  0:00:50s\n",
      "epoch 220| loss: 0.04655 | train_accuracy: 0.99287 | valid_accuracy: 0.77978 |  0:00:50s\n",
      "epoch 221| loss: 0.05349 | train_accuracy: 0.99287 | valid_accuracy: 0.78339 |  0:00:50s\n",
      "epoch 222| loss: 0.04841 | train_accuracy: 0.99243 | valid_accuracy: 0.78339 |  0:00:51s\n",
      "epoch 223| loss: 0.05481 | train_accuracy: 0.99198 | valid_accuracy: 0.79061 |  0:00:51s\n",
      "epoch 224| loss: 0.05507 | train_accuracy: 0.99198 | valid_accuracy: 0.787   |  0:00:51s\n",
      "epoch 225| loss: 0.05407 | train_accuracy: 0.99109 | valid_accuracy: 0.79061 |  0:00:51s\n",
      "epoch 226| loss: 0.04418 | train_accuracy: 0.99198 | valid_accuracy: 0.79422 |  0:00:52s\n",
      "epoch 227| loss: 0.03892 | train_accuracy: 0.99198 | valid_accuracy: 0.77256 |  0:00:52s\n",
      "epoch 228| loss: 0.05656 | train_accuracy: 0.99154 | valid_accuracy: 0.77617 |  0:00:52s\n",
      "epoch 229| loss: 0.04496 | train_accuracy: 0.99198 | valid_accuracy: 0.77617 |  0:00:52s\n",
      "epoch 230| loss: 0.05036 | train_accuracy: 0.99243 | valid_accuracy: 0.79422 |  0:00:52s\n",
      "epoch 231| loss: 0.04324 | train_accuracy: 0.99243 | valid_accuracy: 0.78339 |  0:00:53s\n",
      "epoch 232| loss: 0.04818 | train_accuracy: 0.99198 | valid_accuracy: 0.79061 |  0:00:53s\n",
      "epoch 233| loss: 0.04833 | train_accuracy: 0.99287 | valid_accuracy: 0.79422 |  0:00:53s\n",
      "epoch 234| loss: 0.05143 | train_accuracy: 0.99287 | valid_accuracy: 0.78339 |  0:00:53s\n",
      "epoch 235| loss: 0.04636 | train_accuracy: 0.99287 | valid_accuracy: 0.79422 |  0:00:54s\n",
      "epoch 236| loss: 0.05757 | train_accuracy: 0.99243 | valid_accuracy: 0.78339 |  0:00:54s\n",
      "epoch 237| loss: 0.06081 | train_accuracy: 0.99287 | valid_accuracy: 0.787   |  0:00:54s\n",
      "epoch 238| loss: 0.0422  | train_accuracy: 0.99376 | valid_accuracy: 0.77617 |  0:00:54s\n",
      "epoch 239| loss: 0.04861 | train_accuracy: 0.99376 | valid_accuracy: 0.78339 |  0:00:55s\n",
      "epoch 240| loss: 0.04024 | train_accuracy: 0.99287 | valid_accuracy: 0.77978 |  0:00:55s\n",
      "epoch 241| loss: 0.04426 | train_accuracy: 0.99421 | valid_accuracy: 0.77978 |  0:00:55s\n",
      "epoch 242| loss: 0.04543 | train_accuracy: 0.99376 | valid_accuracy: 0.77617 |  0:00:55s\n",
      "epoch 243| loss: 0.03746 | train_accuracy: 0.99332 | valid_accuracy: 0.77617 |  0:00:55s\n",
      "epoch 244| loss: 0.04932 | train_accuracy: 0.99332 | valid_accuracy: 0.77978 |  0:00:56s\n",
      "epoch 245| loss: 0.04889 | train_accuracy: 0.99287 | valid_accuracy: 0.77617 |  0:00:56s\n",
      "epoch 246| loss: 0.03628 | train_accuracy: 0.99287 | valid_accuracy: 0.78339 |  0:00:56s\n",
      "epoch 247| loss: 0.04507 | train_accuracy: 0.99376 | valid_accuracy: 0.77978 |  0:00:56s\n",
      "epoch 248| loss: 0.04893 | train_accuracy: 0.99376 | valid_accuracy: 0.77978 |  0:00:57s\n",
      "epoch 249| loss: 0.056   | train_accuracy: 0.99332 | valid_accuracy: 0.77978 |  0:00:57s\n",
      "epoch 250| loss: 0.04189 | train_accuracy: 0.99332 | valid_accuracy: 0.77256 |  0:00:57s\n",
      "epoch 251| loss: 0.04574 | train_accuracy: 0.99243 | valid_accuracy: 0.77617 |  0:00:57s\n",
      "epoch 252| loss: 0.04702 | train_accuracy: 0.99332 | valid_accuracy: 0.77978 |  0:00:57s\n",
      "epoch 253| loss: 0.04696 | train_accuracy: 0.99332 | valid_accuracy: 0.77978 |  0:00:58s\n",
      "epoch 254| loss: 0.03983 | train_accuracy: 0.99287 | valid_accuracy: 0.77617 |  0:00:58s\n",
      "epoch 255| loss: 0.03968 | train_accuracy: 0.99287 | valid_accuracy: 0.77617 |  0:00:58s\n",
      "epoch 256| loss: 0.04059 | train_accuracy: 0.99243 | valid_accuracy: 0.77256 |  0:00:58s\n",
      "epoch 257| loss: 0.04958 | train_accuracy: 0.99332 | valid_accuracy: 0.76895 |  0:00:58s\n",
      "epoch 258| loss: 0.04045 | train_accuracy: 0.99421 | valid_accuracy: 0.77256 |  0:00:59s\n",
      "epoch 259| loss: 0.03899 | train_accuracy: 0.99332 | valid_accuracy: 0.77256 |  0:00:59s\n",
      "epoch 260| loss: 0.04776 | train_accuracy: 0.99376 | valid_accuracy: 0.77256 |  0:00:59s\n",
      "epoch 261| loss: 0.04234 | train_accuracy: 0.99376 | valid_accuracy: 0.77617 |  0:00:59s\n",
      "epoch 262| loss: 0.0411  | train_accuracy: 0.99376 | valid_accuracy: 0.77617 |  0:01:00s\n",
      "epoch 263| loss: 0.04241 | train_accuracy: 0.99376 | valid_accuracy: 0.77617 |  0:01:00s\n",
      "epoch 264| loss: 0.04171 | train_accuracy: 0.99421 | valid_accuracy: 0.78339 |  0:01:00s\n",
      "epoch 265| loss: 0.03793 | train_accuracy: 0.99421 | valid_accuracy: 0.787   |  0:01:00s\n",
      "epoch 266| loss: 0.04476 | train_accuracy: 0.9951  | valid_accuracy: 0.78339 |  0:01:00s\n",
      "epoch 267| loss: 0.04818 | train_accuracy: 0.99421 | valid_accuracy: 0.77256 |  0:01:01s\n",
      "epoch 268| loss: 0.03751 | train_accuracy: 0.99376 | valid_accuracy: 0.77256 |  0:01:01s\n",
      "epoch 269| loss: 0.03862 | train_accuracy: 0.99376 | valid_accuracy: 0.77617 |  0:01:01s\n",
      "epoch 270| loss: 0.04008 | train_accuracy: 0.99421 | valid_accuracy: 0.77256 |  0:01:01s\n",
      "epoch 271| loss: 0.04084 | train_accuracy: 0.99376 | valid_accuracy: 0.77256 |  0:01:02s\n",
      "epoch 272| loss: 0.04326 | train_accuracy: 0.99376 | valid_accuracy: 0.77617 |  0:01:02s\n",
      "epoch 273| loss: 0.03537 | train_accuracy: 0.99465 | valid_accuracy: 0.77978 |  0:01:02s\n",
      "epoch 274| loss: 0.04814 | train_accuracy: 0.99465 | valid_accuracy: 0.77978 |  0:01:02s\n",
      "epoch 275| loss: 0.03663 | train_accuracy: 0.99465 | valid_accuracy: 0.79061 |  0:01:02s\n",
      "epoch 276| loss: 0.03849 | train_accuracy: 0.9951  | valid_accuracy: 0.79422 |  0:01:03s\n",
      "epoch 277| loss: 0.03322 | train_accuracy: 0.99465 | valid_accuracy: 0.79061 |  0:01:03s\n",
      "epoch 278| loss: 0.03437 | train_accuracy: 0.99421 | valid_accuracy: 0.79422 |  0:01:03s\n",
      "epoch 279| loss: 0.03022 | train_accuracy: 0.99332 | valid_accuracy: 0.79061 |  0:01:03s\n",
      "epoch 280| loss: 0.04705 | train_accuracy: 0.99376 | valid_accuracy: 0.77978 |  0:01:03s\n",
      "epoch 281| loss: 0.04993 | train_accuracy: 0.99421 | valid_accuracy: 0.787   |  0:01:04s\n",
      "epoch 282| loss: 0.03728 | train_accuracy: 0.99421 | valid_accuracy: 0.78339 |  0:01:04s\n",
      "epoch 283| loss: 0.03468 | train_accuracy: 0.9951  | valid_accuracy: 0.79061 |  0:01:04s\n",
      "epoch 284| loss: 0.02705 | train_accuracy: 0.9951  | valid_accuracy: 0.77978 |  0:01:04s\n",
      "epoch 285| loss: 0.03353 | train_accuracy: 0.99465 | valid_accuracy: 0.78339 |  0:01:05s\n",
      "epoch 286| loss: 0.03005 | train_accuracy: 0.9951  | valid_accuracy: 0.787   |  0:01:05s\n",
      "epoch 287| loss: 0.04152 | train_accuracy: 0.99465 | valid_accuracy: 0.787   |  0:01:05s\n",
      "epoch 288| loss: 0.03765 | train_accuracy: 0.99555 | valid_accuracy: 0.79061 |  0:01:05s\n",
      "epoch 289| loss: 0.03954 | train_accuracy: 0.99555 | valid_accuracy: 0.79422 |  0:01:05s\n",
      "epoch 290| loss: 0.03402 | train_accuracy: 0.99599 | valid_accuracy: 0.79061 |  0:01:06s\n",
      "epoch 291| loss: 0.03277 | train_accuracy: 0.99599 | valid_accuracy: 0.79061 |  0:01:06s\n",
      "epoch 292| loss: 0.04179 | train_accuracy: 0.99644 | valid_accuracy: 0.787   |  0:01:06s\n",
      "epoch 293| loss: 0.02936 | train_accuracy: 0.99644 | valid_accuracy: 0.787   |  0:01:06s\n",
      "epoch 294| loss: 0.03883 | train_accuracy: 0.99644 | valid_accuracy: 0.79422 |  0:01:07s\n",
      "epoch 295| loss: 0.03932 | train_accuracy: 0.99644 | valid_accuracy: 0.787   |  0:01:07s\n",
      "epoch 296| loss: 0.03225 | train_accuracy: 0.99644 | valid_accuracy: 0.79422 |  0:01:07s\n",
      "epoch 297| loss: 0.04411 | train_accuracy: 0.99599 | valid_accuracy: 0.79422 |  0:01:07s\n",
      "epoch 298| loss: 0.0387  | train_accuracy: 0.99555 | valid_accuracy: 0.79422 |  0:01:08s\n",
      "epoch 299| loss: 0.04621 | train_accuracy: 0.99555 | valid_accuracy: 0.78339 |  0:01:08s\n",
      "epoch 300| loss: 0.03912 | train_accuracy: 0.99599 | valid_accuracy: 0.79783 |  0:01:08s\n",
      "epoch 301| loss: 0.03674 | train_accuracy: 0.99644 | valid_accuracy: 0.79783 |  0:01:08s\n",
      "epoch 302| loss: 0.03934 | train_accuracy: 0.99599 | valid_accuracy: 0.80144 |  0:01:08s\n",
      "epoch 303| loss: 0.03487 | train_accuracy: 0.99688 | valid_accuracy: 0.80144 |  0:01:09s\n",
      "epoch 304| loss: 0.03487 | train_accuracy: 0.99599 | valid_accuracy: 0.79422 |  0:01:09s\n",
      "epoch 305| loss: 0.03553 | train_accuracy: 0.99555 | valid_accuracy: 0.79783 |  0:01:09s\n",
      "epoch 306| loss: 0.03148 | train_accuracy: 0.99688 | valid_accuracy: 0.79783 |  0:01:09s\n",
      "epoch 307| loss: 0.03975 | train_accuracy: 0.99733 | valid_accuracy: 0.79422 |  0:01:10s\n",
      "epoch 308| loss: 0.03235 | train_accuracy: 0.99733 | valid_accuracy: 0.79061 |  0:01:10s\n",
      "epoch 309| loss: 0.02774 | train_accuracy: 0.99688 | valid_accuracy: 0.79422 |  0:01:10s\n",
      "epoch 310| loss: 0.02989 | train_accuracy: 0.99688 | valid_accuracy: 0.787   |  0:01:10s\n",
      "epoch 311| loss: 0.0412  | train_accuracy: 0.99688 | valid_accuracy: 0.79422 |  0:01:11s\n",
      "epoch 312| loss: 0.02749 | train_accuracy: 0.99688 | valid_accuracy: 0.79422 |  0:01:11s\n",
      "epoch 313| loss: 0.03905 | train_accuracy: 0.99688 | valid_accuracy: 0.787   |  0:01:11s\n",
      "epoch 314| loss: 0.05103 | train_accuracy: 0.99688 | valid_accuracy: 0.787   |  0:01:11s\n",
      "epoch 315| loss: 0.03328 | train_accuracy: 0.99644 | valid_accuracy: 0.78339 |  0:01:11s\n",
      "epoch 316| loss: 0.03938 | train_accuracy: 0.99688 | valid_accuracy: 0.787   |  0:01:12s\n",
      "epoch 317| loss: 0.0379  | train_accuracy: 0.99644 | valid_accuracy: 0.79061 |  0:01:12s\n",
      "epoch 318| loss: 0.03903 | train_accuracy: 0.99644 | valid_accuracy: 0.79783 |  0:01:12s\n",
      "epoch 319| loss: 0.0353  | train_accuracy: 0.99644 | valid_accuracy: 0.79061 |  0:01:12s\n",
      "epoch 320| loss: 0.03793 | train_accuracy: 0.99555 | valid_accuracy: 0.80144 |  0:01:13s\n",
      "epoch 321| loss: 0.03078 | train_accuracy: 0.99644 | valid_accuracy: 0.79422 |  0:01:13s\n",
      "epoch 322| loss: 0.03877 | train_accuracy: 0.99555 | valid_accuracy: 0.79783 |  0:01:13s\n",
      "epoch 323| loss: 0.04817 | train_accuracy: 0.99599 | valid_accuracy: 0.787   |  0:01:13s\n",
      "epoch 324| loss: 0.02972 | train_accuracy: 0.99555 | valid_accuracy: 0.787   |  0:01:14s\n",
      "epoch 325| loss: 0.03073 | train_accuracy: 0.99555 | valid_accuracy: 0.79422 |  0:01:14s\n",
      "epoch 326| loss: 0.0397  | train_accuracy: 0.99555 | valid_accuracy: 0.787   |  0:01:14s\n",
      "epoch 327| loss: 0.03041 | train_accuracy: 0.9951  | valid_accuracy: 0.79783 |  0:01:14s\n",
      "epoch 328| loss: 0.0352  | train_accuracy: 0.99555 | valid_accuracy: 0.79061 |  0:01:15s\n",
      "epoch 329| loss: 0.03526 | train_accuracy: 0.99555 | valid_accuracy: 0.79422 |  0:01:15s\n",
      "epoch 330| loss: 0.04332 | train_accuracy: 0.99555 | valid_accuracy: 0.79061 |  0:01:15s\n",
      "epoch 331| loss: 0.02939 | train_accuracy: 0.99555 | valid_accuracy: 0.79061 |  0:01:15s\n",
      "epoch 332| loss: 0.03499 | train_accuracy: 0.99555 | valid_accuracy: 0.78339 |  0:01:16s\n",
      "epoch 333| loss: 0.03615 | train_accuracy: 0.99555 | valid_accuracy: 0.77978 |  0:01:16s\n",
      "epoch 334| loss: 0.02805 | train_accuracy: 0.99555 | valid_accuracy: 0.787   |  0:01:16s\n",
      "epoch 335| loss: 0.03223 | train_accuracy: 0.99555 | valid_accuracy: 0.79783 |  0:01:16s\n",
      "epoch 336| loss: 0.03303 | train_accuracy: 0.99599 | valid_accuracy: 0.79783 |  0:01:16s\n",
      "epoch 337| loss: 0.03146 | train_accuracy: 0.99555 | valid_accuracy: 0.79783 |  0:01:17s\n",
      "epoch 338| loss: 0.02515 | train_accuracy: 0.99555 | valid_accuracy: 0.80144 |  0:01:17s\n",
      "epoch 339| loss: 0.03662 | train_accuracy: 0.99599 | valid_accuracy: 0.80144 |  0:01:17s\n",
      "\n",
      "Early stopping occurred at epoch 339 with best_epoch = 139 and best_valid_accuracy = 0.80144\n"
     ]
    },
    {
     "name": "stderr",
     "output_type": "stream",
     "text": [
      "/opt/ml/tabnet/pytorch_tabnet/callbacks.py:172: UserWarning: Best weights from best epoch are automatically used!\n",
      "  warnings.warn(wrn_msg)\n"
     ]
    }
   ],
   "source": [
    "clf.fit(\n",
    "    X_train=X_train, y_train=y_train,\n",
    "    eval_set=[(X_train, y_train), (X_valid, y_valid)],\n",
    "    eval_name=['train', 'valid'],\n",
    "    eval_metric=['accuracy'],\n",
    "    max_epochs=max_epochs , patience=200,\n",
    "    batch_size=1024, virtual_batch_size=128,\n",
    "    num_workers=0,\n",
    "    weights=1,\n",
    "    drop_last=False,\n",
    "    from_unsupervised=loaded_pretrain\n",
    "    \n",
    ") "
   ]
  },
  {
   "cell_type": "code",
   "execution_count": 17,
   "metadata": {},
   "outputs": [
    {
     "data": {
      "text/plain": [
       "[<matplotlib.lines.Line2D at 0x7fb2b833f450>]"
      ]
     },
     "execution_count": 17,
     "metadata": {},
     "output_type": "execute_result"
    },
    {
     "data": {
      "image/png": "[encoded data removed]",
      "text/plain": [
       "<Figure size 432x288 with 1 Axes>"
      ]
     },
     "metadata": {
      "needs_background": "light"
     },
     "output_type": "display_data"
    }
   ],
   "source": [
    "# plot losses\n",
    "plt.plot(clf.history['loss'])"
   ]
  },
  {
   "cell_type": "code",
   "execution_count": 18,
   "metadata": {},
   "outputs": [
    {
     "data": {
      "text/plain": [
       "[<matplotlib.lines.Line2D at 0x7fb2b82bd190>]"
      ]
     },
     "execution_count": 18,
     "metadata": {},
     "output_type": "execute_result"
    },
    {
     "data": {
      "image/png": "[encoded data removed]",
      "text/plain": [
       "<Figure size 432x288 with 1 Axes>"
      ]
     },
     "metadata": {
      "needs_background": "light"
     },
     "output_type": "display_data"
    }
   ],
   "source": [
    "# plot acc\n",
    "plt.plot(clf.history['train_accuracy'])\n",
    "plt.plot(clf.history['valid_accuracy'])"
   ]
  },
  {
   "cell_type": "code",
   "execution_count": 19,
   "metadata": {},
   "outputs": [
    {
     "data": {
      "text/plain": [
       "[<matplotlib.lines.Line2D at 0x7fb2b82a4790>]"
      ]
     },
     "execution_count": 19,
     "metadata": {},
     "output_type": "execute_result"
    },
    {
     "data": {
      "image/png": "[encoded data removed]",
      "text/plain": [
       "<Figure size 432x288 with 1 Axes>"
      ]
     },
     "metadata": {
      "needs_background": "light"
     },
     "output_type": "display_data"
    }
   ],
   "source": [
    "# plot learning rates\n",
    "plt.plot(clf.history['lr'])"
   ]
  },
  {
   "cell_type": "markdown",
   "metadata": {},
   "source": [
    "## Predictions"
   ]
  },
  {
   "cell_type": "code",
   "execution_count": 20,
   "metadata": {},
   "outputs": [
    {
     "name": "stdout",
     "output_type": "stream",
     "text": [
      "BEST VALID SCORE FOR dataset_players_statistics : 0.8014440433212996\n",
      "FINAL TEST SCORE FOR dataset_players_statistics : 0.7421383647798742\n"
     ]
    }
   ],
   "source": [
    "preds = clf.predict_proba(X_test)\n",
    "test_acc = accuracy_score(y_true=y_test, y_pred=[0 if x < 0.5 else 1 for x in preds[:,1]])\n",
    "\n",
    "preds_valid = clf.predict_proba(X_valid)\n",
    "valid_acc = accuracy_score(y_true=y_valid, y_pred=[0 if x < 0.5 else 1 for x in preds_valid[:,1]])\n",
    "print(f\"BEST VALID SCORE FOR {dataset_name} : {clf.best_cost}\")\n",
    "print(f\"FINAL TEST SCORE FOR {dataset_name} : {test_acc}\")"
   ]
  },
  {
   "cell_type": "code",
   "execution_count": 21,
   "metadata": {},
   "outputs": [],
   "source": [
    "# check that best weights are used\n",
    "assert np.isclose(valid_acc, np.max(clf.history['valid_accuracy']), atol=1e-6)"
   ]
  },
  {
   "cell_type": "markdown",
   "metadata": {},
   "source": [
    "# Save and load Model"
   ]
  },
  {
   "cell_type": "code",
   "execution_count": 22,
   "metadata": {},
   "outputs": [
    {
     "name": "stdout",
     "output_type": "stream",
     "text": [
      "Successfully saved model at ./tabnet_model_test_1.zip\n"
     ]
    }
   ],
   "source": [
    "# save tabnet model\n",
    "saving_path_name = \"./tabnet_model_test_1\"\n",
    "saved_filepath = clf.save_model(saving_path_name)"
   ]
  },
  {
   "cell_type": "code",
   "execution_count": 23,
   "metadata": {},
   "outputs": [
    {
     "name": "stderr",
     "output_type": "stream",
     "text": [
      "/opt/ml/tabnet/pytorch_tabnet/abstract_model.py:75: UserWarning: Device used : cuda\n",
      "  warnings.warn(f\"Device used : {self.device}\")\n"
     ]
    }
   ],
   "source": [
    "# define new model with basic parameters and load state dict weights\n",
    "loaded_clf = TabNetClassifier()\n",
    "loaded_clf.load_model(saved_filepath)"
   ]
  },
  {
   "cell_type": "code",
   "execution_count": 24,
   "metadata": {},
   "outputs": [
    {
     "name": "stdout",
     "output_type": "stream",
     "text": [
      "FINAL TEST SCORE FOR dataset_players_statistics : 0.7421383647798742\n"
     ]
    }
   ],
   "source": [
    "loaded_preds = loaded_clf.predict_proba(X_test)\n",
    "loaded_test_acc = accuracy_score(y_true=y_test, y_pred=[0 if x < 0.5 else 1 for x in loaded_preds[:,1]])\n",
    "print(f\"FINAL TEST SCORE FOR {dataset_name} : {loaded_test_acc}\")"
   ]
  },
  {
   "cell_type": "code",
   "execution_count": 25,
   "metadata": {},
   "outputs": [],
   "source": [
    "assert(test_acc == loaded_test_acc)"
   ]
  },
  {
   "cell_type": "markdown",
   "metadata": {},
   "source": [
    "# Global explainability : feat importance summing to 1"
   ]
  },
  {
   "cell_type": "code",
   "execution_count": 26,
   "metadata": {},
   "outputs": [
    {
     "data": {
      "text/plain": [
       "array([0.01598982, 0.01800716, 0.02367898, 0.00210877, 0.03437221,\n",
       "       0.01442321, 0.01175557, 0.14486877, 0.00641163, 0.01592587,\n",
       "       0.09810505, 0.00616051, 0.00977749, 0.01063553, 0.00709562,\n",
       "       0.00303326, 0.16258117, 0.02269318, 0.03113693, 0.18885745,\n",
       "       0.        , 0.00697395, 0.06496055, 0.02347947, 0.01407862,\n",
       "       0.00442405, 0.00085155, 0.01848711, 0.03449282, 0.00463368])"
      ]
     },
     "execution_count": 26,
     "metadata": {},
     "output_type": "execute_result"
    }
   ],
   "source": [
    "clf.feature_importances_"
   ]
  },
  {
   "cell_type": "markdown",
   "metadata": {},
   "source": [
    "# Local explainability and masks"
   ]
  },
  {
   "cell_type": "code",
   "execution_count": 27,
   "metadata": {},
   "outputs": [],
   "source": [
    "explain_matrix, masks = clf.explain(X_test)"
   ]
  },
  {
   "cell_type": "code",
   "execution_count": 28,
   "metadata": {},
   "outputs": [
    {
     "data": {
      "image/png": "[encoded data removed]",
      "text/plain": [
       "<Figure size 1440x1440 with 3 Axes>"
      ]
     },
     "metadata": {
      "needs_background": "light"
     },
     "output_type": "display_data"
    }
   ],
   "source": [
    "fig, axs = plt.subplots(1, 3, figsize=(20,20))\n",
    "\n",
    "for i in range(3):\n",
    "    axs[i].imshow(masks[i][:50])\n",
    "    axs[i].set_title(f\"mask {i}\")\n"
   ]
  },
  {
   "cell_type": "code",
   "execution_count": 29,
   "metadata": {},
   "outputs": [
    {
     "name": "stdout",
     "output_type": "stream",
     "text": [
      "[0]\tvalidation_0-logloss:0.63199\n"
     ]
    },
    {
     "name": "stderr",
     "output_type": "stream",
     "text": [
      "/opt/conda/envs/lightweight/lib/python3.7/site-packages/xgboost/sklearn.py:1224: UserWarning: The use of label encoder in XGBClassifier is deprecated and will be removed in a future release. To remove this warning, do the following: 1) Pass option use_label_encoder=False when constructing XGBClassifier object; and 2) Encode your labels (y) as integers starting with 0, i.e. 0, 1, 2, ..., [num_class - 1].\n",
      "  warnings.warn(label_encoder_deprecation_msg, UserWarning)\n"
     ]
    },
    {
     "name": "stdout",
     "output_type": "stream",
     "text": [
      "[10]\tvalidation_0-logloss:0.34838\n",
      "[20]\tvalidation_0-logloss:0.25060\n",
      "[30]\tvalidation_0-logloss:0.20870\n",
      "[40]\tvalidation_0-logloss:0.19068\n",
      "[50]\tvalidation_0-logloss:0.17812\n",
      "[60]\tvalidation_0-logloss:0.17450\n",
      "[70]\tvalidation_0-logloss:0.17261\n",
      "[80]\tvalidation_0-logloss:0.17270\n",
      "[90]\tvalidation_0-logloss:0.17324\n",
      "[100]\tvalidation_0-logloss:0.17638\n",
      "[110]\tvalidation_0-logloss:0.17937\n",
      "[120]\tvalidation_0-logloss:0.18057\n",
      "[130]\tvalidation_0-logloss:0.18322\n",
      "[140]\tvalidation_0-logloss:0.18429\n",
      "[150]\tvalidation_0-logloss:0.18294\n",
      "[160]\tvalidation_0-logloss:0.18616\n",
      "[170]\tvalidation_0-logloss:0.18507\n",
      "[180]\tvalidation_0-logloss:0.18377\n",
      "[190]\tvalidation_0-logloss:0.18518\n",
      "[200]\tvalidation_0-logloss:0.18866\n",
      "[210]\tvalidation_0-logloss:0.18874\n",
      "[220]\tvalidation_0-logloss:0.18948\n",
      "[230]\tvalidation_0-logloss:0.18926\n",
      "[240]\tvalidation_0-logloss:0.18960\n",
      "[250]\tvalidation_0-logloss:0.19161\n",
      "[260]\tvalidation_0-logloss:0.19431\n",
      "[268]\tvalidation_0-logloss:0.19555\n"
     ]
    },
    {
     "data": {
      "text/plain": [
       "XGBClassifier(base_score=0.5, booster='gbtree', colsample_bylevel=1,\n",
       "              colsample_bynode=1, colsample_bytree=1, enable_categorical=False,\n",
       "              gamma=0, gpu_id=-1, importance_type=None,\n",
       "              interaction_constraints='', learning_rate=0.1, max_delta_step=0,\n",
       "              max_depth=8, min_child_weight=1, missing=nan,\n",
       "              monotone_constraints='()', n_estimators=1000, n_jobs=-1,\n",
       "              nthread=8, num_parallel_tree=1, predictor='auto', random_state=0,\n",
       "              reg_alpha=0, reg_lambda=1, scale_pos_weight=1, seed=0,\n",
       "              silent=None, subsample=0.7, tree_method='exact',\n",
       "              validate_parameters=1, ...)"
      ]
     },
     "execution_count": 29,
     "metadata": {},
     "output_type": "execute_result"
    }
   ],
   "source": [
    "from xgboost import XGBClassifier\n",
    "\n",
    "clf_xgb = XGBClassifier(max_depth=8,\n",
    "    learning_rate=0.1,\n",
    "    n_estimators=1000,\n",
    "    verbosity=0,\n",
    "    silent=None,\n",
    "    objective='binary:logistic',\n",
    "    booster='gbtree',\n",
    "    n_jobs=-1,\n",
    "    nthread=None,\n",
    "    gamma=0,\n",
    "    min_child_weight=1,\n",
    "    max_delta_step=0,\n",
    "    subsample=0.7,\n",
    "    colsample_bytree=1,\n",
    "    colsample_bylevel=1,\n",
    "    colsample_bynode=1,\n",
    "    reg_alpha=0,\n",
    "    reg_lambda=1,\n",
    "    scale_pos_weight=1,\n",
    "    base_score=0.5,\n",
    "    random_state=0,\n",
    "    seed=None,)\n",
    "\n",
    "clf_xgb.fit(X_train, y_train,\n",
    "        eval_set=[(X_valid, y_valid)],\n",
    "        early_stopping_rounds=200,\n",
    "        verbose=10)"
   ]
  },
  {
   "cell_type": "code",
   "execution_count": 30,
   "metadata": {},
   "outputs": [
    {
     "name": "stdout",
     "output_type": "stream",
     "text": [
      "0.9314079422382672\n",
      "0.9119496855345912\n"
     ]
    }
   ],
   "source": [
    "preds = np.array(clf_xgb.predict_proba(X_valid))\n",
    "valid_acc = accuracy_score(y_true= y_valid, y_pred=[0 if x < 0.5 else 1 for x in preds[:,1]])\n",
    "print(valid_acc)\n",
    "\n",
    "preds = np.array(clf_xgb.predict_proba(X_test))\n",
    "test_acc = accuracy_score(y_true=y_test, y_pred=[0 if x < 0.5 else 1 for x in preds[:,1]])\n",
    "print(test_acc)"
   ]
  },
  {
   "cell_type": "code",
   "execution_count": 33,
   "metadata": {},
   "outputs": [
    {
     "name": "stdout",
     "output_type": "stream",
     "text": [
      "0.924187725631769\n",
      "0.9245283018867925\n"
     ]
    }
   ],
   "source": [
    "from sklearn.ensemble import RandomForestClassifier\n",
    "from sklearn.model_selection import train_test_split\n",
    "from sklearn import metrics   \n",
    " \n",
    "# 학습 진행\n",
    "forest = RandomForestClassifier(n_estimators=1000, min_samples_leaf=3, min_samples_split=10, max_features=7)\n",
    "forest.fit(X_train, y_train)\n",
    "\n",
    "preds = np.array(forest.predict_proba(X_valid))\n",
    "valid_acc = accuracy_score(y_true= y_valid, y_pred=[0 if x < 0.5 else 1 for x in preds[:,1]])\n",
    "print(valid_acc)\n",
    "\n",
    "preds = np.array(forest.predict_proba(X_test))\n",
    "test_acc = accuracy_score(y_true=y_test, y_pred=[0 if x < 0.5 else 1 for x in preds[:,1]])\n",
    "print(test_acc)\n"
   ]
  },
  {
   "cell_type": "code",
   "execution_count": 34,
   "metadata": {},
   "outputs": [
    {
     "name": "stdout",
     "output_type": "stream",
     "text": [
      "0.9169675090252708\n",
      "0.9056603773584906\n"
     ]
    }
   ],
   "source": [
    "from sklearn.linear_model import LogisticRegression\n",
    "logistic = LogisticRegression(max_iter=500)\n",
    "logistic.fit(X_train, y_train)\n",
    "\n",
    "preds = np.array(logistic.predict_proba(X_valid))\n",
    "valid_acc = accuracy_score(y_true=y_valid, y_pred=[0 if x < 0.5 else 1 for x in preds[:,1]])\n",
    "print(valid_acc)\n",
    "\n",
    "preds = np.array(logistic.predict_proba(X_test))\n",
    "test_acc = accuracy_score(y_true=y_test, y_pred=[0 if x < 0.5 else 1 for x in preds[:,1]])\n",
    "print(test_acc)"
   ]
  },
  {
   "cell_type": "code",
   "execution_count": null,
   "metadata": {},
   "outputs": [],
   "source": []
  }
 ],
 "metadata": {
  "kernelspec": {
   "display_name": "Python 3",
   "language": "python",
   "name": "python3"
  },
  "language_info": {
   "codemirror_mode": {
    "name": "ipython",
    "version": 3
   },
   "file_extension": ".py",
   "mimetype": "text/x-python",
   "name": "python",
   "nbconvert_exporter": "python",
   "pygments_lexer": "ipython3",
   "version": "3.7.11"
  },
  "toc": {
   "base_numbering": 1,
   "nav_menu": {},
   "number_sections": true,
   "sideBar": true,
   "skip_h1_title": false,
   "title_cell": "Table of Contents",
   "title_sidebar": "Contents",
   "toc_cell": false,
   "toc_position": {},
   "toc_section_display": true,
   "toc_window_display": false
  }
 },
 "nbformat": 4,
 "nbformat_minor": 4
}
