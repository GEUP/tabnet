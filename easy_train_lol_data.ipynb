{
 "cells": [
  {
   "cell_type": "code",
   "execution_count": 1,
   "metadata": {},
   "outputs": [],
   "source": [
    "from pytorch_tabnet.tab_model import TabNetClassifier\n",
    "\n",
    "import torch\n",
    "from sklearn.preprocessing import LabelEncoder\n",
    "from sklearn.metrics import roc_auc_score\n",
    "\n",
    "import pandas as pd\n",
    "import numpy as np\n",
    "np.random.seed(0)\n",
    "\n",
    "\n",
    "import os\n",
    "import wget\n",
    "from pathlib import Path\n",
    "\n",
    "from matplotlib import pyplot as plt\n",
    "%matplotlib inline"
   ]
  },
  {
   "cell_type": "markdown",
   "metadata": {},
   "source": [
    "# Download census-income dataset"
   ]
  },
  {
   "cell_type": "code",
   "execution_count": 2,
   "metadata": {},
   "outputs": [],
   "source": [
    "dataset_name = 'LABEL_CHALLENGER_I_MatchData_VER7'\n",
    "out = Path(os.getcwd()+'/data/'+dataset_name+'.csv')\n",
    "\n",
    "label_name = 'LABEL_CHALLENGER_I_MatchData_VER7'\n",
    "label_path = Path(os.getcwd()+'/data/'+label_name+'.csv')"
   ]
  },
  {
   "cell_type": "markdown",
   "metadata": {},
   "source": [
    "# Load data and split"
   ]
  },
  {
   "cell_type": "code",
   "execution_count": 3,
   "metadata": {},
   "outputs": [],
   "source": [
    "with open(label_path, 'r', encoding='UTF8') as f:\n",
    "    raw_labels = f.readlines()\n",
    "\n",
    "label_dict={}\n",
    "win_idx = raw_labels[0].split(',').index('_win_0_l')\n",
    "matchid_idx = raw_labels[0].split(',').index('_matchId\\n')\n",
    "for raw_label in raw_labels[1:]:\n",
    "    raw_label = raw_label.split(',')\n",
    "    label_dict[raw_label[matchid_idx].strip()] = int(raw_label[win_idx])"
   ]
  },
  {
   "cell_type": "code",
   "execution_count": 4,
   "metadata": {},
   "outputs": [],
   "source": [
    "train = pd.read_csv(out)\n",
    "train.rename(columns = {'_matchId': 'win'}, inplace = True)\n",
    "train['win'] = train['win'].map(lambda x: label_dict[x])\n",
    "target = 'win'\n",
    "if \"Set\" not in train.columns:\n",
    "    train[\"Set\"] = np.random.choice([\"train\", \"valid\", \"test\"], p =[.8, .1, .1], size=(train.shape[0],))\n",
    "train.drop(['_win_0_l', '_win_1_l', '_win_2_l', '_win_3_l', '_win_4_l', '_win_5_l', '_win_6_l', '_win_7_l', '_win_8_l', '_win_9_l'], axis=1, inplace=True)\n",
    "train_indices = train[train.Set==\"train\"].index\n",
    "valid_indices = train[train.Set==\"valid\"].index\n",
    "test_indices = train[train.Set==\"test\"].index"
   ]
  },
  {
   "cell_type": "code",
   "execution_count": 5,
   "metadata": {},
   "outputs": [
    {
     "data": {
      "text/html": [
       "<div>\n",
       "<style scoped>\n",
       "    .dataframe tbody tr th:only-of-type {\n",
       "        vertical-align: middle;\n",
       "    }\n",
       "\n",
       "    .dataframe tbody tr th {\n",
       "        vertical-align: top;\n",
       "    }\n",
       "\n",
       "    .dataframe thead th {\n",
       "        text-align: right;\n",
       "    }\n",
       "</style>\n",
       "<table border=\"1\" class=\"dataframe\">\n",
       "  <thead>\n",
       "    <tr style=\"text-align: right;\">\n",
       "      <th></th>\n",
       "      <th>trueDamageDealt_0_l</th>\n",
       "      <th>totalMinionsKilled_0_l</th>\n",
       "      <th>damageDealtToObjectives_0_l</th>\n",
       "      <th>magicDamageDealtToChampions_0_l</th>\n",
       "      <th>damageDealtToBuildings_0_l</th>\n",
       "      <th>goldEarned_0_l</th>\n",
       "      <th>wardsKilled_0_l</th>\n",
       "      <th>assists_0_l</th>\n",
       "      <th>totalDamageDealtToChampions_0_l</th>\n",
       "      <th>deaths_0_l</th>\n",
       "      <th>...</th>\n",
       "      <th>totalDamageTaken_9_l</th>\n",
       "      <th>kills_9_l</th>\n",
       "      <th>totalTimeSpentDead_9_l</th>\n",
       "      <th>trueDamageDealtToChampions_9_l</th>\n",
       "      <th>wardsPlaced_9_l</th>\n",
       "      <th>totalTimeCCDealt_9_l</th>\n",
       "      <th>totalDamageDealt_9_l</th>\n",
       "      <th>damageSelfMitigated_9_l</th>\n",
       "      <th>win</th>\n",
       "      <th>Set</th>\n",
       "    </tr>\n",
       "  </thead>\n",
       "  <tbody>\n",
       "    <tr>\n",
       "      <th>0</th>\n",
       "      <td>467.404745</td>\n",
       "      <td>5.866283</td>\n",
       "      <td>432.724659</td>\n",
       "      <td>408.396837</td>\n",
       "      <td>177.757009</td>\n",
       "      <td>459.166068</td>\n",
       "      <td>0.258807</td>\n",
       "      <td>0.258807</td>\n",
       "      <td>776.592380</td>\n",
       "      <td>0.215672</td>\n",
       "      <td>...</td>\n",
       "      <td>395.887850</td>\n",
       "      <td>0.043134</td>\n",
       "      <td>2.976276</td>\n",
       "      <td>0.000000</td>\n",
       "      <td>1.725377</td>\n",
       "      <td>5.909418</td>\n",
       "      <td>555.269590</td>\n",
       "      <td>209.460820</td>\n",
       "      <td>1</td>\n",
       "      <td>train</td>\n",
       "    </tr>\n",
       "    <tr>\n",
       "      <th>1</th>\n",
       "      <td>250.542986</td>\n",
       "      <td>4.751131</td>\n",
       "      <td>412.579186</td>\n",
       "      <td>562.443439</td>\n",
       "      <td>43.846154</td>\n",
       "      <td>498.099548</td>\n",
       "      <td>0.090498</td>\n",
       "      <td>0.904977</td>\n",
       "      <td>705.113122</td>\n",
       "      <td>0.090498</td>\n",
       "      <td>...</td>\n",
       "      <td>572.443439</td>\n",
       "      <td>0.135747</td>\n",
       "      <td>3.710407</td>\n",
       "      <td>23.484163</td>\n",
       "      <td>1.266968</td>\n",
       "      <td>7.963801</td>\n",
       "      <td>742.036199</td>\n",
       "      <td>654.886878</td>\n",
       "      <td>1</td>\n",
       "      <td>train</td>\n",
       "    </tr>\n",
       "    <tr>\n",
       "      <th>2</th>\n",
       "      <td>0.000000</td>\n",
       "      <td>7.442873</td>\n",
       "      <td>0.000000</td>\n",
       "      <td>22.132753</td>\n",
       "      <td>0.000000</td>\n",
       "      <td>288.509249</td>\n",
       "      <td>0.000000</td>\n",
       "      <td>0.000000</td>\n",
       "      <td>336.169750</td>\n",
       "      <td>0.326442</td>\n",
       "      <td>...</td>\n",
       "      <td>465.440696</td>\n",
       "      <td>0.065288</td>\n",
       "      <td>1.762786</td>\n",
       "      <td>23.764962</td>\n",
       "      <td>0.652884</td>\n",
       "      <td>1.109902</td>\n",
       "      <td>842.742111</td>\n",
       "      <td>410.924918</td>\n",
       "      <td>0</td>\n",
       "      <td>train</td>\n",
       "    </tr>\n",
       "    <tr>\n",
       "      <th>3</th>\n",
       "      <td>499.682008</td>\n",
       "      <td>5.824268</td>\n",
       "      <td>0.000000</td>\n",
       "      <td>37.656904</td>\n",
       "      <td>0.000000</td>\n",
       "      <td>372.853556</td>\n",
       "      <td>0.050209</td>\n",
       "      <td>0.401674</td>\n",
       "      <td>523.732218</td>\n",
       "      <td>0.150628</td>\n",
       "      <td>...</td>\n",
       "      <td>556.820084</td>\n",
       "      <td>0.100418</td>\n",
       "      <td>4.970711</td>\n",
       "      <td>28.518828</td>\n",
       "      <td>1.355649</td>\n",
       "      <td>6.025105</td>\n",
       "      <td>1003.280335</td>\n",
       "      <td>341.924686</td>\n",
       "      <td>1</td>\n",
       "      <td>train</td>\n",
       "    </tr>\n",
       "    <tr>\n",
       "      <th>4</th>\n",
       "      <td>81.712185</td>\n",
       "      <td>6.617647</td>\n",
       "      <td>661.449580</td>\n",
       "      <td>135.598739</td>\n",
       "      <td>331.481092</td>\n",
       "      <td>555.220588</td>\n",
       "      <td>0.283613</td>\n",
       "      <td>0.283613</td>\n",
       "      <td>1070.955882</td>\n",
       "      <td>0.189076</td>\n",
       "      <td>...</td>\n",
       "      <td>643.140756</td>\n",
       "      <td>0.063025</td>\n",
       "      <td>7.216387</td>\n",
       "      <td>37.531513</td>\n",
       "      <td>1.701681</td>\n",
       "      <td>5.073529</td>\n",
       "      <td>454.222689</td>\n",
       "      <td>472.090336</td>\n",
       "      <td>1</td>\n",
       "      <td>train</td>\n",
       "    </tr>\n",
       "    <tr>\n",
       "      <th>...</th>\n",
       "      <td>...</td>\n",
       "      <td>...</td>\n",
       "      <td>...</td>\n",
       "      <td>...</td>\n",
       "      <td>...</td>\n",
       "      <td>...</td>\n",
       "      <td>...</td>\n",
       "      <td>...</td>\n",
       "      <td>...</td>\n",
       "      <td>...</td>\n",
       "      <td>...</td>\n",
       "      <td>...</td>\n",
       "      <td>...</td>\n",
       "      <td>...</td>\n",
       "      <td>...</td>\n",
       "      <td>...</td>\n",
       "      <td>...</td>\n",
       "      <td>...</td>\n",
       "      <td>...</td>\n",
       "      <td>...</td>\n",
       "      <td>...</td>\n",
       "    </tr>\n",
       "    <tr>\n",
       "      <th>35403</th>\n",
       "      <td>310.716505</td>\n",
       "      <td>6.818231</td>\n",
       "      <td>417.236746</td>\n",
       "      <td>518.185520</td>\n",
       "      <td>251.495303</td>\n",
       "      <td>429.509561</td>\n",
       "      <td>0.038961</td>\n",
       "      <td>0.506497</td>\n",
       "      <td>792.823845</td>\n",
       "      <td>0.155845</td>\n",
       "      <td>...</td>\n",
       "      <td>448.016187</td>\n",
       "      <td>0.000000</td>\n",
       "      <td>3.350673</td>\n",
       "      <td>0.000000</td>\n",
       "      <td>1.324685</td>\n",
       "      <td>10.870208</td>\n",
       "      <td>952.058748</td>\n",
       "      <td>273.664292</td>\n",
       "      <td>1</td>\n",
       "      <td>train</td>\n",
       "    </tr>\n",
       "    <tr>\n",
       "      <th>35404</th>\n",
       "      <td>105.555647</td>\n",
       "      <td>7.481438</td>\n",
       "      <td>170.016570</td>\n",
       "      <td>27.337388</td>\n",
       "      <td>112.540687</td>\n",
       "      <td>367.547814</td>\n",
       "      <td>0.141828</td>\n",
       "      <td>0.106371</td>\n",
       "      <td>444.312334</td>\n",
       "      <td>0.177285</td>\n",
       "      <td>...</td>\n",
       "      <td>595.323924</td>\n",
       "      <td>0.070914</td>\n",
       "      <td>4.644874</td>\n",
       "      <td>37.300820</td>\n",
       "      <td>1.311911</td>\n",
       "      <td>2.127423</td>\n",
       "      <td>1447.888769</td>\n",
       "      <td>744.988146</td>\n",
       "      <td>0</td>\n",
       "      <td>train</td>\n",
       "    </tr>\n",
       "    <tr>\n",
       "      <th>35405</th>\n",
       "      <td>22.660464</td>\n",
       "      <td>6.839910</td>\n",
       "      <td>347.947766</td>\n",
       "      <td>147.658506</td>\n",
       "      <td>347.947766</td>\n",
       "      <td>579.930348</td>\n",
       "      <td>0.052213</td>\n",
       "      <td>0.104426</td>\n",
       "      <td>735.264172</td>\n",
       "      <td>0.104426</td>\n",
       "      <td>...</td>\n",
       "      <td>421.150462</td>\n",
       "      <td>0.000000</td>\n",
       "      <td>2.715079</td>\n",
       "      <td>24.383494</td>\n",
       "      <td>0.992048</td>\n",
       "      <td>5.743436</td>\n",
       "      <td>674.853673</td>\n",
       "      <td>439.529456</td>\n",
       "      <td>1</td>\n",
       "      <td>test</td>\n",
       "    </tr>\n",
       "    <tr>\n",
       "      <th>35406</th>\n",
       "      <td>233.048869</td>\n",
       "      <td>7.784021</td>\n",
       "      <td>278.986387</td>\n",
       "      <td>0.000000</td>\n",
       "      <td>223.672662</td>\n",
       "      <td>502.010381</td>\n",
       "      <td>0.058970</td>\n",
       "      <td>0.294849</td>\n",
       "      <td>755.875609</td>\n",
       "      <td>0.058970</td>\n",
       "      <td>...</td>\n",
       "      <td>530.080032</td>\n",
       "      <td>0.117940</td>\n",
       "      <td>3.833041</td>\n",
       "      <td>0.000000</td>\n",
       "      <td>1.474246</td>\n",
       "      <td>7.489172</td>\n",
       "      <td>804.348830</td>\n",
       "      <td>261.826159</td>\n",
       "      <td>1</td>\n",
       "      <td>train</td>\n",
       "    </tr>\n",
       "    <tr>\n",
       "      <th>35407</th>\n",
       "      <td>152.633979</td>\n",
       "      <td>6.410873</td>\n",
       "      <td>754.857233</td>\n",
       "      <td>249.747962</td>\n",
       "      <td>231.803653</td>\n",
       "      <td>542.961026</td>\n",
       "      <td>0.122696</td>\n",
       "      <td>0.398762</td>\n",
       "      <td>1043.530540</td>\n",
       "      <td>0.092022</td>\n",
       "      <td>...</td>\n",
       "      <td>429.068348</td>\n",
       "      <td>0.030674</td>\n",
       "      <td>4.202342</td>\n",
       "      <td>27.852020</td>\n",
       "      <td>1.196287</td>\n",
       "      <td>7.147049</td>\n",
       "      <td>551.488406</td>\n",
       "      <td>258.428713</td>\n",
       "      <td>1</td>\n",
       "      <td>valid</td>\n",
       "    </tr>\n",
       "  </tbody>\n",
       "</table>\n",
       "<p>35408 rows × 272 columns</p>\n",
       "</div>"
      ],
      "text/plain": [
       "       trueDamageDealt_0_l  totalMinionsKilled_0_l  \\\n",
       "0               467.404745                5.866283   \n",
       "1               250.542986                4.751131   \n",
       "2                 0.000000                7.442873   \n",
       "3               499.682008                5.824268   \n",
       "4                81.712185                6.617647   \n",
       "...                    ...                     ...   \n",
       "35403           310.716505                6.818231   \n",
       "35404           105.555647                7.481438   \n",
       "35405            22.660464                6.839910   \n",
       "35406           233.048869                7.784021   \n",
       "35407           152.633979                6.410873   \n",
       "\n",
       "       damageDealtToObjectives_0_l  magicDamageDealtToChampions_0_l  \\\n",
       "0                       432.724659                       408.396837   \n",
       "1                       412.579186                       562.443439   \n",
       "2                         0.000000                        22.132753   \n",
       "3                         0.000000                        37.656904   \n",
       "4                       661.449580                       135.598739   \n",
       "...                            ...                              ...   \n",
       "35403                   417.236746                       518.185520   \n",
       "35404                   170.016570                        27.337388   \n",
       "35405                   347.947766                       147.658506   \n",
       "35406                   278.986387                         0.000000   \n",
       "35407                   754.857233                       249.747962   \n",
       "\n",
       "       damageDealtToBuildings_0_l  goldEarned_0_l  wardsKilled_0_l  \\\n",
       "0                      177.757009      459.166068         0.258807   \n",
       "1                       43.846154      498.099548         0.090498   \n",
       "2                        0.000000      288.509249         0.000000   \n",
       "3                        0.000000      372.853556         0.050209   \n",
       "4                      331.481092      555.220588         0.283613   \n",
       "...                           ...             ...              ...   \n",
       "35403                  251.495303      429.509561         0.038961   \n",
       "35404                  112.540687      367.547814         0.141828   \n",
       "35405                  347.947766      579.930348         0.052213   \n",
       "35406                  223.672662      502.010381         0.058970   \n",
       "35407                  231.803653      542.961026         0.122696   \n",
       "\n",
       "       assists_0_l  totalDamageDealtToChampions_0_l  deaths_0_l  ...  \\\n",
       "0         0.258807                       776.592380    0.215672  ...   \n",
       "1         0.904977                       705.113122    0.090498  ...   \n",
       "2         0.000000                       336.169750    0.326442  ...   \n",
       "3         0.401674                       523.732218    0.150628  ...   \n",
       "4         0.283613                      1070.955882    0.189076  ...   \n",
       "...            ...                              ...         ...  ...   \n",
       "35403     0.506497                       792.823845    0.155845  ...   \n",
       "35404     0.106371                       444.312334    0.177285  ...   \n",
       "35405     0.104426                       735.264172    0.104426  ...   \n",
       "35406     0.294849                       755.875609    0.058970  ...   \n",
       "35407     0.398762                      1043.530540    0.092022  ...   \n",
       "\n",
       "       totalDamageTaken_9_l  kills_9_l  totalTimeSpentDead_9_l  \\\n",
       "0                395.887850   0.043134                2.976276   \n",
       "1                572.443439   0.135747                3.710407   \n",
       "2                465.440696   0.065288                1.762786   \n",
       "3                556.820084   0.100418                4.970711   \n",
       "4                643.140756   0.063025                7.216387   \n",
       "...                     ...        ...                     ...   \n",
       "35403            448.016187   0.000000                3.350673   \n",
       "35404            595.323924   0.070914                4.644874   \n",
       "35405            421.150462   0.000000                2.715079   \n",
       "35406            530.080032   0.117940                3.833041   \n",
       "35407            429.068348   0.030674                4.202342   \n",
       "\n",
       "       trueDamageDealtToChampions_9_l  wardsPlaced_9_l  totalTimeCCDealt_9_l  \\\n",
       "0                            0.000000         1.725377              5.909418   \n",
       "1                           23.484163         1.266968              7.963801   \n",
       "2                           23.764962         0.652884              1.109902   \n",
       "3                           28.518828         1.355649              6.025105   \n",
       "4                           37.531513         1.701681              5.073529   \n",
       "...                               ...              ...                   ...   \n",
       "35403                        0.000000         1.324685             10.870208   \n",
       "35404                       37.300820         1.311911              2.127423   \n",
       "35405                       24.383494         0.992048              5.743436   \n",
       "35406                        0.000000         1.474246              7.489172   \n",
       "35407                       27.852020         1.196287              7.147049   \n",
       "\n",
       "       totalDamageDealt_9_l  damageSelfMitigated_9_l  win    Set  \n",
       "0                555.269590               209.460820    1  train  \n",
       "1                742.036199               654.886878    1  train  \n",
       "2                842.742111               410.924918    0  train  \n",
       "3               1003.280335               341.924686    1  train  \n",
       "4                454.222689               472.090336    1  train  \n",
       "...                     ...                      ...  ...    ...  \n",
       "35403            952.058748               273.664292    1  train  \n",
       "35404           1447.888769               744.988146    0  train  \n",
       "35405            674.853673               439.529456    1   test  \n",
       "35406            804.348830               261.826159    1  train  \n",
       "35407            551.488406               258.428713    1  valid  \n",
       "\n",
       "[35408 rows x 272 columns]"
      ]
     },
     "execution_count": 5,
     "metadata": {},
     "output_type": "execute_result"
    }
   ],
   "source": [
    "train"
   ]
  },
  {
   "cell_type": "markdown",
   "metadata": {
    "tags": []
   },
   "source": [
    "# Simple preprocessing\n",
    "\n",
    "Label encode categorical features and fill empty cells."
   ]
  },
  {
   "cell_type": "code",
   "execution_count": 6,
   "metadata": {},
   "outputs": [
    {
     "name": "stdout",
     "output_type": "stream",
     "text": [
      "baronKills_4_l 193\n",
      "win 2\n",
      "Set 3\n"
     ]
    }
   ],
   "source": [
    "nunique = train.nunique()\n",
    "types = train.dtypes\n",
    "\n",
    "categorical_columns = []\n",
    "categorical_dims =  {}\n",
    "for col in train.columns:\n",
    "    if types[col] == 'object' or nunique[col] < 200:\n",
    "        print(col, train[col].nunique())\n",
    "        l_enc = LabelEncoder()\n",
    "        train[col] = train[col].fillna(\"VV_likely\")\n",
    "        train[col] = l_enc.fit_transform(train[col].values)\n",
    "        categorical_columns.append(col)\n",
    "        categorical_dims[col] = len(l_enc.classes_)\n",
    "    else:\n",
    "        train.fillna(train.loc[train_indices, col].mean(), inplace=True)"
   ]
  },
  {
   "cell_type": "code",
   "execution_count": 7,
   "metadata": {},
   "outputs": [
    {
     "data": {
      "text/plain": [
       "['baronKills_4_l', 'win', 'Set']"
      ]
     },
     "execution_count": 7,
     "metadata": {},
     "output_type": "execute_result"
    }
   ],
   "source": [
    "categorical_columns"
   ]
  },
  {
   "cell_type": "code",
   "execution_count": 8,
   "metadata": {},
   "outputs": [
    {
     "data": {
      "text/plain": [
       "{'baronKills_4_l': 193, 'win': 2, 'Set': 3}"
      ]
     },
     "execution_count": 8,
     "metadata": {},
     "output_type": "execute_result"
    }
   ],
   "source": [
    "categorical_dims"
   ]
  },
  {
   "cell_type": "code",
   "execution_count": 9,
   "metadata": {},
   "outputs": [],
   "source": [
    "# check that pipeline accepts strings\n",
    "train.loc[train[target]==0, target] = \"lose\"\n",
    "train.loc[train[target]==1, target] = \"win\""
   ]
  },
  {
   "cell_type": "markdown",
   "metadata": {},
   "source": [
    "# Define categorical features for categorical embeddings"
   ]
  },
  {
   "cell_type": "code",
   "execution_count": 10,
   "metadata": {},
   "outputs": [],
   "source": [
    "unused_feat = ['Set']\n",
    "\n",
    "features = [ col for col in train.columns if col not in unused_feat+[target]] \n",
    "\n",
    "cat_idxs = [ i for i, f in enumerate(features) if f in categorical_columns]\n",
    "\n",
    "cat_dims = [ categorical_dims[f] for i, f in enumerate(features) if f in categorical_columns]\n"
   ]
  },
  {
   "cell_type": "markdown",
   "metadata": {},
   "source": [
    "# Network parameters"
   ]
  },
  {
   "cell_type": "code",
   "execution_count": 11,
   "metadata": {},
   "outputs": [
    {
     "name": "stderr",
     "output_type": "stream",
     "text": [
      "/opt/ml/tabnet/pytorch_tabnet/abstract_model.py:75: UserWarning: Device used : cuda\n",
      "  warnings.warn(f\"Device used : {self.device}\")\n"
     ]
    }
   ],
   "source": [
    "tabnet_params = {\"cat_idxs\":cat_idxs,\n",
    "                 \"cat_dims\":cat_dims,\n",
    "                 \"cat_emb_dim\":1,\n",
    "                 \"optimizer_fn\":torch.optim.Adam,\n",
    "                 \"optimizer_params\":dict(lr=2e-2),\n",
    "                 \"scheduler_params\":{\"step_size\":50, # how to use learning rate scheduler\n",
    "                                 \"gamma\":0.9},\n",
    "                 \"scheduler_fn\":torch.optim.lr_scheduler.StepLR,\n",
    "                 \"mask_type\":'entmax' # \"sparsemax\"\n",
    "                }\n",
    "\n",
    "clf = TabNetClassifier(**tabnet_params\n",
    "                      )"
   ]
  },
  {
   "cell_type": "markdown",
   "metadata": {},
   "source": [
    "# Training"
   ]
  },
  {
   "cell_type": "code",
   "execution_count": 12,
   "metadata": {},
   "outputs": [],
   "source": [
    "X_train = train[features].values[train_indices]\n",
    "y_train = train[target].values[train_indices]\n",
    "\n",
    "X_valid = train[features].values[valid_indices]\n",
    "y_valid = train[target].values[valid_indices]\n",
    "\n",
    "X_test = train[features].values[test_indices]\n",
    "y_test = train[target].values[test_indices]"
   ]
  },
  {
   "cell_type": "code",
   "execution_count": 13,
   "metadata": {},
   "outputs": [],
   "source": [
    "max_epochs = 1000 if not os.getenv(\"CI\", False) else 2"
   ]
  },
  {
   "cell_type": "code",
   "execution_count": 82,
   "metadata": {
    "scrolled": true,
    "tags": []
   },
   "outputs": [
    {
     "name": "stdout",
     "output_type": "stream",
     "text": [
      "epoch 0  | loss: 0.3909  | train_accuracy: 0.63822 | valid_accuracy: 0.643   |  0:00:03s\n",
      "epoch 1  | loss: 0.13592 | train_accuracy: 0.70882 | valid_accuracy: 0.7069  |  0:00:06s\n",
      "epoch 2  | loss: 0.07819 | train_accuracy: 0.88588 | valid_accuracy: 0.88327 |  0:00:09s\n",
      "epoch 3  | loss: 0.06432 | train_accuracy: 0.90672 | valid_accuracy: 0.9111  |  0:00:13s\n",
      "epoch 4  | loss: 0.06245 | train_accuracy: 0.95606 | valid_accuracy: 0.95399 |  0:00:16s\n",
      "epoch 5  | loss: 0.0535  | train_accuracy: 0.97362 | valid_accuracy: 0.97217 |  0:00:20s\n",
      "epoch 6  | loss: 0.05096 | train_accuracy: 0.9701  | valid_accuracy: 0.96989 |  0:00:23s\n",
      "epoch 7  | loss: 0.05051 | train_accuracy: 0.97997 | valid_accuracy: 0.97898 |  0:00:26s\n",
      "epoch 8  | loss: 0.04591 | train_accuracy: 0.98205 | valid_accuracy: 0.97898 |  0:00:30s\n",
      "epoch 9  | loss: 0.04465 | train_accuracy: 0.98498 | valid_accuracy: 0.9841  |  0:00:33s\n",
      "epoch 10 | loss: 0.04294 | train_accuracy: 0.98639 | valid_accuracy: 0.9841  |  0:00:36s\n",
      "epoch 11 | loss: 0.04178 | train_accuracy: 0.98519 | valid_accuracy: 0.98069 |  0:00:40s\n",
      "epoch 12 | loss: 0.03617 | train_accuracy: 0.98787 | valid_accuracy: 0.9841  |  0:00:43s\n",
      "epoch 13 | loss: 0.03451 | train_accuracy: 0.98935 | valid_accuracy: 0.98353 |  0:00:47s\n",
      "epoch 14 | loss: 0.03562 | train_accuracy: 0.98963 | valid_accuracy: 0.98495 |  0:00:50s\n",
      "epoch 15 | loss: 0.03157 | train_accuracy: 0.99034 | valid_accuracy: 0.9841  |  0:00:53s\n",
      "epoch 16 | loss: 0.03354 | train_accuracy: 0.99125 | valid_accuracy: 0.9841  |  0:00:57s\n",
      "epoch 17 | loss: 0.02913 | train_accuracy: 0.99175 | valid_accuracy: 0.98381 |  0:01:00s\n",
      "epoch 18 | loss: 0.02752 | train_accuracy: 0.99263 | valid_accuracy: 0.98637 |  0:01:03s\n",
      "epoch 19 | loss: 0.02899 | train_accuracy: 0.99298 | valid_accuracy: 0.98722 |  0:01:07s\n",
      "epoch 20 | loss: 0.02772 | train_accuracy: 0.99252 | valid_accuracy: 0.9858  |  0:01:10s\n",
      "epoch 21 | loss: 0.02495 | train_accuracy: 0.99309 | valid_accuracy: 0.98608 |  0:01:13s\n",
      "epoch 22 | loss: 0.02502 | train_accuracy: 0.99379 | valid_accuracy: 0.98807 |  0:01:17s\n",
      "epoch 23 | loss: 0.02431 | train_accuracy: 0.99478 | valid_accuracy: 0.98665 |  0:01:20s\n",
      "epoch 24 | loss: 0.02175 | train_accuracy: 0.9952  | valid_accuracy: 0.98836 |  0:01:24s\n",
      "epoch 25 | loss: 0.02027 | train_accuracy: 0.99566 | valid_accuracy: 0.98637 |  0:01:27s\n",
      "epoch 26 | loss: 0.02058 | train_accuracy: 0.99517 | valid_accuracy: 0.98552 |  0:01:30s\n",
      "epoch 27 | loss: 0.02246 | train_accuracy: 0.99661 | valid_accuracy: 0.9875  |  0:01:33s\n",
      "epoch 28 | loss: 0.01875 | train_accuracy: 0.99683 | valid_accuracy: 0.98807 |  0:01:37s\n",
      "epoch 29 | loss: 0.01643 | train_accuracy: 0.99661 | valid_accuracy: 0.98722 |  0:01:40s\n",
      "epoch 30 | loss: 0.01961 | train_accuracy: 0.99654 | valid_accuracy: 0.98637 |  0:01:44s\n",
      "epoch 31 | loss: 0.01565 | train_accuracy: 0.99721 | valid_accuracy: 0.98722 |  0:01:47s\n",
      "epoch 32 | loss: 0.01717 | train_accuracy: 0.99778 | valid_accuracy: 0.98665 |  0:01:51s\n",
      "epoch 33 | loss: 0.01531 | train_accuracy: 0.99743 | valid_accuracy: 0.98722 |  0:01:54s\n",
      "epoch 34 | loss: 0.01585 | train_accuracy: 0.9964  | valid_accuracy: 0.98466 |  0:01:57s\n",
      "epoch 35 | loss: 0.01425 | train_accuracy: 0.99767 | valid_accuracy: 0.98722 |  0:02:01s\n",
      "epoch 36 | loss: 0.01538 | train_accuracy: 0.99753 | valid_accuracy: 0.98608 |  0:02:04s\n",
      "epoch 37 | loss: 0.01427 | train_accuracy: 0.99817 | valid_accuracy: 0.98864 |  0:02:08s\n",
      "epoch 38 | loss: 0.01188 | train_accuracy: 0.99725 | valid_accuracy: 0.98807 |  0:02:11s\n",
      "epoch 39 | loss: 0.01496 | train_accuracy: 0.99806 | valid_accuracy: 0.98807 |  0:02:15s\n",
      "epoch 40 | loss: 0.01353 | train_accuracy: 0.99799 | valid_accuracy: 0.9858  |  0:02:18s\n",
      "epoch 41 | loss: 0.01096 | train_accuracy: 0.99838 | valid_accuracy: 0.99063 |  0:02:21s\n",
      "epoch 42 | loss: 0.01134 | train_accuracy: 0.99855 | valid_accuracy: 0.98864 |  0:02:25s\n",
      "epoch 43 | loss: 0.01135 | train_accuracy: 0.99852 | valid_accuracy: 0.99006 |  0:02:28s\n",
      "epoch 44 | loss: 0.01162 | train_accuracy: 0.99827 | valid_accuracy: 0.98807 |  0:02:32s\n",
      "epoch 45 | loss: 0.0164  | train_accuracy: 0.99813 | valid_accuracy: 0.98836 |  0:02:36s\n",
      "epoch 46 | loss: 0.01609 | train_accuracy: 0.9975  | valid_accuracy: 0.98892 |  0:02:39s\n",
      "epoch 47 | loss: 0.0144  | train_accuracy: 0.99848 | valid_accuracy: 0.98836 |  0:02:42s\n",
      "epoch 48 | loss: 0.01194 | train_accuracy: 0.99803 | valid_accuracy: 0.98921 |  0:02:46s\n",
      "epoch 49 | loss: 0.01036 | train_accuracy: 0.99887 | valid_accuracy: 0.98694 |  0:02:49s\n",
      "epoch 50 | loss: 0.00953 | train_accuracy: 0.9994  | valid_accuracy: 0.98836 |  0:02:52s\n",
      "epoch 51 | loss: 0.00602 | train_accuracy: 0.99926 | valid_accuracy: 0.9875  |  0:02:56s\n",
      "epoch 52 | loss: 0.00805 | train_accuracy: 0.99944 | valid_accuracy: 0.98949 |  0:03:00s\n",
      "epoch 53 | loss: 0.0083  | train_accuracy: 0.99915 | valid_accuracy: 0.98836 |  0:03:03s\n",
      "epoch 54 | loss: 0.00641 | train_accuracy: 0.99947 | valid_accuracy: 0.98807 |  0:03:06s\n",
      "epoch 55 | loss: 0.01037 | train_accuracy: 0.9987  | valid_accuracy: 0.98807 |  0:03:10s\n",
      "epoch 56 | loss: 0.01098 | train_accuracy: 0.99855 | valid_accuracy: 0.98836 |  0:03:13s\n",
      "epoch 57 | loss: 0.01012 | train_accuracy: 0.99894 | valid_accuracy: 0.99034 |  0:03:17s\n",
      "epoch 58 | loss: 0.0065  | train_accuracy: 0.99912 | valid_accuracy: 0.98892 |  0:03:20s\n",
      "epoch 59 | loss: 0.00708 | train_accuracy: 0.99915 | valid_accuracy: 0.99063 |  0:03:24s\n",
      "epoch 60 | loss: 0.00875 | train_accuracy: 0.9994  | valid_accuracy: 0.98864 |  0:03:27s\n",
      "epoch 61 | loss: 0.00952 | train_accuracy: 0.99915 | valid_accuracy: 0.98694 |  0:03:31s\n",
      "epoch 62 | loss: 0.00754 | train_accuracy: 0.99841 | valid_accuracy: 0.98779 |  0:03:34s\n",
      "epoch 63 | loss: 0.01119 | train_accuracy: 0.99919 | valid_accuracy: 0.99034 |  0:03:38s\n",
      "epoch 64 | loss: 0.0112  | train_accuracy: 0.99947 | valid_accuracy: 0.98949 |  0:03:41s\n",
      "epoch 65 | loss: 0.00615 | train_accuracy: 0.99922 | valid_accuracy: 0.98978 |  0:03:45s\n",
      "epoch 66 | loss: 0.00559 | train_accuracy: 0.99965 | valid_accuracy: 0.98864 |  0:03:48s\n",
      "epoch 67 | loss: 0.00624 | train_accuracy: 0.99944 | valid_accuracy: 0.98864 |  0:03:52s\n",
      "epoch 68 | loss: 0.00591 | train_accuracy: 0.99926 | valid_accuracy: 0.98949 |  0:03:55s\n",
      "epoch 69 | loss: 0.00515 | train_accuracy: 0.99947 | valid_accuracy: 0.98722 |  0:03:58s\n",
      "epoch 70 | loss: 0.00625 | train_accuracy: 0.99951 | valid_accuracy: 0.9875  |  0:04:02s\n",
      "epoch 71 | loss: 0.00448 | train_accuracy: 0.99965 | valid_accuracy: 0.98892 |  0:04:05s\n",
      "epoch 72 | loss: 0.00524 | train_accuracy: 0.99929 | valid_accuracy: 0.98949 |  0:04:08s\n",
      "epoch 73 | loss: 0.00656 | train_accuracy: 0.99894 | valid_accuracy: 0.98978 |  0:04:12s\n",
      "epoch 74 | loss: 0.00536 | train_accuracy: 0.99937 | valid_accuracy: 0.99034 |  0:04:15s\n",
      "epoch 75 | loss: 0.00551 | train_accuracy: 0.99926 | valid_accuracy: 0.98836 |  0:04:19s\n",
      "epoch 76 | loss: 0.0068  | train_accuracy: 0.99887 | valid_accuracy: 0.98949 |  0:04:22s\n",
      "epoch 77 | loss: 0.00535 | train_accuracy: 0.99947 | valid_accuracy: 0.98921 |  0:04:26s\n",
      "epoch 78 | loss: 0.0067  | train_accuracy: 0.99926 | valid_accuracy: 0.98978 |  0:04:29s\n",
      "epoch 79 | loss: 0.00435 | train_accuracy: 0.99975 | valid_accuracy: 0.99006 |  0:04:32s\n",
      "epoch 80 | loss: 0.00494 | train_accuracy: 0.99989 | valid_accuracy: 0.98836 |  0:04:36s\n",
      "epoch 81 | loss: 0.00379 | train_accuracy: 0.9994  | valid_accuracy: 0.98892 |  0:04:39s\n",
      "epoch 82 | loss: 0.00389 | train_accuracy: 0.99965 | valid_accuracy: 0.98864 |  0:04:43s\n",
      "epoch 83 | loss: 0.00985 | train_accuracy: 0.99862 | valid_accuracy: 0.9875  |  0:04:46s\n",
      "epoch 84 | loss: 0.00735 | train_accuracy: 0.99937 | valid_accuracy: 0.98836 |  0:04:50s\n",
      "epoch 85 | loss: 0.00452 | train_accuracy: 0.99972 | valid_accuracy: 0.98949 |  0:04:53s\n",
      "epoch 86 | loss: 0.00497 | train_accuracy: 0.99972 | valid_accuracy: 0.98949 |  0:04:56s\n",
      "epoch 87 | loss: 0.00422 | train_accuracy: 0.99972 | valid_accuracy: 0.98978 |  0:05:00s\n",
      "epoch 88 | loss: 0.00258 | train_accuracy: 0.99944 | valid_accuracy: 0.98892 |  0:05:03s\n",
      "epoch 89 | loss: 0.00374 | train_accuracy: 0.99986 | valid_accuracy: 0.98892 |  0:05:06s\n",
      "epoch 90 | loss: 0.0065  | train_accuracy: 0.99926 | valid_accuracy: 0.98921 |  0:05:10s\n",
      "epoch 91 | loss: 0.00811 | train_accuracy: 0.99922 | valid_accuracy: 0.98807 |  0:05:14s\n",
      "\n",
      "Early stopping occurred at epoch 91 with best_epoch = 41 and best_valid_accuracy = 0.99063\n"
     ]
    },
    {
     "name": "stderr",
     "output_type": "stream",
     "text": [
      "/opt/ml/tabnet/pytorch_tabnet/callbacks.py:172: UserWarning: Best weights from best epoch are automatically used!\n",
      "  warnings.warn(wrn_msg)\n"
     ]
    },
    {
     "name": "stdout",
     "output_type": "stream",
     "text": [
      "epoch 0  | loss: 0.3909  | train_accuracy: 0.63822 | valid_accuracy: 0.643   |  0:00:03s\n",
      "epoch 1  | loss: 0.13592 | train_accuracy: 0.70882 | valid_accuracy: 0.7069  |  0:00:06s\n",
      "epoch 2  | loss: 0.07819 | train_accuracy: 0.88588 | valid_accuracy: 0.88327 |  0:00:09s\n",
      "epoch 3  | loss: 0.06432 | train_accuracy: 0.90672 | valid_accuracy: 0.9111  |  0:00:13s\n",
      "epoch 4  | loss: 0.06245 | train_accuracy: 0.95606 | valid_accuracy: 0.95399 |  0:00:16s\n",
      "epoch 5  | loss: 0.0535  | train_accuracy: 0.97362 | valid_accuracy: 0.97217 |  0:00:20s\n",
      "epoch 6  | loss: 0.05096 | train_accuracy: 0.9701  | valid_accuracy: 0.96989 |  0:00:23s\n",
      "epoch 7  | loss: 0.05051 | train_accuracy: 0.97997 | valid_accuracy: 0.97898 |  0:00:26s\n",
      "epoch 8  | loss: 0.04591 | train_accuracy: 0.98205 | valid_accuracy: 0.97898 |  0:00:30s\n",
      "epoch 9  | loss: 0.04465 | train_accuracy: 0.98498 | valid_accuracy: 0.9841  |  0:00:33s\n",
      "epoch 10 | loss: 0.04294 | train_accuracy: 0.98639 | valid_accuracy: 0.9841  |  0:00:37s\n",
      "epoch 11 | loss: 0.04178 | train_accuracy: 0.98519 | valid_accuracy: 0.98069 |  0:00:40s\n",
      "epoch 12 | loss: 0.03617 | train_accuracy: 0.98787 | valid_accuracy: 0.9841  |  0:00:43s\n",
      "epoch 13 | loss: 0.03451 | train_accuracy: 0.98935 | valid_accuracy: 0.98353 |  0:00:47s\n",
      "epoch 14 | loss: 0.03562 | train_accuracy: 0.98963 | valid_accuracy: 0.98495 |  0:00:51s\n",
      "epoch 15 | loss: 0.03157 | train_accuracy: 0.99034 | valid_accuracy: 0.9841  |  0:00:54s\n",
      "epoch 16 | loss: 0.03354 | train_accuracy: 0.99125 | valid_accuracy: 0.9841  |  0:00:58s\n",
      "epoch 17 | loss: 0.02913 | train_accuracy: 0.99175 | valid_accuracy: 0.98381 |  0:01:01s\n",
      "epoch 18 | loss: 0.02752 | train_accuracy: 0.99263 | valid_accuracy: 0.98637 |  0:01:04s\n",
      "epoch 19 | loss: 0.02899 | train_accuracy: 0.99298 | valid_accuracy: 0.98722 |  0:01:07s\n",
      "epoch 20 | loss: 0.02772 | train_accuracy: 0.99252 | valid_accuracy: 0.9858  |  0:01:11s\n",
      "epoch 21 | loss: 0.02495 | train_accuracy: 0.99309 | valid_accuracy: 0.98608 |  0:01:14s\n",
      "epoch 22 | loss: 0.02502 | train_accuracy: 0.99379 | valid_accuracy: 0.98807 |  0:01:18s\n",
      "epoch 23 | loss: 0.02431 | train_accuracy: 0.99478 | valid_accuracy: 0.98665 |  0:01:21s\n",
      "epoch 24 | loss: 0.02175 | train_accuracy: 0.9952  | valid_accuracy: 0.98836 |  0:01:24s\n",
      "epoch 25 | loss: 0.02027 | train_accuracy: 0.99566 | valid_accuracy: 0.98637 |  0:01:28s\n",
      "epoch 26 | loss: 0.02058 | train_accuracy: 0.99517 | valid_accuracy: 0.98552 |  0:01:31s\n",
      "epoch 27 | loss: 0.02246 | train_accuracy: 0.99661 | valid_accuracy: 0.9875  |  0:01:35s\n",
      "epoch 28 | loss: 0.01875 | train_accuracy: 0.99683 | valid_accuracy: 0.98807 |  0:01:38s\n",
      "epoch 29 | loss: 0.01643 | train_accuracy: 0.99661 | valid_accuracy: 0.98722 |  0:01:41s\n",
      "epoch 30 | loss: 0.01961 | train_accuracy: 0.99654 | valid_accuracy: 0.98637 |  0:01:45s\n",
      "epoch 31 | loss: 0.01565 | train_accuracy: 0.99721 | valid_accuracy: 0.98722 |  0:01:48s\n",
      "epoch 32 | loss: 0.01717 | train_accuracy: 0.99778 | valid_accuracy: 0.98665 |  0:01:52s\n",
      "epoch 33 | loss: 0.01531 | train_accuracy: 0.99743 | valid_accuracy: 0.98722 |  0:01:55s\n",
      "epoch 34 | loss: 0.01585 | train_accuracy: 0.9964  | valid_accuracy: 0.98466 |  0:01:59s\n",
      "epoch 35 | loss: 0.01425 | train_accuracy: 0.99767 | valid_accuracy: 0.98722 |  0:02:02s\n",
      "epoch 36 | loss: 0.01538 | train_accuracy: 0.99753 | valid_accuracy: 0.98608 |  0:02:06s\n",
      "epoch 37 | loss: 0.01427 | train_accuracy: 0.99817 | valid_accuracy: 0.98864 |  0:02:09s\n",
      "epoch 38 | loss: 0.01188 | train_accuracy: 0.99725 | valid_accuracy: 0.98807 |  0:02:12s\n",
      "epoch 39 | loss: 0.01496 | train_accuracy: 0.99806 | valid_accuracy: 0.98807 |  0:02:16s\n",
      "epoch 40 | loss: 0.01353 | train_accuracy: 0.99799 | valid_accuracy: 0.9858  |  0:02:19s\n",
      "epoch 41 | loss: 0.01096 | train_accuracy: 0.99838 | valid_accuracy: 0.99063 |  0:02:23s\n",
      "epoch 42 | loss: 0.01134 | train_accuracy: 0.99855 | valid_accuracy: 0.98864 |  0:02:26s\n",
      "epoch 43 | loss: 0.01135 | train_accuracy: 0.99852 | valid_accuracy: 0.99006 |  0:02:30s\n",
      "epoch 44 | loss: 0.01162 | train_accuracy: 0.99827 | valid_accuracy: 0.98807 |  0:02:33s\n",
      "epoch 45 | loss: 0.0164  | train_accuracy: 0.99813 | valid_accuracy: 0.98836 |  0:02:36s\n",
      "epoch 46 | loss: 0.01609 | train_accuracy: 0.9975  | valid_accuracy: 0.98892 |  0:02:40s\n",
      "epoch 47 | loss: 0.0144  | train_accuracy: 0.99848 | valid_accuracy: 0.98836 |  0:02:44s\n",
      "epoch 48 | loss: 0.01194 | train_accuracy: 0.99803 | valid_accuracy: 0.98921 |  0:02:47s\n",
      "epoch 49 | loss: 0.01036 | train_accuracy: 0.99887 | valid_accuracy: 0.98694 |  0:02:50s\n",
      "epoch 50 | loss: 0.00953 | train_accuracy: 0.9994  | valid_accuracy: 0.98836 |  0:02:54s\n",
      "epoch 51 | loss: 0.00602 | train_accuracy: 0.99926 | valid_accuracy: 0.9875  |  0:02:57s\n",
      "epoch 52 | loss: 0.00805 | train_accuracy: 0.99944 | valid_accuracy: 0.98949 |  0:03:00s\n",
      "epoch 53 | loss: 0.0083  | train_accuracy: 0.99915 | valid_accuracy: 0.98836 |  0:03:04s\n",
      "epoch 54 | loss: 0.00641 | train_accuracy: 0.99947 | valid_accuracy: 0.98807 |  0:03:07s\n",
      "epoch 55 | loss: 0.01037 | train_accuracy: 0.9987  | valid_accuracy: 0.98807 |  0:03:11s\n",
      "epoch 56 | loss: 0.01098 | train_accuracy: 0.99855 | valid_accuracy: 0.98836 |  0:03:14s\n",
      "epoch 57 | loss: 0.01012 | train_accuracy: 0.99894 | valid_accuracy: 0.99034 |  0:03:18s\n",
      "epoch 58 | loss: 0.0065  | train_accuracy: 0.99912 | valid_accuracy: 0.98892 |  0:03:21s\n",
      "epoch 59 | loss: 0.00708 | train_accuracy: 0.99915 | valid_accuracy: 0.99063 |  0:03:25s\n",
      "epoch 60 | loss: 0.00875 | train_accuracy: 0.9994  | valid_accuracy: 0.98864 |  0:03:28s\n",
      "epoch 61 | loss: 0.00952 | train_accuracy: 0.99915 | valid_accuracy: 0.98694 |  0:03:31s\n",
      "epoch 62 | loss: 0.00754 | train_accuracy: 0.99841 | valid_accuracy: 0.98779 |  0:03:35s\n",
      "epoch 63 | loss: 0.01119 | train_accuracy: 0.99919 | valid_accuracy: 0.99034 |  0:03:38s\n",
      "epoch 64 | loss: 0.0112  | train_accuracy: 0.99947 | valid_accuracy: 0.98949 |  0:03:42s\n",
      "epoch 65 | loss: 0.00615 | train_accuracy: 0.99922 | valid_accuracy: 0.98978 |  0:03:45s\n",
      "epoch 66 | loss: 0.00559 | train_accuracy: 0.99965 | valid_accuracy: 0.98864 |  0:03:49s\n",
      "epoch 67 | loss: 0.00624 | train_accuracy: 0.99944 | valid_accuracy: 0.98864 |  0:03:52s\n",
      "epoch 68 | loss: 0.00591 | train_accuracy: 0.99926 | valid_accuracy: 0.98949 |  0:03:56s\n",
      "epoch 69 | loss: 0.00515 | train_accuracy: 0.99947 | valid_accuracy: 0.98722 |  0:03:59s\n",
      "epoch 70 | loss: 0.00625 | train_accuracy: 0.99951 | valid_accuracy: 0.9875  |  0:04:03s\n",
      "epoch 71 | loss: 0.00448 | train_accuracy: 0.99965 | valid_accuracy: 0.98892 |  0:04:07s\n",
      "epoch 72 | loss: 0.00524 | train_accuracy: 0.99929 | valid_accuracy: 0.98949 |  0:04:10s\n",
      "epoch 73 | loss: 0.00656 | train_accuracy: 0.99894 | valid_accuracy: 0.98978 |  0:04:13s\n",
      "epoch 74 | loss: 0.00536 | train_accuracy: 0.99937 | valid_accuracy: 0.99034 |  0:04:17s\n",
      "epoch 75 | loss: 0.00551 | train_accuracy: 0.99926 | valid_accuracy: 0.98836 |  0:04:21s\n",
      "epoch 76 | loss: 0.0068  | train_accuracy: 0.99887 | valid_accuracy: 0.98949 |  0:04:24s\n",
      "epoch 77 | loss: 0.00535 | train_accuracy: 0.99947 | valid_accuracy: 0.98921 |  0:04:28s\n",
      "epoch 78 | loss: 0.0067  | train_accuracy: 0.99926 | valid_accuracy: 0.98978 |  0:04:31s\n",
      "epoch 79 | loss: 0.00435 | train_accuracy: 0.99975 | valid_accuracy: 0.99006 |  0:04:35s\n",
      "epoch 80 | loss: 0.00494 | train_accuracy: 0.99989 | valid_accuracy: 0.98836 |  0:04:38s\n",
      "epoch 81 | loss: 0.00379 | train_accuracy: 0.9994  | valid_accuracy: 0.98892 |  0:04:42s\n",
      "epoch 82 | loss: 0.00389 | train_accuracy: 0.99965 | valid_accuracy: 0.98864 |  0:04:45s\n",
      "epoch 83 | loss: 0.00985 | train_accuracy: 0.99862 | valid_accuracy: 0.9875  |  0:04:49s\n",
      "epoch 84 | loss: 0.00735 | train_accuracy: 0.99937 | valid_accuracy: 0.98836 |  0:04:52s\n",
      "epoch 85 | loss: 0.00452 | train_accuracy: 0.99972 | valid_accuracy: 0.98949 |  0:04:56s\n",
      "epoch 86 | loss: 0.00497 | train_accuracy: 0.99972 | valid_accuracy: 0.98949 |  0:04:59s\n",
      "epoch 87 | loss: 0.00422 | train_accuracy: 0.99972 | valid_accuracy: 0.98978 |  0:05:03s\n",
      "epoch 88 | loss: 0.00258 | train_accuracy: 0.99944 | valid_accuracy: 0.98892 |  0:05:06s\n",
      "epoch 89 | loss: 0.00374 | train_accuracy: 0.99986 | valid_accuracy: 0.98892 |  0:05:09s\n",
      "epoch 90 | loss: 0.0065  | train_accuracy: 0.99926 | valid_accuracy: 0.98921 |  0:05:13s\n",
      "epoch 91 | loss: 0.00811 | train_accuracy: 0.99922 | valid_accuracy: 0.98807 |  0:05:16s\n",
      "\n",
      "Early stopping occurred at epoch 91 with best_epoch = 41 and best_valid_accuracy = 0.99063\n"
     ]
    },
    {
     "name": "stderr",
     "output_type": "stream",
     "text": [
      "/opt/ml/tabnet/pytorch_tabnet/callbacks.py:172: UserWarning: Best weights from best epoch are automatically used!\n",
      "  warnings.warn(wrn_msg)\n"
     ]
    }
   ],
   "source": [
    "# This illustrates the warm_start=False behaviour\n",
    "save_history = []\n",
    "for _ in range(2):\n",
    "    clf.fit(\n",
    "        X_train=X_train, y_train=y_train,\n",
    "        eval_set=[(X_train, y_train), (X_valid, y_valid)],\n",
    "        eval_name=['train', 'valid'],\n",
    "        eval_metric=['accuracy'],\n",
    "        max_epochs=max_epochs , patience=50,\n",
    "        batch_size=1024, virtual_batch_size=128,\n",
    "        num_workers=0,\n",
    "        weights=1,\n",
    "        drop_last=False\n",
    "    )\n",
    "    save_history.append(clf.history[\"valid_accuracy\"])\n",
    "    \n",
    "assert(np.all(np.array(save_history[0]==np.array(save_history[1]))))"
   ]
  },
  {
   "cell_type": "code",
   "execution_count": 83,
   "metadata": {},
   "outputs": [
    {
     "data": {
      "text/plain": [
       "[<matplotlib.lines.Line2D at 0x7ff205758fd0>]"
      ]
     },
     "execution_count": 83,
     "metadata": {},
     "output_type": "execute_result"
    },
    {
     "data": {
      "image/png": "[encoded data removed]",
      "text/plain": [
       "<Figure size 432x288 with 1 Axes>"
      ]
     },
     "metadata": {
      "needs_background": "light"
     },
     "output_type": "display_data"
    }
   ],
   "source": [
    "# plot losses\n",
    "plt.plot(clf.history['loss'])"
   ]
  },
  {
   "cell_type": "code",
   "execution_count": 84,
   "metadata": {},
   "outputs": [
    {
     "data": {
      "text/plain": [
       "[<matplotlib.lines.Line2D at 0x7ff205311610>]"
      ]
     },
     "execution_count": 84,
     "metadata": {},
     "output_type": "execute_result"
    },
    {
     "data": {
      "image/png": "[encoded data removed]",
      "text/plain": [
       "<Figure size 432x288 with 1 Axes>"
      ]
     },
     "metadata": {
      "needs_background": "light"
     },
     "output_type": "display_data"
    }
   ],
   "source": [
    "# plot auc\n",
    "plt.plot(clf.history['train_accuracy'])\n",
    "plt.plot(clf.history['valid_accuracy'])"
   ]
  },
  {
   "cell_type": "code",
   "execution_count": 85,
   "metadata": {},
   "outputs": [
    {
     "data": {
      "text/plain": [
       "[<matplotlib.lines.Line2D at 0x7ff204f80410>]"
      ]
     },
     "execution_count": 85,
     "metadata": {},
     "output_type": "execute_result"
    },
    {
     "data": {
      "image/png": "[encoded data removed]",
      "text/plain": [
       "<Figure size 432x288 with 1 Axes>"
      ]
     },
     "metadata": {
      "needs_background": "light"
     },
     "output_type": "display_data"
    }
   ],
   "source": [
    "# plot learning rates\n",
    "plt.plot(clf.history['lr'])"
   ]
  },
  {
   "cell_type": "markdown",
   "metadata": {},
   "source": [
    "## Predictions"
   ]
  },
  {
   "cell_type": "code",
   "execution_count": 18,
   "metadata": {},
   "outputs": [
    {
     "name": "stdout",
     "output_type": "stream",
     "text": [
      "BEST VALID SCORE FOR LABEL_CHALLENGER_I_MatchData_VER7 : 0.9994308518020067\n",
      "FINAL TEST SCORE FOR LABEL_CHALLENGER_I_MatchData_VER7 : 0.9983185151274205\n"
     ]
    }
   ],
   "source": [
    "preds = clf.predict_proba(X_test)\n",
    "test_auc = roc_auc_score(y_score=preds[:,1], y_true=y_test)\n",
    "\n",
    "\n",
    "preds_valid = clf.predict_proba(X_valid)\n",
    "valid_auc = roc_auc_score(y_score=preds_valid[:,1], y_true=y_valid)\n",
    "\n",
    "print(f\"BEST VALID SCORE FOR {dataset_name} : {clf.best_cost}\")\n",
    "print(f\"FINAL TEST SCORE FOR {dataset_name} : {test_auc}\")"
   ]
  },
  {
   "cell_type": "code",
   "execution_count": 19,
   "metadata": {},
   "outputs": [],
   "source": [
    "# check that best weights are used\n",
    "assert np.isclose(valid_auc, np.max(clf.history['valid_auc']), atol=1e-6)"
   ]
  },
  {
   "cell_type": "code",
   "execution_count": 20,
   "metadata": {},
   "outputs": [
    {
     "data": {
      "text/plain": [
       "array(['win', 'lose', 'lose', ..., 'lose', 'lose', 'win'], dtype='<U4')"
      ]
     },
     "execution_count": 20,
     "metadata": {},
     "output_type": "execute_result"
    }
   ],
   "source": [
    "clf.predict(X_test)"
   ]
  },
  {
   "cell_type": "markdown",
   "metadata": {},
   "source": [
    "# Save and load Model"
   ]
  },
  {
   "cell_type": "code",
   "execution_count": 21,
   "metadata": {},
   "outputs": [
    {
     "name": "stdout",
     "output_type": "stream",
     "text": [
      "Successfully saved model at ./tabnet_model_test_1.zip\n"
     ]
    }
   ],
   "source": [
    "# save tabnet model\n",
    "saving_path_name = \"./tabnet_model_test_1\"\n",
    "saved_filepath = clf.save_model(saving_path_name)"
   ]
  },
  {
   "cell_type": "code",
   "execution_count": 22,
   "metadata": {},
   "outputs": [
    {
     "name": "stderr",
     "output_type": "stream",
     "text": [
      "/opt/ml/tabnet/pytorch_tabnet/abstract_model.py:75: UserWarning: Device used : cuda\n",
      "  warnings.warn(f\"Device used : {self.device}\")\n"
     ]
    }
   ],
   "source": [
    "# define new model with basic parameters and load state dict weights\n",
    "loaded_clf = TabNetClassifier()\n",
    "loaded_clf.load_model(saved_filepath)"
   ]
  },
  {
   "cell_type": "code",
   "execution_count": 23,
   "metadata": {},
   "outputs": [
    {
     "name": "stdout",
     "output_type": "stream",
     "text": [
      "FINAL TEST SCORE FOR LABEL_CHALLENGER_I_MatchData_VER7 : 0.9983185151274205\n"
     ]
    }
   ],
   "source": [
    "loaded_preds = loaded_clf.predict_proba(X_test)\n",
    "loaded_test_auc = roc_auc_score(y_score=loaded_preds[:,1], y_true=y_test)\n",
    "\n",
    "print(f\"FINAL TEST SCORE FOR {dataset_name} : {loaded_test_auc}\")"
   ]
  },
  {
   "cell_type": "code",
   "execution_count": 24,
   "metadata": {},
   "outputs": [],
   "source": [
    "assert(test_auc == loaded_test_auc)"
   ]
  },
  {
   "cell_type": "code",
   "execution_count": 25,
   "metadata": {},
   "outputs": [
    {
     "data": {
      "text/plain": [
       "array(['win', 'lose', 'lose', ..., 'lose', 'lose', 'win'], dtype='<U4')"
      ]
     },
     "execution_count": 25,
     "metadata": {},
     "output_type": "execute_result"
    }
   ],
   "source": [
    "loaded_clf.predict(X_test)"
   ]
  },
  {
   "cell_type": "markdown",
   "metadata": {},
   "source": [
    "# Global explainability : feat importance summing to 1"
   ]
  },
  {
   "cell_type": "code",
   "execution_count": 26,
   "metadata": {},
   "outputs": [
    {
     "data": {
      "text/plain": [
       "(270,)"
      ]
     },
     "execution_count": 26,
     "metadata": {},
     "output_type": "execute_result"
    }
   ],
   "source": [
    "clf.feature_importances_.shape"
   ]
  },
  {
   "cell_type": "markdown",
   "metadata": {},
   "source": [
    "# Local explainability and masks"
   ]
  },
  {
   "cell_type": "code",
   "execution_count": 27,
   "metadata": {},
   "outputs": [],
   "source": [
    "explain_matrix, masks = clf.explain(X_test)"
   ]
  },
  {
   "cell_type": "code",
   "execution_count": 28,
   "metadata": {},
   "outputs": [
    {
     "data": {
      "image/png": "[encoded data removed]",
      "text/plain": [
       "<Figure size 1440x1440 with 3 Axes>"
      ]
     },
     "metadata": {
      "needs_background": "light"
     },
     "output_type": "display_data"
    }
   ],
   "source": [
    "fig, axs = plt.subplots(1, 3, figsize=(20,20))\n",
    "\n",
    "for i in range(3):\n",
    "    axs[i].imshow(masks[i][:50])\n",
    "    axs[i].set_title(f\"mask {i}\")\n"
   ]
  },
  {
   "cell_type": "code",
   "execution_count": 76,
   "metadata": {},
   "outputs": [],
   "source": [
    "t = torch.sum(torch.tensor(explain_matrix, dtype=torch.float32), dim=0).view(1,-1)"
   ]
  },
  {
   "cell_type": "code",
   "execution_count": 77,
   "metadata": {},
   "outputs": [],
   "source": [
    "max_M_explains = [t[0].tolist().index(i) for i in sorted(t[0].tolist(), reverse=True)[:5]]"
   ]
  },
  {
   "cell_type": "code",
   "execution_count": 78,
   "metadata": {},
   "outputs": [
    {
     "data": {
      "text/plain": [
       "['turretKills_2_l',\n",
       " 'totalHeal_7_l',\n",
       " 'goldEarned_5_l',\n",
       " 'totalTimeSpentDead_1_l',\n",
       " 'totalDamageTaken_8_l']"
      ]
     },
     "execution_count": 78,
     "metadata": {},
     "output_type": "execute_result"
    }
   ],
   "source": [
    "[train.columns[i] for i in max_M_explains]"
   ]
  },
  {
   "cell_type": "code",
   "execution_count": 79,
   "metadata": {},
   "outputs": [],
   "source": [
    "def Equalize(img: Image) -> Image:\n",
    "    return PIL.ImageOps.equalize(img)"
   ]
  },
  {
   "cell_type": "code",
   "execution_count": 80,
   "metadata": {},
   "outputs": [
    {
     "data": {
      "image/png": "[encoded data removed]",
      "text/plain": [
       "<Figure size 1080x720 with 2 Axes>"
      ]
     },
     "metadata": {
      "needs_background": "light"
     },
     "output_type": "display_data"
    },
    {
     "name": "stdout",
     "output_type": "stream",
     "text": [
      "<PIL.Image.Image image mode=L size=270x1 at 0x7FF205556350>\n"
     ]
    }
   ],
   "source": [
    "import matplotlib.pyplot as plt\n",
    "\n",
    "import PIL\n",
    "from PIL import Image\n",
    "\n",
    "from torchvision.transforms.functional import to_pil_image\n",
    "\n",
    "fig, axes = plt.subplots(2, 1, figsize=(15,10))\n",
    "\n",
    "axes[0].set_xlim(0,270)\n",
    "axes[0].set_xticks([i*27 for i in range(10)])\n",
    "axes[0].bar(range(len(t[0])), t[0])\n",
    "\n",
    "axes[1].imshow(Equalize(to_pil_image(t).resize((350,100))), cmap='gray')\n",
    "plt.show()\n",
    "print(to_pil_image(t))"
   ]
  },
  {
   "cell_type": "markdown",
   "metadata": {},
   "source": [
    "# XGB"
   ]
  },
  {
   "cell_type": "code",
   "execution_count": 29,
   "metadata": {},
   "outputs": [],
   "source": [
    "#pip install xgboost"
   ]
  },
  {
   "cell_type": "code",
   "execution_count": 30,
   "metadata": {
    "scrolled": true
   },
   "outputs": [
    {
     "name": "stderr",
     "output_type": "stream",
     "text": [
      "/opt/conda/envs/lightweight/lib/python3.7/site-packages/xgboost/sklearn.py:1224: UserWarning: The use of label encoder in XGBClassifier is deprecated and will be removed in a future release. To remove this warning, do the following: 1) Pass option use_label_encoder=False when constructing XGBClassifier object; and 2) Encode your labels (y) as integers starting with 0, i.e. 0, 1, 2, ..., [num_class - 1].\n",
      "  warnings.warn(label_encoder_deprecation_msg, UserWarning)\n"
     ]
    },
    {
     "name": "stdout",
     "output_type": "stream",
     "text": [
      "[0]\tvalidation_0-logloss:0.61476\n",
      "[10]\tvalidation_0-logloss:0.24613\n",
      "[20]\tvalidation_0-logloss:0.12779\n",
      "[30]\tvalidation_0-logloss:0.07906\n",
      "[40]\tvalidation_0-logloss:0.05781\n",
      "[50]\tvalidation_0-logloss:0.04708\n",
      "[60]\tvalidation_0-logloss:0.04115\n",
      "[70]\tvalidation_0-logloss:0.03804\n",
      "[80]\tvalidation_0-logloss:0.03594\n",
      "[90]\tvalidation_0-logloss:0.03427\n",
      "[100]\tvalidation_0-logloss:0.03357\n",
      "[110]\tvalidation_0-logloss:0.03288\n",
      "[120]\tvalidation_0-logloss:0.03259\n",
      "[130]\tvalidation_0-logloss:0.03221\n",
      "[140]\tvalidation_0-logloss:0.03185\n",
      "[150]\tvalidation_0-logloss:0.03154\n",
      "[160]\tvalidation_0-logloss:0.03173\n",
      "[170]\tvalidation_0-logloss:0.03141\n",
      "[180]\tvalidation_0-logloss:0.03133\n",
      "[190]\tvalidation_0-logloss:0.03137\n",
      "[200]\tvalidation_0-logloss:0.03146\n",
      "[210]\tvalidation_0-logloss:0.03148\n",
      "[220]\tvalidation_0-logloss:0.03143\n",
      "[230]\tvalidation_0-logloss:0.03153\n",
      "[240]\tvalidation_0-logloss:0.03136\n",
      "[250]\tvalidation_0-logloss:0.03145\n",
      "[260]\tvalidation_0-logloss:0.03154\n",
      "[270]\tvalidation_0-logloss:0.03168\n",
      "[280]\tvalidation_0-logloss:0.03168\n",
      "[290]\tvalidation_0-logloss:0.03153\n",
      "[300]\tvalidation_0-logloss:0.03152\n",
      "[310]\tvalidation_0-logloss:0.03146\n",
      "[320]\tvalidation_0-logloss:0.03152\n",
      "[330]\tvalidation_0-logloss:0.03163\n",
      "[340]\tvalidation_0-logloss:0.03153\n",
      "[350]\tvalidation_0-logloss:0.03154\n",
      "[360]\tvalidation_0-logloss:0.03155\n",
      "[370]\tvalidation_0-logloss:0.03170\n",
      "[376]\tvalidation_0-logloss:0.03181\n"
     ]
    },
    {
     "data": {
      "text/plain": [
       "XGBClassifier(base_score=0.5, booster='gbtree', colsample_bylevel=1,\n",
       "              colsample_bynode=1, colsample_bytree=1, enable_categorical=False,\n",
       "              gamma=0, gpu_id=-1, importance_type=None,\n",
       "              interaction_constraints='', learning_rate=0.1, max_delta_step=0,\n",
       "              max_depth=8, min_child_weight=1, missing=nan,\n",
       "              monotone_constraints='()', n_estimators=1000, n_jobs=-1,\n",
       "              nthread=8, num_parallel_tree=1, predictor='auto', random_state=0,\n",
       "              reg_alpha=0, reg_lambda=1, scale_pos_weight=1, seed=0,\n",
       "              silent=None, subsample=0.7, tree_method='exact',\n",
       "              validate_parameters=1, ...)"
      ]
     },
     "execution_count": 30,
     "metadata": {},
     "output_type": "execute_result"
    }
   ],
   "source": [
    "from xgboost import XGBClassifier\n",
    "\n",
    "clf_xgb = XGBClassifier(max_depth=8,\n",
    "    learning_rate=0.1,\n",
    "    n_estimators=1000,\n",
    "    verbosity=0,\n",
    "    silent=None,\n",
    "    objective='binary:logistic',\n",
    "    booster='gbtree',\n",
    "    n_jobs=-1,\n",
    "    nthread=None,\n",
    "    gamma=0,\n",
    "    min_child_weight=1,\n",
    "    max_delta_step=0,\n",
    "    subsample=0.7,\n",
    "    colsample_bytree=1,\n",
    "    colsample_bylevel=1,\n",
    "    colsample_bynode=1,\n",
    "    reg_alpha=0,\n",
    "    reg_lambda=1,\n",
    "    scale_pos_weight=1,\n",
    "    base_score=0.5,\n",
    "    random_state=0,\n",
    "    seed=None,)\n",
    "\n",
    "clf_xgb.fit(X_train, y_train,\n",
    "        eval_set=[(X_valid, y_valid)],\n",
    "        early_stopping_rounds=200,\n",
    "        verbose=10)"
   ]
  },
  {
   "cell_type": "code",
   "execution_count": 31,
   "metadata": {},
   "outputs": [
    {
     "name": "stdout",
     "output_type": "stream",
     "text": [
      "0.9992318839176502\n",
      "0.9988648210169546\n"
     ]
    }
   ],
   "source": [
    "preds = np.array(clf_xgb.predict_proba(X_valid))\n",
    "valid_auc = roc_auc_score(y_score=preds[:,1], y_true=y_valid)\n",
    "print(valid_auc)\n",
    "\n",
    "preds = np.array(clf_xgb.predict_proba(X_test))\n",
    "test_auc = roc_auc_score(y_score=preds[:,1], y_true=y_test)\n",
    "print(test_auc)"
   ]
  },
  {
   "cell_type": "code",
   "execution_count": null,
   "metadata": {},
   "outputs": [],
   "source": []
  }
 ],
 "metadata": {
  "kernelspec": {
   "display_name": "Python 3",
   "language": "python",
   "name": "python3"
  },
  "language_info": {
   "codemirror_mode": {
    "name": "ipython",
    "version": 3
   },
   "file_extension": ".py",
   "mimetype": "text/x-python",
   "name": "python",
   "nbconvert_exporter": "python",
   "pygments_lexer": "ipython3",
   "version": "3.7.11"
  },
  "toc": {
   "base_numbering": 1,
   "nav_menu": {},
   "number_sections": true,
   "sideBar": true,
   "skip_h1_title": false,
   "title_cell": "Table of Contents",
   "title_sidebar": "Contents",
   "toc_cell": false,
   "toc_position": {},
   "toc_section_display": true,
   "toc_window_display": false
  }
 },
 "nbformat": 4,
 "nbformat_minor": 4
}
