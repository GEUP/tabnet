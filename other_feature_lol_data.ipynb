{
 "cells": [
  {
   "cell_type": "code",
   "execution_count": 1,
   "metadata": {},
   "outputs": [],
   "source": [
    "from pytorch_tabnet.tab_model import TabNetClassifier\n",
    "\n",
    "import torch\n",
    "from sklearn.preprocessing import LabelEncoder\n",
    "from sklearn.metrics import roc_auc_score, accuracy_score\n",
    "\n",
    "import pandas as pd\n",
    "import numpy as np\n",
    "np.random.seed(0)\n",
    "\n",
    "\n",
    "import os\n",
    "import wget\n",
    "from pathlib import Path\n",
    "\n",
    "from datasets import load_dataset\n",
    "\n",
    "from matplotlib import pyplot as plt\n",
    "%matplotlib inline"
   ]
  },
  {
   "cell_type": "markdown",
   "metadata": {},
   "source": [
    "# Download census-income dataset"
   ]
  },
  {
   "cell_type": "code",
   "execution_count": 2,
   "metadata": {},
   "outputs": [],
   "source": [
    "dataset_name = 'dataset_players_statistics'\n",
    "out = Path(os.getcwd()+'/data/'+dataset_name+'.csv')"
   ]
  },
  {
   "cell_type": "markdown",
   "metadata": {},
   "source": [
    "# Load data and split"
   ]
  },
  {
   "cell_type": "code",
   "execution_count": 3,
   "metadata": {},
   "outputs": [
    {
     "data": {
      "text/html": [
       "<div>\n",
       "<style scoped>\n",
       "    .dataframe tbody tr th:only-of-type {\n",
       "        vertical-align: middle;\n",
       "    }\n",
       "\n",
       "    .dataframe tbody tr th {\n",
       "        vertical-align: top;\n",
       "    }\n",
       "\n",
       "    .dataframe thead th {\n",
       "        text-align: right;\n",
       "    }\n",
       "</style>\n",
       "<table border=\"1\" class=\"dataframe\">\n",
       "  <thead>\n",
       "    <tr style=\"text-align: right;\">\n",
       "      <th></th>\n",
       "      <th>game</th>\n",
       "      <th>bluetopgp</th>\n",
       "      <th>bluetopwr</th>\n",
       "      <th>bluetopkda</th>\n",
       "      <th>bluejunglegp</th>\n",
       "      <th>bluejunglewr</th>\n",
       "      <th>bluejunglekda</th>\n",
       "      <th>bluemidgp</th>\n",
       "      <th>bluemidwr</th>\n",
       "      <th>bluemidkda</th>\n",
       "      <th>...</th>\n",
       "      <th>redmidwr</th>\n",
       "      <th>redmidkda</th>\n",
       "      <th>redadcgp</th>\n",
       "      <th>redadcwr</th>\n",
       "      <th>redadckda</th>\n",
       "      <th>redsupportgp</th>\n",
       "      <th>redsupportwr</th>\n",
       "      <th>redsupportkda</th>\n",
       "      <th>result</th>\n",
       "      <th>Set</th>\n",
       "    </tr>\n",
       "  </thead>\n",
       "  <tbody>\n",
       "    <tr>\n",
       "      <th>0</th>\n",
       "      <td>ESPORTSTMNT03/1632489</td>\n",
       "      <td>8</td>\n",
       "      <td>0.50</td>\n",
       "      <td>2.9</td>\n",
       "      <td>27</td>\n",
       "      <td>0.85</td>\n",
       "      <td>5.9</td>\n",
       "      <td>54</td>\n",
       "      <td>0.74</td>\n",
       "      <td>10.2</td>\n",
       "      <td>...</td>\n",
       "      <td>0.46</td>\n",
       "      <td>3.6</td>\n",
       "      <td>21</td>\n",
       "      <td>0.57</td>\n",
       "      <td>4.3</td>\n",
       "      <td>10</td>\n",
       "      <td>0.60</td>\n",
       "      <td>2.5</td>\n",
       "      <td>0</td>\n",
       "      <td>train</td>\n",
       "    </tr>\n",
       "    <tr>\n",
       "      <th>1</th>\n",
       "      <td>ESPORTSTMNT03/1632500</td>\n",
       "      <td>14</td>\n",
       "      <td>0.36</td>\n",
       "      <td>2.6</td>\n",
       "      <td>63</td>\n",
       "      <td>0.63</td>\n",
       "      <td>5.1</td>\n",
       "      <td>1</td>\n",
       "      <td>0.00</td>\n",
       "      <td>1.0</td>\n",
       "      <td>...</td>\n",
       "      <td>0.70</td>\n",
       "      <td>5.0</td>\n",
       "      <td>10</td>\n",
       "      <td>0.70</td>\n",
       "      <td>5.3</td>\n",
       "      <td>11</td>\n",
       "      <td>0.55</td>\n",
       "      <td>2.8</td>\n",
       "      <td>1</td>\n",
       "      <td>train</td>\n",
       "    </tr>\n",
       "    <tr>\n",
       "      <th>2</th>\n",
       "      <td>ESPORTSTMNT03/1632502</td>\n",
       "      <td>14</td>\n",
       "      <td>0.36</td>\n",
       "      <td>2.6</td>\n",
       "      <td>63</td>\n",
       "      <td>0.63</td>\n",
       "      <td>5.1</td>\n",
       "      <td>4</td>\n",
       "      <td>0.25</td>\n",
       "      <td>2.3</td>\n",
       "      <td>...</td>\n",
       "      <td>0.50</td>\n",
       "      <td>3.8</td>\n",
       "      <td>10</td>\n",
       "      <td>0.70</td>\n",
       "      <td>5.3</td>\n",
       "      <td>11</td>\n",
       "      <td>0.55</td>\n",
       "      <td>2.8</td>\n",
       "      <td>1</td>\n",
       "      <td>train</td>\n",
       "    </tr>\n",
       "    <tr>\n",
       "      <th>3</th>\n",
       "      <td>6909-9183</td>\n",
       "      <td>2</td>\n",
       "      <td>0.00</td>\n",
       "      <td>0.9</td>\n",
       "      <td>5</td>\n",
       "      <td>0.60</td>\n",
       "      <td>3.9</td>\n",
       "      <td>36</td>\n",
       "      <td>0.75</td>\n",
       "      <td>6.2</td>\n",
       "      <td>...</td>\n",
       "      <td>0.67</td>\n",
       "      <td>5.2</td>\n",
       "      <td>43</td>\n",
       "      <td>0.60</td>\n",
       "      <td>6.3</td>\n",
       "      <td>4</td>\n",
       "      <td>0.75</td>\n",
       "      <td>4.5</td>\n",
       "      <td>1</td>\n",
       "      <td>train</td>\n",
       "    </tr>\n",
       "    <tr>\n",
       "      <th>4</th>\n",
       "      <td>6909-9184</td>\n",
       "      <td>16</td>\n",
       "      <td>0.56</td>\n",
       "      <td>2.8</td>\n",
       "      <td>11</td>\n",
       "      <td>0.55</td>\n",
       "      <td>3.6</td>\n",
       "      <td>50</td>\n",
       "      <td>0.64</td>\n",
       "      <td>6.1</td>\n",
       "      <td>...</td>\n",
       "      <td>0.67</td>\n",
       "      <td>5.2</td>\n",
       "      <td>43</td>\n",
       "      <td>0.60</td>\n",
       "      <td>6.3</td>\n",
       "      <td>2</td>\n",
       "      <td>0.50</td>\n",
       "      <td>1.4</td>\n",
       "      <td>1</td>\n",
       "      <td>train</td>\n",
       "    </tr>\n",
       "    <tr>\n",
       "      <th>...</th>\n",
       "      <td>...</td>\n",
       "      <td>...</td>\n",
       "      <td>...</td>\n",
       "      <td>...</td>\n",
       "      <td>...</td>\n",
       "      <td>...</td>\n",
       "      <td>...</td>\n",
       "      <td>...</td>\n",
       "      <td>...</td>\n",
       "      <td>...</td>\n",
       "      <td>...</td>\n",
       "      <td>...</td>\n",
       "      <td>...</td>\n",
       "      <td>...</td>\n",
       "      <td>...</td>\n",
       "      <td>...</td>\n",
       "      <td>...</td>\n",
       "      <td>...</td>\n",
       "      <td>...</td>\n",
       "      <td>...</td>\n",
       "      <td>...</td>\n",
       "    </tr>\n",
       "    <tr>\n",
       "      <th>2835</th>\n",
       "      <td>ESPORTSTMNT02/1726029</td>\n",
       "      <td>6</td>\n",
       "      <td>0.67</td>\n",
       "      <td>2.9</td>\n",
       "      <td>5</td>\n",
       "      <td>0.40</td>\n",
       "      <td>6.1</td>\n",
       "      <td>11</td>\n",
       "      <td>0.45</td>\n",
       "      <td>4.8</td>\n",
       "      <td>...</td>\n",
       "      <td>0.80</td>\n",
       "      <td>3.8</td>\n",
       "      <td>1</td>\n",
       "      <td>0.00</td>\n",
       "      <td>3.0</td>\n",
       "      <td>3</td>\n",
       "      <td>0.67</td>\n",
       "      <td>4.4</td>\n",
       "      <td>0</td>\n",
       "      <td>test</td>\n",
       "    </tr>\n",
       "    <tr>\n",
       "      <th>2836</th>\n",
       "      <td>ESPORTSTMNT02/1726064</td>\n",
       "      <td>5</td>\n",
       "      <td>0.80</td>\n",
       "      <td>4.0</td>\n",
       "      <td>1</td>\n",
       "      <td>1.00</td>\n",
       "      <td>12.0</td>\n",
       "      <td>3</td>\n",
       "      <td>0.67</td>\n",
       "      <td>6.0</td>\n",
       "      <td>...</td>\n",
       "      <td>0.33</td>\n",
       "      <td>1.9</td>\n",
       "      <td>19</td>\n",
       "      <td>0.47</td>\n",
       "      <td>3.7</td>\n",
       "      <td>4</td>\n",
       "      <td>0.75</td>\n",
       "      <td>2.3</td>\n",
       "      <td>0</td>\n",
       "      <td>test</td>\n",
       "    </tr>\n",
       "    <tr>\n",
       "      <th>2837</th>\n",
       "      <td>ESPORTSTMNT02/1726065</td>\n",
       "      <td>12</td>\n",
       "      <td>0.50</td>\n",
       "      <td>2.4</td>\n",
       "      <td>6</td>\n",
       "      <td>0.67</td>\n",
       "      <td>6.0</td>\n",
       "      <td>3</td>\n",
       "      <td>1.00</td>\n",
       "      <td>6.3</td>\n",
       "      <td>...</td>\n",
       "      <td>0.69</td>\n",
       "      <td>7.4</td>\n",
       "      <td>20</td>\n",
       "      <td>0.70</td>\n",
       "      <td>4.3</td>\n",
       "      <td>15</td>\n",
       "      <td>0.53</td>\n",
       "      <td>2.8</td>\n",
       "      <td>0</td>\n",
       "      <td>train</td>\n",
       "    </tr>\n",
       "    <tr>\n",
       "      <th>2838</th>\n",
       "      <td>ESPORTSTMNT02/1726067</td>\n",
       "      <td>5</td>\n",
       "      <td>0.60</td>\n",
       "      <td>2.6</td>\n",
       "      <td>4</td>\n",
       "      <td>0.50</td>\n",
       "      <td>3.0</td>\n",
       "      <td>5</td>\n",
       "      <td>0.60</td>\n",
       "      <td>5.0</td>\n",
       "      <td>...</td>\n",
       "      <td>0.45</td>\n",
       "      <td>4.8</td>\n",
       "      <td>12</td>\n",
       "      <td>0.67</td>\n",
       "      <td>5.0</td>\n",
       "      <td>11</td>\n",
       "      <td>0.73</td>\n",
       "      <td>4.3</td>\n",
       "      <td>1</td>\n",
       "      <td>train</td>\n",
       "    </tr>\n",
       "    <tr>\n",
       "      <th>2839</th>\n",
       "      <td>ESPORTSTMNT02/1735865</td>\n",
       "      <td>4</td>\n",
       "      <td>0.75</td>\n",
       "      <td>2.6</td>\n",
       "      <td>12</td>\n",
       "      <td>0.58</td>\n",
       "      <td>2.9</td>\n",
       "      <td>27</td>\n",
       "      <td>0.74</td>\n",
       "      <td>8.6</td>\n",
       "      <td>...</td>\n",
       "      <td>0.50</td>\n",
       "      <td>4.3</td>\n",
       "      <td>3</td>\n",
       "      <td>0.33</td>\n",
       "      <td>5.0</td>\n",
       "      <td>9</td>\n",
       "      <td>0.22</td>\n",
       "      <td>2.3</td>\n",
       "      <td>0</td>\n",
       "      <td>train</td>\n",
       "    </tr>\n",
       "  </tbody>\n",
       "</table>\n",
       "<p>2840 rows × 33 columns</p>\n",
       "</div>"
      ],
      "text/plain": [
       "                       game  bluetopgp  bluetopwr  bluetopkda  bluejunglegp  \\\n",
       "0     ESPORTSTMNT03/1632489          8       0.50         2.9            27   \n",
       "1     ESPORTSTMNT03/1632500         14       0.36         2.6            63   \n",
       "2     ESPORTSTMNT03/1632502         14       0.36         2.6            63   \n",
       "3                 6909-9183          2       0.00         0.9             5   \n",
       "4                 6909-9184         16       0.56         2.8            11   \n",
       "...                     ...        ...        ...         ...           ...   \n",
       "2835  ESPORTSTMNT02/1726029          6       0.67         2.9             5   \n",
       "2836  ESPORTSTMNT02/1726064          5       0.80         4.0             1   \n",
       "2837  ESPORTSTMNT02/1726065         12       0.50         2.4             6   \n",
       "2838  ESPORTSTMNT02/1726067          5       0.60         2.6             4   \n",
       "2839  ESPORTSTMNT02/1735865          4       0.75         2.6            12   \n",
       "\n",
       "      bluejunglewr  bluejunglekda  bluemidgp  bluemidwr  bluemidkda  ...  \\\n",
       "0             0.85            5.9         54       0.74        10.2  ...   \n",
       "1             0.63            5.1          1       0.00         1.0  ...   \n",
       "2             0.63            5.1          4       0.25         2.3  ...   \n",
       "3             0.60            3.9         36       0.75         6.2  ...   \n",
       "4             0.55            3.6         50       0.64         6.1  ...   \n",
       "...            ...            ...        ...        ...         ...  ...   \n",
       "2835          0.40            6.1         11       0.45         4.8  ...   \n",
       "2836          1.00           12.0          3       0.67         6.0  ...   \n",
       "2837          0.67            6.0          3       1.00         6.3  ...   \n",
       "2838          0.50            3.0          5       0.60         5.0  ...   \n",
       "2839          0.58            2.9         27       0.74         8.6  ...   \n",
       "\n",
       "      redmidwr  redmidkda  redadcgp  redadcwr  redadckda  redsupportgp  \\\n",
       "0         0.46        3.6        21      0.57        4.3            10   \n",
       "1         0.70        5.0        10      0.70        5.3            11   \n",
       "2         0.50        3.8        10      0.70        5.3            11   \n",
       "3         0.67        5.2        43      0.60        6.3             4   \n",
       "4         0.67        5.2        43      0.60        6.3             2   \n",
       "...        ...        ...       ...       ...        ...           ...   \n",
       "2835      0.80        3.8         1      0.00        3.0             3   \n",
       "2836      0.33        1.9        19      0.47        3.7             4   \n",
       "2837      0.69        7.4        20      0.70        4.3            15   \n",
       "2838      0.45        4.8        12      0.67        5.0            11   \n",
       "2839      0.50        4.3         3      0.33        5.0             9   \n",
       "\n",
       "      redsupportwr  redsupportkda  result    Set  \n",
       "0             0.60            2.5       0  train  \n",
       "1             0.55            2.8       1  train  \n",
       "2             0.55            2.8       1  train  \n",
       "3             0.75            4.5       1  train  \n",
       "4             0.50            1.4       1  train  \n",
       "...            ...            ...     ...    ...  \n",
       "2835          0.67            4.4       0   test  \n",
       "2836          0.75            2.3       0   test  \n",
       "2837          0.53            2.8       0  train  \n",
       "2838          0.73            4.3       1  train  \n",
       "2839          0.22            2.3       0  train  \n",
       "\n",
       "[2840 rows x 33 columns]"
      ]
     },
     "execution_count": 3,
     "metadata": {},
     "output_type": "execute_result"
    }
   ],
   "source": [
    "train = pd.read_csv(out)\n",
    "#train = train.drop(['game'], axis=1)\n",
    "target = 'result'\n",
    "if \"Set\" not in train.columns:\n",
    "    train[\"Set\"] = np.random.choice([\"train\", \"valid\", \"test\"], p =[.8, .1, .1], size=(train.shape[0],))\n",
    "\n",
    "train_indices = train[train.Set==\"train\"].index\n",
    "valid_indices = train[train.Set==\"valid\"].index\n",
    "test_indices = train[train.Set==\"test\"].index\n",
    "train"
   ]
  },
  {
   "cell_type": "markdown",
   "metadata": {
    "tags": []
   },
   "source": [
    "# Simple preprocessing\n",
    "\n",
    "Label encode categorical features and fill empty cells."
   ]
  },
  {
   "cell_type": "code",
   "execution_count": 4,
   "metadata": {},
   "outputs": [
    {
     "name": "stdout",
     "output_type": "stream",
     "text": [
      "game 2840\n",
      "bluetopgp 56\n",
      "bluetopwr 74\n",
      "bluetopkda 115\n",
      "bluejunglegp 48\n",
      "bluejunglewr 73\n",
      "bluejunglekda 131\n",
      "bluemidgp 62\n",
      "bluemidwr 78\n",
      "bluemidkda 141\n",
      "blueadcgp 67\n",
      "blueadcwr 80\n",
      "blueadckda 144\n",
      "bluesupportgp 63\n",
      "bluesupportwr 77\n",
      "bluesupportkda 111\n",
      "redtopgp 56\n",
      "redtopwr 77\n",
      "redtopkda 108\n",
      "redjunglegp 49\n",
      "redjunglewr 72\n",
      "redjunglekda 125\n",
      "redmidgp 64\n",
      "redmidwr 73\n",
      "redmidkda 142\n",
      "redadcgp 65\n",
      "redadcwr 80\n",
      "redadckda 135\n",
      "redsupportgp 63\n",
      "redsupportwr 76\n",
      "redsupportkda 110\n",
      "result 2\n",
      "Set 3\n"
     ]
    }
   ],
   "source": [
    "nunique = train.nunique()\n",
    "types = train.dtypes\n",
    "\n",
    "categorical_columns = []\n",
    "categorical_dims =  {}\n",
    "for col in train.columns:\n",
    "    if types[col] == 'object' or nunique[col] < 200:\n",
    "        print(col, train[col].nunique())\n",
    "        l_enc = LabelEncoder()\n",
    "        train[col] = train[col].fillna(\"VV_likely\")\n",
    "        train[col] = l_enc.fit_transform(train[col].values)\n",
    "        categorical_columns.append(col)\n",
    "        categorical_dims[col] = len(l_enc.classes_)\n",
    "    else:\n",
    "        train.fillna(train.loc[train_indices, col].mean(), inplace=True)"
   ]
  },
  {
   "cell_type": "code",
   "execution_count": 5,
   "metadata": {},
   "outputs": [
    {
     "data": {
      "text/plain": [
       "['game',\n",
       " 'bluetopgp',\n",
       " 'bluetopwr',\n",
       " 'bluetopkda',\n",
       " 'bluejunglegp',\n",
       " 'bluejunglewr',\n",
       " 'bluejunglekda',\n",
       " 'bluemidgp',\n",
       " 'bluemidwr',\n",
       " 'bluemidkda',\n",
       " 'blueadcgp',\n",
       " 'blueadcwr',\n",
       " 'blueadckda',\n",
       " 'bluesupportgp',\n",
       " 'bluesupportwr',\n",
       " 'bluesupportkda',\n",
       " 'redtopgp',\n",
       " 'redtopwr',\n",
       " 'redtopkda',\n",
       " 'redjunglegp',\n",
       " 'redjunglewr',\n",
       " 'redjunglekda',\n",
       " 'redmidgp',\n",
       " 'redmidwr',\n",
       " 'redmidkda',\n",
       " 'redadcgp',\n",
       " 'redadcwr',\n",
       " 'redadckda',\n",
       " 'redsupportgp',\n",
       " 'redsupportwr',\n",
       " 'redsupportkda',\n",
       " 'result',\n",
       " 'Set']"
      ]
     },
     "execution_count": 5,
     "metadata": {},
     "output_type": "execute_result"
    }
   ],
   "source": [
    "categorical_columns"
   ]
  },
  {
   "cell_type": "code",
   "execution_count": 6,
   "metadata": {},
   "outputs": [
    {
     "data": {
      "text/plain": [
       "{'game': 2840,\n",
       " 'bluetopgp': 56,\n",
       " 'bluetopwr': 74,\n",
       " 'bluetopkda': 115,\n",
       " 'bluejunglegp': 48,\n",
       " 'bluejunglewr': 73,\n",
       " 'bluejunglekda': 131,\n",
       " 'bluemidgp': 62,\n",
       " 'bluemidwr': 78,\n",
       " 'bluemidkda': 141,\n",
       " 'blueadcgp': 67,\n",
       " 'blueadcwr': 80,\n",
       " 'blueadckda': 144,\n",
       " 'bluesupportgp': 63,\n",
       " 'bluesupportwr': 77,\n",
       " 'bluesupportkda': 111,\n",
       " 'redtopgp': 56,\n",
       " 'redtopwr': 77,\n",
       " 'redtopkda': 108,\n",
       " 'redjunglegp': 49,\n",
       " 'redjunglewr': 72,\n",
       " 'redjunglekda': 125,\n",
       " 'redmidgp': 64,\n",
       " 'redmidwr': 73,\n",
       " 'redmidkda': 142,\n",
       " 'redadcgp': 65,\n",
       " 'redadcwr': 80,\n",
       " 'redadckda': 135,\n",
       " 'redsupportgp': 63,\n",
       " 'redsupportwr': 76,\n",
       " 'redsupportkda': 110,\n",
       " 'result': 2,\n",
       " 'Set': 3}"
      ]
     },
     "execution_count": 6,
     "metadata": {},
     "output_type": "execute_result"
    }
   ],
   "source": [
    "categorical_dims"
   ]
  },
  {
   "cell_type": "code",
   "execution_count": 7,
   "metadata": {},
   "outputs": [],
   "source": [
    "# check that pipeline accepts strings\n",
    "train.loc[train[target]==0, target] = \"lose\"\n",
    "train.loc[train[target]==1, target] = \"win\""
   ]
  },
  {
   "cell_type": "markdown",
   "metadata": {},
   "source": [
    "# Define categorical features for categorical embeddings"
   ]
  },
  {
   "cell_type": "code",
   "execution_count": 8,
   "metadata": {},
   "outputs": [],
   "source": [
    "unused_feat = ['Set']\n",
    "\n",
    "features = [ col for col in train.columns if col not in unused_feat+[target]] \n",
    "\n",
    "cat_idxs = [ i for i, f in enumerate(features) if f in categorical_columns]\n",
    "\n",
    "cat_dims = [ categorical_dims[f] for i, f in enumerate(features) if f in categorical_columns]\n"
   ]
  },
  {
   "cell_type": "markdown",
   "metadata": {},
   "source": [
    "# Network parameters"
   ]
  },
  {
   "cell_type": "code",
   "execution_count": 9,
   "metadata": {},
   "outputs": [
    {
     "name": "stderr",
     "output_type": "stream",
     "text": [
      "/opt/ml/tabnet/pytorch_tabnet/abstract_model.py:75: UserWarning: Device used : cuda\n",
      "  warnings.warn(f\"Device used : {self.device}\")\n"
     ]
    }
   ],
   "source": [
    "tabnet_params = {\"cat_idxs\":cat_idxs,\n",
    "                 \"cat_dims\":cat_dims,\n",
    "                 \"cat_emb_dim\":1,\n",
    "                 \"optimizer_fn\":torch.optim.Adam,\n",
    "                 \"optimizer_params\":dict(lr=2e-2),\n",
    "                 \"scheduler_params\":{\"step_size\":10, # how to use learning rate scheduler\n",
    "                                 \"gamma\":0.9},\n",
    "                 \"scheduler_fn\":torch.optim.lr_scheduler.StepLR,\n",
    "                 \"mask_type\":'sparsemax' # \"sparsemax, entmax\"\n",
    "                }\n",
    "\n",
    "clf = TabNetClassifier(**tabnet_params\n",
    "                      )"
   ]
  },
  {
   "cell_type": "markdown",
   "metadata": {},
   "source": [
    "# Training"
   ]
  },
  {
   "cell_type": "code",
   "execution_count": 10,
   "metadata": {},
   "outputs": [],
   "source": [
    "X_train = train[features].values[train_indices]\n",
    "y_train = train[target].values[train_indices]\n",
    "\n",
    "X_valid = train[features].values[valid_indices]\n",
    "y_valid = train[target].values[valid_indices]\n",
    "\n",
    "X_test = train[features].values[test_indices]\n",
    "y_test = train[target].values[test_indices]"
   ]
  },
  {
   "cell_type": "code",
   "execution_count": 11,
   "metadata": {},
   "outputs": [],
   "source": [
    "max_epochs = 1000 if not os.getenv(\"CI\", False) else 2"
   ]
  },
  {
   "cell_type": "code",
   "execution_count": 12,
   "metadata": {
    "scrolled": true,
    "tags": []
   },
   "outputs": [
    {
     "name": "stdout",
     "output_type": "stream",
     "text": [
      "epoch 0  | loss: 0.85254 | train_accuracy: 0.52606 | valid_accuracy: 0.50903 |  0:00:00s\n",
      "epoch 1  | loss: 0.73418 | train_accuracy: 0.51982 | valid_accuracy: 0.54152 |  0:00:00s\n",
      "epoch 2  | loss: 0.7044  | train_accuracy: 0.54031 | valid_accuracy: 0.54152 |  0:00:00s\n",
      "epoch 3  | loss: 0.68113 | train_accuracy: 0.54254 | valid_accuracy: 0.5343  |  0:00:00s\n",
      "epoch 4  | loss: 0.66472 | train_accuracy: 0.55278 | valid_accuracy: 0.55596 |  0:00:01s\n",
      "epoch 5  | loss: 0.66822 | train_accuracy: 0.58263 | valid_accuracy: 0.56679 |  0:00:01s\n",
      "epoch 6  | loss: 0.65229 | train_accuracy: 0.59733 | valid_accuracy: 0.55596 |  0:00:01s\n",
      "epoch 7  | loss: 0.6563  | train_accuracy: 0.6245  | valid_accuracy: 0.57401 |  0:00:01s\n",
      "epoch 8  | loss: 0.62667 | train_accuracy: 0.62094 | valid_accuracy: 0.58845 |  0:00:02s\n",
      "epoch 9  | loss: 0.625   | train_accuracy: 0.64098 | valid_accuracy: 0.63899 |  0:00:02s\n",
      "epoch 10 | loss: 0.61081 | train_accuracy: 0.65702 | valid_accuracy: 0.66065 |  0:00:02s\n",
      "epoch 11 | loss: 0.59461 | train_accuracy: 0.66904 | valid_accuracy: 0.6426  |  0:00:02s\n",
      "epoch 12 | loss: 0.59423 | train_accuracy: 0.67661 | valid_accuracy: 0.63899 |  0:00:02s\n",
      "epoch 13 | loss: 0.56892 | train_accuracy: 0.68419 | valid_accuracy: 0.66065 |  0:00:03s\n",
      "epoch 14 | loss: 0.55019 | train_accuracy: 0.70334 | valid_accuracy: 0.68231 |  0:00:03s\n",
      "epoch 15 | loss: 0.55191 | train_accuracy: 0.70512 | valid_accuracy: 0.68231 |  0:00:03s\n",
      "epoch 16 | loss: 0.56003 | train_accuracy: 0.69889 | valid_accuracy: 0.68953 |  0:00:03s\n",
      "epoch 17 | loss: 0.5289  | train_accuracy: 0.70022 | valid_accuracy: 0.67148 |  0:00:04s\n",
      "epoch 18 | loss: 0.52946 | train_accuracy: 0.70958 | valid_accuracy: 0.68231 |  0:00:04s\n",
      "epoch 19 | loss: 0.51684 | train_accuracy: 0.71581 | valid_accuracy: 0.71119 |  0:00:04s\n",
      "epoch 20 | loss: 0.49567 | train_accuracy: 0.72472 | valid_accuracy: 0.68953 |  0:00:04s\n",
      "epoch 21 | loss: 0.49568 | train_accuracy: 0.72873 | valid_accuracy: 0.7148  |  0:00:04s\n",
      "epoch 22 | loss: 0.48858 | train_accuracy: 0.73363 | valid_accuracy: 0.69675 |  0:00:05s\n",
      "epoch 23 | loss: 0.48628 | train_accuracy: 0.74699 | valid_accuracy: 0.70036 |  0:00:05s\n",
      "epoch 24 | loss: 0.48192 | train_accuracy: 0.75234 | valid_accuracy: 0.71841 |  0:00:05s\n",
      "epoch 25 | loss: 0.4647  | train_accuracy: 0.75367 | valid_accuracy: 0.72563 |  0:00:05s\n",
      "epoch 26 | loss: 0.46273 | train_accuracy: 0.75546 | valid_accuracy: 0.72924 |  0:00:05s\n",
      "epoch 27 | loss: 0.48001 | train_accuracy: 0.76882 | valid_accuracy: 0.72563 |  0:00:06s\n",
      "epoch 28 | loss: 0.44333 | train_accuracy: 0.76748 | valid_accuracy: 0.69675 |  0:00:06s\n",
      "epoch 29 | loss: 0.4258  | train_accuracy: 0.77327 | valid_accuracy: 0.74368 |  0:00:06s\n",
      "epoch 30 | loss: 0.45401 | train_accuracy: 0.78664 | valid_accuracy: 0.76173 |  0:00:06s\n",
      "epoch 31 | loss: 0.443   | train_accuracy: 0.78753 | valid_accuracy: 0.76534 |  0:00:07s\n",
      "epoch 32 | loss: 0.43081 | train_accuracy: 0.78886 | valid_accuracy: 0.76534 |  0:00:07s\n",
      "epoch 33 | loss: 0.41752 | train_accuracy: 0.80312 | valid_accuracy: 0.76173 |  0:00:07s\n",
      "epoch 34 | loss: 0.39188 | train_accuracy: 0.80713 | valid_accuracy: 0.76534 |  0:00:07s\n",
      "epoch 35 | loss: 0.40847 | train_accuracy: 0.81336 | valid_accuracy: 0.75812 |  0:00:07s\n",
      "epoch 36 | loss: 0.3893  | train_accuracy: 0.81693 | valid_accuracy: 0.76173 |  0:00:08s\n",
      "epoch 37 | loss: 0.37996 | train_accuracy: 0.82361 | valid_accuracy: 0.77256 |  0:00:08s\n",
      "epoch 38 | loss: 0.37809 | train_accuracy: 0.82227 | valid_accuracy: 0.78339 |  0:00:08s\n",
      "epoch 39 | loss: 0.34937 | train_accuracy: 0.8245  | valid_accuracy: 0.787   |  0:00:08s\n",
      "epoch 40 | loss: 0.36745 | train_accuracy: 0.83073 | valid_accuracy: 0.787   |  0:00:09s\n",
      "epoch 41 | loss: 0.34708 | train_accuracy: 0.84009 | valid_accuracy: 0.81227 |  0:00:09s\n",
      "epoch 42 | loss: 0.35779 | train_accuracy: 0.84499 | valid_accuracy: 0.80866 |  0:00:09s\n",
      "epoch 43 | loss: 0.34304 | train_accuracy: 0.85746 | valid_accuracy: 0.81588 |  0:00:09s\n",
      "epoch 44 | loss: 0.32851 | train_accuracy: 0.84811 | valid_accuracy: 0.81227 |  0:00:09s\n",
      "epoch 45 | loss: 0.33769 | train_accuracy: 0.84543 | valid_accuracy: 0.82671 |  0:00:10s\n",
      "epoch 46 | loss: 0.32208 | train_accuracy: 0.849   | valid_accuracy: 0.83032 |  0:00:10s\n",
      "epoch 47 | loss: 0.33258 | train_accuracy: 0.8539  | valid_accuracy: 0.83394 |  0:00:10s\n",
      "epoch 48 | loss: 0.30224 | train_accuracy: 0.86414 | valid_accuracy: 0.83032 |  0:00:11s\n",
      "epoch 49 | loss: 0.30477 | train_accuracy: 0.86949 | valid_accuracy: 0.81949 |  0:00:11s\n",
      "epoch 50 | loss: 0.31224 | train_accuracy: 0.8686  | valid_accuracy: 0.8231  |  0:00:11s\n",
      "epoch 51 | loss: 0.2947  | train_accuracy: 0.86904 | valid_accuracy: 0.81588 |  0:00:11s\n",
      "epoch 52 | loss: 0.2812  | train_accuracy: 0.87082 | valid_accuracy: 0.81949 |  0:00:11s\n",
      "epoch 53 | loss: 0.29652 | train_accuracy: 0.87617 | valid_accuracy: 0.8231  |  0:00:12s\n",
      "epoch 54 | loss: 0.2823  | train_accuracy: 0.88508 | valid_accuracy: 0.81949 |  0:00:12s\n",
      "epoch 55 | loss: 0.28358 | train_accuracy: 0.88686 | valid_accuracy: 0.8231  |  0:00:12s\n",
      "epoch 56 | loss: 0.25843 | train_accuracy: 0.89399 | valid_accuracy: 0.81949 |  0:00:12s\n",
      "epoch 57 | loss: 0.27279 | train_accuracy: 0.89354 | valid_accuracy: 0.80505 |  0:00:12s\n",
      "epoch 58 | loss: 0.25996 | train_accuracy: 0.90245 | valid_accuracy: 0.80505 |  0:00:13s\n",
      "epoch 59 | loss: 0.24695 | train_accuracy: 0.90512 | valid_accuracy: 0.80866 |  0:00:13s\n",
      "epoch 60 | loss: 0.24156 | train_accuracy: 0.91314 | valid_accuracy: 0.8231  |  0:00:13s\n",
      "epoch 61 | loss: 0.2509  | train_accuracy: 0.91269 | valid_accuracy: 0.83032 |  0:00:13s\n",
      "epoch 62 | loss: 0.23325 | train_accuracy: 0.91314 | valid_accuracy: 0.81227 |  0:00:14s\n",
      "epoch 63 | loss: 0.24001 | train_accuracy: 0.91359 | valid_accuracy: 0.80144 |  0:00:14s\n",
      "epoch 64 | loss: 0.21575 | train_accuracy: 0.91047 | valid_accuracy: 0.79061 |  0:00:14s\n",
      "epoch 65 | loss: 0.2352  | train_accuracy: 0.91759 | valid_accuracy: 0.79061 |  0:00:14s\n",
      "epoch 66 | loss: 0.22145 | train_accuracy: 0.92739 | valid_accuracy: 0.80505 |  0:00:15s\n",
      "epoch 67 | loss: 0.20173 | train_accuracy: 0.92873 | valid_accuracy: 0.80866 |  0:00:15s\n",
      "epoch 68 | loss: 0.19538 | train_accuracy: 0.93185 | valid_accuracy: 0.79061 |  0:00:15s\n",
      "epoch 69 | loss: 0.18999 | train_accuracy: 0.93541 | valid_accuracy: 0.77978 |  0:00:15s\n",
      "epoch 70 | loss: 0.19303 | train_accuracy: 0.93898 | valid_accuracy: 0.787   |  0:00:15s\n",
      "epoch 71 | loss: 0.17529 | train_accuracy: 0.94254 | valid_accuracy: 0.79061 |  0:00:16s\n",
      "epoch 72 | loss: 0.17307 | train_accuracy: 0.94165 | valid_accuracy: 0.80505 |  0:00:16s\n",
      "epoch 73 | loss: 0.17077 | train_accuracy: 0.94254 | valid_accuracy: 0.81949 |  0:00:16s\n",
      "epoch 74 | loss: 0.18964 | train_accuracy: 0.94209 | valid_accuracy: 0.81949 |  0:00:16s\n",
      "epoch 75 | loss: 0.16755 | train_accuracy: 0.9461  | valid_accuracy: 0.80866 |  0:00:17s\n",
      "epoch 76 | loss: 0.17161 | train_accuracy: 0.94833 | valid_accuracy: 0.79783 |  0:00:17s\n",
      "epoch 77 | loss: 0.16932 | train_accuracy: 0.95278 | valid_accuracy: 0.80866 |  0:00:17s\n",
      "epoch 78 | loss: 0.15243 | train_accuracy: 0.95278 | valid_accuracy: 0.80866 |  0:00:17s\n",
      "epoch 79 | loss: 0.15114 | train_accuracy: 0.95367 | valid_accuracy: 0.78339 |  0:00:18s\n",
      "epoch 80 | loss: 0.16424 | train_accuracy: 0.95145 | valid_accuracy: 0.78339 |  0:00:18s\n",
      "epoch 81 | loss: 0.13158 | train_accuracy: 0.95011 | valid_accuracy: 0.79422 |  0:00:18s\n",
      "epoch 82 | loss: 0.15519 | train_accuracy: 0.9559  | valid_accuracy: 0.79783 |  0:00:19s\n",
      "epoch 83 | loss: 0.13205 | train_accuracy: 0.95947 | valid_accuracy: 0.79783 |  0:00:19s\n",
      "epoch 84 | loss: 0.13952 | train_accuracy: 0.95635 | valid_accuracy: 0.80144 |  0:00:19s\n",
      "epoch 85 | loss: 0.13338 | train_accuracy: 0.96036 | valid_accuracy: 0.79422 |  0:00:19s\n",
      "epoch 86 | loss: 0.13704 | train_accuracy: 0.95991 | valid_accuracy: 0.80505 |  0:00:19s\n",
      "epoch 87 | loss: 0.12933 | train_accuracy: 0.95813 | valid_accuracy: 0.80505 |  0:00:20s\n",
      "epoch 88 | loss: 0.12676 | train_accuracy: 0.95724 | valid_accuracy: 0.80505 |  0:00:20s\n",
      "epoch 89 | loss: 0.12553 | train_accuracy: 0.96125 | valid_accuracy: 0.80505 |  0:00:20s\n",
      "epoch 90 | loss: 0.13438 | train_accuracy: 0.96526 | valid_accuracy: 0.80866 |  0:00:20s\n",
      "epoch 91 | loss: 0.12152 | train_accuracy: 0.96927 | valid_accuracy: 0.80144 |  0:00:20s\n",
      "epoch 92 | loss: 0.1195  | train_accuracy: 0.96882 | valid_accuracy: 0.77978 |  0:00:21s\n",
      "epoch 93 | loss: 0.11484 | train_accuracy: 0.97149 | valid_accuracy: 0.77617 |  0:00:21s\n",
      "epoch 94 | loss: 0.11922 | train_accuracy: 0.97327 | valid_accuracy: 0.78339 |  0:00:21s\n",
      "epoch 95 | loss: 0.11392 | train_accuracy: 0.97461 | valid_accuracy: 0.77978 |  0:00:21s\n",
      "epoch 96 | loss: 0.11684 | train_accuracy: 0.97639 | valid_accuracy: 0.787   |  0:00:22s\n",
      "epoch 97 | loss: 0.09833 | train_accuracy: 0.97595 | valid_accuracy: 0.787   |  0:00:22s\n",
      "\n",
      "Early stopping occurred at epoch 97 with best_epoch = 47 and best_valid_accuracy = 0.83394\n"
     ]
    },
    {
     "name": "stderr",
     "output_type": "stream",
     "text": [
      "/opt/ml/tabnet/pytorch_tabnet/callbacks.py:172: UserWarning: Best weights from best epoch are automatically used!\n",
      "  warnings.warn(wrn_msg)\n"
     ]
    },
    {
     "name": "stdout",
     "output_type": "stream",
     "text": [
      "epoch 0  | loss: 0.85254 | train_accuracy: 0.52606 | valid_accuracy: 0.50903 |  0:00:00s\n",
      "epoch 1  | loss: 0.73418 | train_accuracy: 0.51982 | valid_accuracy: 0.54152 |  0:00:00s\n",
      "epoch 2  | loss: 0.7044  | train_accuracy: 0.54031 | valid_accuracy: 0.54152 |  0:00:00s\n",
      "epoch 3  | loss: 0.68113 | train_accuracy: 0.54254 | valid_accuracy: 0.5343  |  0:00:00s\n",
      "epoch 4  | loss: 0.66472 | train_accuracy: 0.55278 | valid_accuracy: 0.55596 |  0:00:01s\n",
      "epoch 5  | loss: 0.66822 | train_accuracy: 0.58263 | valid_accuracy: 0.56679 |  0:00:01s\n",
      "epoch 6  | loss: 0.65229 | train_accuracy: 0.59733 | valid_accuracy: 0.55596 |  0:00:01s\n",
      "epoch 7  | loss: 0.6563  | train_accuracy: 0.6245  | valid_accuracy: 0.57401 |  0:00:01s\n",
      "epoch 8  | loss: 0.62667 | train_accuracy: 0.62094 | valid_accuracy: 0.58845 |  0:00:02s\n",
      "epoch 9  | loss: 0.625   | train_accuracy: 0.64098 | valid_accuracy: 0.63899 |  0:00:02s\n",
      "epoch 10 | loss: 0.61081 | train_accuracy: 0.65702 | valid_accuracy: 0.66065 |  0:00:02s\n",
      "epoch 11 | loss: 0.59461 | train_accuracy: 0.66904 | valid_accuracy: 0.6426  |  0:00:02s\n",
      "epoch 12 | loss: 0.59423 | train_accuracy: 0.67661 | valid_accuracy: 0.63899 |  0:00:02s\n",
      "epoch 13 | loss: 0.56892 | train_accuracy: 0.68419 | valid_accuracy: 0.66065 |  0:00:03s\n",
      "epoch 14 | loss: 0.55019 | train_accuracy: 0.70334 | valid_accuracy: 0.68231 |  0:00:03s\n",
      "epoch 15 | loss: 0.55191 | train_accuracy: 0.70512 | valid_accuracy: 0.68231 |  0:00:03s\n",
      "epoch 16 | loss: 0.56003 | train_accuracy: 0.69889 | valid_accuracy: 0.68953 |  0:00:03s\n",
      "epoch 17 | loss: 0.5289  | train_accuracy: 0.70022 | valid_accuracy: 0.67148 |  0:00:03s\n",
      "epoch 18 | loss: 0.52946 | train_accuracy: 0.70958 | valid_accuracy: 0.68231 |  0:00:04s\n",
      "epoch 19 | loss: 0.51684 | train_accuracy: 0.71581 | valid_accuracy: 0.71119 |  0:00:04s\n",
      "epoch 20 | loss: 0.49567 | train_accuracy: 0.72472 | valid_accuracy: 0.68953 |  0:00:04s\n",
      "epoch 21 | loss: 0.49568 | train_accuracy: 0.72873 | valid_accuracy: 0.7148  |  0:00:04s\n",
      "epoch 22 | loss: 0.48858 | train_accuracy: 0.73363 | valid_accuracy: 0.69675 |  0:00:05s\n",
      "epoch 23 | loss: 0.48628 | train_accuracy: 0.74699 | valid_accuracy: 0.70036 |  0:00:05s\n",
      "epoch 24 | loss: 0.48192 | train_accuracy: 0.75234 | valid_accuracy: 0.71841 |  0:00:05s\n",
      "epoch 25 | loss: 0.4647  | train_accuracy: 0.75367 | valid_accuracy: 0.72563 |  0:00:05s\n",
      "epoch 26 | loss: 0.46273 | train_accuracy: 0.75546 | valid_accuracy: 0.72924 |  0:00:05s\n",
      "epoch 27 | loss: 0.48001 | train_accuracy: 0.76882 | valid_accuracy: 0.72563 |  0:00:06s\n",
      "epoch 28 | loss: 0.44333 | train_accuracy: 0.76748 | valid_accuracy: 0.69675 |  0:00:06s\n",
      "epoch 29 | loss: 0.4258  | train_accuracy: 0.77327 | valid_accuracy: 0.74368 |  0:00:06s\n",
      "epoch 30 | loss: 0.45401 | train_accuracy: 0.78664 | valid_accuracy: 0.76173 |  0:00:06s\n",
      "epoch 31 | loss: 0.443   | train_accuracy: 0.78753 | valid_accuracy: 0.76534 |  0:00:07s\n",
      "epoch 32 | loss: 0.43081 | train_accuracy: 0.78886 | valid_accuracy: 0.76534 |  0:00:07s\n",
      "epoch 33 | loss: 0.41752 | train_accuracy: 0.80312 | valid_accuracy: 0.76173 |  0:00:07s\n",
      "epoch 34 | loss: 0.39188 | train_accuracy: 0.80713 | valid_accuracy: 0.76534 |  0:00:07s\n",
      "epoch 35 | loss: 0.40847 | train_accuracy: 0.81336 | valid_accuracy: 0.75812 |  0:00:07s\n",
      "epoch 36 | loss: 0.3893  | train_accuracy: 0.81693 | valid_accuracy: 0.76173 |  0:00:08s\n",
      "epoch 37 | loss: 0.37996 | train_accuracy: 0.82361 | valid_accuracy: 0.77256 |  0:00:08s\n",
      "epoch 38 | loss: 0.37809 | train_accuracy: 0.82227 | valid_accuracy: 0.78339 |  0:00:08s\n",
      "epoch 39 | loss: 0.34937 | train_accuracy: 0.8245  | valid_accuracy: 0.787   |  0:00:08s\n",
      "epoch 40 | loss: 0.36745 | train_accuracy: 0.83073 | valid_accuracy: 0.787   |  0:00:09s\n",
      "epoch 41 | loss: 0.34708 | train_accuracy: 0.84009 | valid_accuracy: 0.81227 |  0:00:09s\n",
      "epoch 42 | loss: 0.35779 | train_accuracy: 0.84499 | valid_accuracy: 0.80866 |  0:00:09s\n",
      "epoch 43 | loss: 0.34304 | train_accuracy: 0.85746 | valid_accuracy: 0.81588 |  0:00:09s\n",
      "epoch 44 | loss: 0.32851 | train_accuracy: 0.84811 | valid_accuracy: 0.81227 |  0:00:10s\n",
      "epoch 45 | loss: 0.33769 | train_accuracy: 0.84543 | valid_accuracy: 0.82671 |  0:00:10s\n",
      "epoch 46 | loss: 0.32208 | train_accuracy: 0.849   | valid_accuracy: 0.83032 |  0:00:10s\n",
      "epoch 47 | loss: 0.33258 | train_accuracy: 0.8539  | valid_accuracy: 0.83394 |  0:00:10s\n",
      "epoch 48 | loss: 0.30224 | train_accuracy: 0.86414 | valid_accuracy: 0.83032 |  0:00:10s\n",
      "epoch 49 | loss: 0.30477 | train_accuracy: 0.86949 | valid_accuracy: 0.81949 |  0:00:11s\n",
      "epoch 50 | loss: 0.31224 | train_accuracy: 0.8686  | valid_accuracy: 0.8231  |  0:00:11s\n",
      "epoch 51 | loss: 0.2947  | train_accuracy: 0.86904 | valid_accuracy: 0.81588 |  0:00:11s\n",
      "epoch 52 | loss: 0.2812  | train_accuracy: 0.87082 | valid_accuracy: 0.81949 |  0:00:11s\n",
      "epoch 53 | loss: 0.29652 | train_accuracy: 0.87617 | valid_accuracy: 0.8231  |  0:00:12s\n",
      "epoch 54 | loss: 0.2823  | train_accuracy: 0.88508 | valid_accuracy: 0.81949 |  0:00:12s\n",
      "epoch 55 | loss: 0.28358 | train_accuracy: 0.88686 | valid_accuracy: 0.8231  |  0:00:12s\n",
      "epoch 56 | loss: 0.25843 | train_accuracy: 0.89399 | valid_accuracy: 0.81949 |  0:00:12s\n",
      "epoch 57 | loss: 0.27279 | train_accuracy: 0.89354 | valid_accuracy: 0.80505 |  0:00:12s\n",
      "epoch 58 | loss: 0.25996 | train_accuracy: 0.90245 | valid_accuracy: 0.80505 |  0:00:13s\n",
      "epoch 59 | loss: 0.24695 | train_accuracy: 0.90512 | valid_accuracy: 0.80866 |  0:00:13s\n",
      "epoch 60 | loss: 0.24156 | train_accuracy: 0.91314 | valid_accuracy: 0.8231  |  0:00:13s\n",
      "epoch 61 | loss: 0.2509  | train_accuracy: 0.91269 | valid_accuracy: 0.83032 |  0:00:13s\n",
      "epoch 62 | loss: 0.23325 | train_accuracy: 0.91314 | valid_accuracy: 0.81227 |  0:00:13s\n",
      "epoch 63 | loss: 0.24001 | train_accuracy: 0.91359 | valid_accuracy: 0.80144 |  0:00:14s\n",
      "epoch 64 | loss: 0.21575 | train_accuracy: 0.91047 | valid_accuracy: 0.79061 |  0:00:14s\n",
      "epoch 65 | loss: 0.2352  | train_accuracy: 0.91759 | valid_accuracy: 0.79061 |  0:00:14s\n",
      "epoch 66 | loss: 0.22145 | train_accuracy: 0.92739 | valid_accuracy: 0.80505 |  0:00:14s\n",
      "epoch 67 | loss: 0.20173 | train_accuracy: 0.92873 | valid_accuracy: 0.80866 |  0:00:15s\n",
      "epoch 68 | loss: 0.19538 | train_accuracy: 0.93185 | valid_accuracy: 0.79061 |  0:00:15s\n",
      "epoch 69 | loss: 0.18999 | train_accuracy: 0.93541 | valid_accuracy: 0.77978 |  0:00:15s\n",
      "epoch 70 | loss: 0.19303 | train_accuracy: 0.93898 | valid_accuracy: 0.787   |  0:00:15s\n",
      "epoch 71 | loss: 0.17529 | train_accuracy: 0.94254 | valid_accuracy: 0.79061 |  0:00:15s\n",
      "epoch 72 | loss: 0.17307 | train_accuracy: 0.94165 | valid_accuracy: 0.80505 |  0:00:16s\n",
      "epoch 73 | loss: 0.17077 | train_accuracy: 0.94254 | valid_accuracy: 0.81949 |  0:00:16s\n",
      "epoch 74 | loss: 0.18964 | train_accuracy: 0.94209 | valid_accuracy: 0.81949 |  0:00:16s\n",
      "epoch 75 | loss: 0.16755 | train_accuracy: 0.9461  | valid_accuracy: 0.80866 |  0:00:16s\n",
      "epoch 76 | loss: 0.17161 | train_accuracy: 0.94833 | valid_accuracy: 0.79783 |  0:00:16s\n",
      "epoch 77 | loss: 0.16932 | train_accuracy: 0.95278 | valid_accuracy: 0.80866 |  0:00:17s\n",
      "epoch 78 | loss: 0.15243 | train_accuracy: 0.95278 | valid_accuracy: 0.80866 |  0:00:17s\n",
      "epoch 79 | loss: 0.15114 | train_accuracy: 0.95367 | valid_accuracy: 0.78339 |  0:00:17s\n",
      "epoch 80 | loss: 0.16424 | train_accuracy: 0.95145 | valid_accuracy: 0.78339 |  0:00:17s\n",
      "epoch 81 | loss: 0.13158 | train_accuracy: 0.95011 | valid_accuracy: 0.79422 |  0:00:18s\n",
      "epoch 82 | loss: 0.15519 | train_accuracy: 0.9559  | valid_accuracy: 0.79783 |  0:00:18s\n",
      "epoch 83 | loss: 0.13205 | train_accuracy: 0.95947 | valid_accuracy: 0.79783 |  0:00:18s\n",
      "epoch 84 | loss: 0.13952 | train_accuracy: 0.95635 | valid_accuracy: 0.80144 |  0:00:18s\n",
      "epoch 85 | loss: 0.13338 | train_accuracy: 0.96036 | valid_accuracy: 0.79422 |  0:00:18s\n",
      "epoch 86 | loss: 0.13704 | train_accuracy: 0.95991 | valid_accuracy: 0.80505 |  0:00:19s\n",
      "epoch 87 | loss: 0.12933 | train_accuracy: 0.95813 | valid_accuracy: 0.80505 |  0:00:19s\n",
      "epoch 88 | loss: 0.12676 | train_accuracy: 0.95724 | valid_accuracy: 0.80505 |  0:00:19s\n",
      "epoch 89 | loss: 0.12553 | train_accuracy: 0.96125 | valid_accuracy: 0.80505 |  0:00:19s\n",
      "epoch 90 | loss: 0.13438 | train_accuracy: 0.96526 | valid_accuracy: 0.80866 |  0:00:20s\n",
      "epoch 91 | loss: 0.12152 | train_accuracy: 0.96927 | valid_accuracy: 0.80144 |  0:00:20s\n",
      "epoch 92 | loss: 0.1195  | train_accuracy: 0.96882 | valid_accuracy: 0.77978 |  0:00:20s\n",
      "epoch 93 | loss: 0.11484 | train_accuracy: 0.97149 | valid_accuracy: 0.77617 |  0:00:20s\n",
      "epoch 94 | loss: 0.11922 | train_accuracy: 0.97327 | valid_accuracy: 0.78339 |  0:00:20s\n",
      "epoch 95 | loss: 0.11392 | train_accuracy: 0.97461 | valid_accuracy: 0.77978 |  0:00:21s\n",
      "epoch 96 | loss: 0.11684 | train_accuracy: 0.97639 | valid_accuracy: 0.787   |  0:00:21s\n",
      "epoch 97 | loss: 0.09833 | train_accuracy: 0.97595 | valid_accuracy: 0.787   |  0:00:21s\n",
      "\n",
      "Early stopping occurred at epoch 97 with best_epoch = 47 and best_valid_accuracy = 0.83394\n"
     ]
    },
    {
     "name": "stderr",
     "output_type": "stream",
     "text": [
      "/opt/ml/tabnet/pytorch_tabnet/callbacks.py:172: UserWarning: Best weights from best epoch are automatically used!\n",
      "  warnings.warn(wrn_msg)\n"
     ]
    }
   ],
   "source": [
    "# This illustrates the warm_start=False behaviour\n",
    "save_history = []\n",
    "for _ in range(2):\n",
    "    clf.fit(\n",
    "        X_train=X_train, y_train=y_train,\n",
    "        eval_set=[(X_train, y_train), (X_valid, y_valid)],\n",
    "        eval_name=['train', 'valid'],\n",
    "        eval_metric=['accuracy'],\n",
    "        max_epochs=max_epochs , patience=50,\n",
    "        batch_size=1024, virtual_batch_size=128,\n",
    "        num_workers=0,\n",
    "        weights=1,\n",
    "        drop_last=False\n",
    "    )\n",
    "    save_history.append(clf.history[\"valid_accuracy\"])\n",
    "    \n",
    "assert(np.all(np.array(save_history[0]==np.array(save_history[1]))))"
   ]
  },
  {
   "cell_type": "code",
   "execution_count": 13,
   "metadata": {},
   "outputs": [
    {
     "data": {
      "text/plain": [
       "[<matplotlib.lines.Line2D at 0x7efeab0f2b10>]"
      ]
     },
     "execution_count": 13,
     "metadata": {},
     "output_type": "execute_result"
    },
    {
     "data": {
      "image/png": "[encoded data removed]",
      "text/plain": [
       "<Figure size 432x288 with 1 Axes>"
      ]
     },
     "metadata": {
      "needs_background": "light"
     },
     "output_type": "display_data"
    }
   ],
   "source": [
    "# plot losses\n",
    "plt.plot(clf.history['loss'])"
   ]
  },
  {
   "cell_type": "code",
   "execution_count": 14,
   "metadata": {},
   "outputs": [
    {
     "data": {
      "text/plain": [
       "[<matplotlib.lines.Line2D at 0x7efeaa6d0590>]"
      ]
     },
     "execution_count": 14,
     "metadata": {},
     "output_type": "execute_result"
    },
    {
     "data": {
      "image/png": "[encoded data removed]",
      "text/plain": [
       "<Figure size 432x288 with 1 Axes>"
      ]
     },
     "metadata": {
      "needs_background": "light"
     },
     "output_type": "display_data"
    }
   ],
   "source": [
    "# plot auc\n",
    "plt.plot(clf.history['train_accuracy'])\n",
    "plt.plot(clf.history['valid_accuracy'])"
   ]
  },
  {
   "cell_type": "code",
   "execution_count": 15,
   "metadata": {},
   "outputs": [
    {
     "data": {
      "text/plain": [
       "[<matplotlib.lines.Line2D at 0x7efeaa6b5c10>]"
      ]
     },
     "execution_count": 15,
     "metadata": {},
     "output_type": "execute_result"
    },
    {
     "data": {
      "image/png": "[encoded data removed]",
      "text/plain": [
       "<Figure size 432x288 with 1 Axes>"
      ]
     },
     "metadata": {
      "needs_background": "light"
     },
     "output_type": "display_data"
    }
   ],
   "source": [
    "# plot learning rates\n",
    "plt.plot(clf.history['lr'])"
   ]
  },
  {
   "cell_type": "markdown",
   "metadata": {},
   "source": [
    "## Predictions"
   ]
  },
  {
   "cell_type": "code",
   "execution_count": 16,
   "metadata": {},
   "outputs": [
    {
     "name": "stdout",
     "output_type": "stream",
     "text": [
      "BEST VALID SCORE FOR dataset_players_statistics : 0.8339350180505415\n",
      "FINAL TEST SCORE FOR dataset_players_statistics : 0.7547169811320755\n"
     ]
    }
   ],
   "source": [
    "preds = clf.predict_proba(X_test)\n",
    "test_acc = accuracy_score(y_true=[0 if x =='lose' else 1 for x in y_test ], y_pred=[0 if x < 0.5 else 1 for x in preds[:,1]])\n",
    "\n",
    "preds_valid = clf.predict_proba(X_valid)\n",
    "valid_acc = accuracy_score(y_true=[0 if x =='lose' else 1 for x in y_valid ], y_pred=[0 if x < 0.5 else 1 for x in preds_valid[:,1]])\n",
    "print(f\"BEST VALID SCORE FOR {dataset_name} : {clf.best_cost}\")\n",
    "print(f\"FINAL TEST SCORE FOR {dataset_name} : {test_acc}\")"
   ]
  },
  {
   "cell_type": "code",
   "execution_count": 17,
   "metadata": {},
   "outputs": [],
   "source": [
    "# check that best weights are used\n",
    "assert np.isclose(valid_acc, np.max(clf.history['valid_accuracy']), atol=1e-6)"
   ]
  },
  {
   "cell_type": "code",
   "execution_count": 18,
   "metadata": {},
   "outputs": [
    {
     "data": {
      "text/plain": [
       "array(['lose', 'lose', 'win', 'lose', 'win', 'win', 'lose', 'win', 'lose',\n",
       "       'win', 'win', 'win', 'lose', 'lose', 'win', 'lose', 'win', 'win',\n",
       "       'lose', 'lose', 'win', 'win', 'win', 'win', 'lose', 'win', 'win',\n",
       "       'lose', 'lose', 'win', 'lose', 'lose', 'win', 'lose', 'lose',\n",
       "       'lose', 'lose', 'lose', 'lose', 'lose', 'lose', 'lose', 'win',\n",
       "       'lose', 'win', 'lose', 'lose', 'lose', 'win', 'lose', 'win',\n",
       "       'lose', 'win', 'lose', 'lose', 'win', 'win', 'win', 'win', 'lose',\n",
       "       'win', 'lose', 'win', 'win', 'lose', 'win', 'lose', 'win', 'win',\n",
       "       'lose', 'win', 'lose', 'win', 'lose', 'lose', 'win', 'lose', 'win',\n",
       "       'win', 'win', 'lose', 'win', 'lose', 'lose', 'lose', 'lose', 'win',\n",
       "       'lose', 'lose', 'lose', 'lose', 'lose', 'lose', 'win', 'lose',\n",
       "       'lose', 'lose', 'win', 'lose', 'lose', 'lose', 'win', 'win', 'win',\n",
       "       'lose', 'lose', 'win', 'win', 'lose', 'win', 'win', 'win', 'win',\n",
       "       'win', 'win', 'win', 'win', 'win', 'lose', 'lose', 'lose', 'lose',\n",
       "       'lose', 'win', 'win', 'lose', 'win', 'lose', 'win', 'win', 'lose',\n",
       "       'win', 'lose', 'lose', 'win', 'win', 'win', 'lose', 'lose', 'lose',\n",
       "       'lose', 'lose', 'win', 'lose', 'lose', 'lose', 'win', 'lose',\n",
       "       'lose', 'lose', 'lose', 'win', 'lose', 'win', 'lose', 'lose',\n",
       "       'lose', 'lose', 'win', 'lose', 'lose', 'lose', 'win', 'win', 'win',\n",
       "       'win', 'win', 'lose', 'lose', 'lose', 'win', 'win', 'lose', 'win',\n",
       "       'win', 'win', 'win', 'win', 'lose', 'lose', 'win', 'win', 'lose',\n",
       "       'win', 'win', 'win', 'lose', 'lose', 'lose', 'win', 'lose', 'win',\n",
       "       'lose', 'win', 'win', 'lose', 'lose', 'win', 'win', 'win', 'lose',\n",
       "       'lose', 'lose', 'lose', 'lose', 'lose', 'win', 'lose', 'win',\n",
       "       'lose', 'lose', 'win', 'lose', 'win', 'lose', 'lose', 'lose',\n",
       "       'win', 'lose', 'lose', 'win', 'lose', 'lose', 'win', 'win', 'win',\n",
       "       'lose', 'win', 'win', 'lose', 'lose', 'win', 'lose', 'win', 'lose',\n",
       "       'lose', 'lose', 'win', 'win', 'lose', 'win', 'lose', 'win', 'lose',\n",
       "       'lose', 'win', 'lose', 'win', 'lose', 'lose', 'win', 'lose', 'win',\n",
       "       'win', 'lose', 'lose', 'win', 'win', 'lose', 'win', 'lose', 'win',\n",
       "       'lose', 'lose', 'lose', 'lose', 'win', 'lose', 'lose', 'lose',\n",
       "       'lose', 'lose', 'win', 'win', 'lose', 'lose', 'win', 'lose', 'win',\n",
       "       'lose', 'win', 'lose', 'lose', 'win', 'win', 'win', 'win', 'lose',\n",
       "       'lose', 'lose', 'lose', 'lose', 'lose', 'lose', 'win', 'lose',\n",
       "       'lose', 'win', 'win', 'lose', 'win', 'win', 'lose', 'lose', 'lose',\n",
       "       'lose', 'win', 'win', 'lose', 'win', 'win', 'lose', 'win', 'lose',\n",
       "       'win', 'lose', 'lose', 'lose'], dtype='<U4')"
      ]
     },
     "execution_count": 18,
     "metadata": {},
     "output_type": "execute_result"
    }
   ],
   "source": [
    "clf.predict(X_test)"
   ]
  },
  {
   "cell_type": "markdown",
   "metadata": {},
   "source": [
    "# Save and load Model"
   ]
  },
  {
   "cell_type": "code",
   "execution_count": 19,
   "metadata": {},
   "outputs": [
    {
     "name": "stdout",
     "output_type": "stream",
     "text": [
      "Successfully saved model at ./tabnet_model_test_1.zip\n"
     ]
    }
   ],
   "source": [
    "# save tabnet model\n",
    "saving_path_name = \"./tabnet_model_test_1\"\n",
    "saved_filepath = clf.save_model(saving_path_name)"
   ]
  },
  {
   "cell_type": "code",
   "execution_count": 20,
   "metadata": {},
   "outputs": [
    {
     "name": "stderr",
     "output_type": "stream",
     "text": [
      "/opt/ml/tabnet/pytorch_tabnet/abstract_model.py:75: UserWarning: Device used : cuda\n",
      "  warnings.warn(f\"Device used : {self.device}\")\n"
     ]
    }
   ],
   "source": [
    "# define new model with basic parameters and load state dict weights\n",
    "loaded_clf = TabNetClassifier()\n",
    "loaded_clf.load_model(saved_filepath)"
   ]
  },
  {
   "cell_type": "code",
   "execution_count": 21,
   "metadata": {},
   "outputs": [
    {
     "name": "stdout",
     "output_type": "stream",
     "text": [
      "FINAL TEST SCORE FOR dataset_players_statistics : 0.7547169811320755\n"
     ]
    }
   ],
   "source": [
    "loaded_preds = loaded_clf.predict_proba(X_test)\n",
    "loaded_test_acc = accuracy_score(y_true=[0 if x =='lose' else 1 for x in y_test ], y_pred=[0 if x < 0.5 else 1 for x in loaded_preds[:,1]])\n",
    "print(f\"FINAL TEST SCORE FOR {dataset_name} : {loaded_test_acc}\")"
   ]
  },
  {
   "cell_type": "code",
   "execution_count": 22,
   "metadata": {},
   "outputs": [],
   "source": [
    "assert(test_acc == loaded_test_acc)"
   ]
  },
  {
   "cell_type": "code",
   "execution_count": 23,
   "metadata": {},
   "outputs": [
    {
     "data": {
      "text/plain": [
       "array(['lose', 'lose', 'win', 'lose', 'win', 'win', 'lose', 'win', 'lose',\n",
       "       'win', 'win', 'win', 'lose', 'lose', 'win', 'lose', 'win', 'win',\n",
       "       'lose', 'lose', 'win', 'win', 'win', 'win', 'lose', 'win', 'win',\n",
       "       'lose', 'lose', 'win', 'lose', 'lose', 'win', 'lose', 'lose',\n",
       "       'lose', 'lose', 'lose', 'lose', 'lose', 'lose', 'lose', 'win',\n",
       "       'lose', 'win', 'lose', 'lose', 'lose', 'win', 'lose', 'win',\n",
       "       'lose', 'win', 'lose', 'lose', 'win', 'win', 'win', 'win', 'lose',\n",
       "       'win', 'lose', 'win', 'win', 'lose', 'win', 'lose', 'win', 'win',\n",
       "       'lose', 'win', 'lose', 'win', 'lose', 'lose', 'win', 'lose', 'win',\n",
       "       'win', 'win', 'lose', 'win', 'lose', 'lose', 'lose', 'lose', 'win',\n",
       "       'lose', 'lose', 'lose', 'lose', 'lose', 'lose', 'win', 'lose',\n",
       "       'lose', 'lose', 'win', 'lose', 'lose', 'lose', 'win', 'win', 'win',\n",
       "       'lose', 'lose', 'win', 'win', 'lose', 'win', 'win', 'win', 'win',\n",
       "       'win', 'win', 'win', 'win', 'win', 'lose', 'lose', 'lose', 'lose',\n",
       "       'lose', 'win', 'win', 'lose', 'win', 'lose', 'win', 'win', 'lose',\n",
       "       'win', 'lose', 'lose', 'win', 'win', 'win', 'lose', 'lose', 'lose',\n",
       "       'lose', 'lose', 'win', 'lose', 'lose', 'lose', 'win', 'lose',\n",
       "       'lose', 'lose', 'lose', 'win', 'lose', 'win', 'lose', 'lose',\n",
       "       'lose', 'lose', 'win', 'lose', 'lose', 'lose', 'win', 'win', 'win',\n",
       "       'win', 'win', 'lose', 'lose', 'lose', 'win', 'win', 'lose', 'win',\n",
       "       'win', 'win', 'win', 'win', 'lose', 'lose', 'win', 'win', 'lose',\n",
       "       'win', 'win', 'win', 'lose', 'lose', 'lose', 'win', 'lose', 'win',\n",
       "       'lose', 'win', 'win', 'lose', 'lose', 'win', 'win', 'win', 'lose',\n",
       "       'lose', 'lose', 'lose', 'lose', 'lose', 'win', 'lose', 'win',\n",
       "       'lose', 'lose', 'win', 'lose', 'win', 'lose', 'lose', 'lose',\n",
       "       'win', 'lose', 'lose', 'win', 'lose', 'lose', 'win', 'win', 'win',\n",
       "       'lose', 'win', 'win', 'lose', 'lose', 'win', 'lose', 'win', 'lose',\n",
       "       'lose', 'lose', 'win', 'win', 'lose', 'win', 'lose', 'win', 'lose',\n",
       "       'lose', 'win', 'lose', 'win', 'lose', 'lose', 'win', 'lose', 'win',\n",
       "       'win', 'lose', 'lose', 'win', 'win', 'lose', 'win', 'lose', 'win',\n",
       "       'lose', 'lose', 'lose', 'lose', 'win', 'lose', 'lose', 'lose',\n",
       "       'lose', 'lose', 'win', 'win', 'lose', 'lose', 'win', 'lose', 'win',\n",
       "       'lose', 'win', 'lose', 'lose', 'win', 'win', 'win', 'win', 'lose',\n",
       "       'lose', 'lose', 'lose', 'lose', 'lose', 'lose', 'win', 'lose',\n",
       "       'lose', 'win', 'win', 'lose', 'win', 'win', 'lose', 'lose', 'lose',\n",
       "       'lose', 'win', 'win', 'lose', 'win', 'win', 'lose', 'win', 'lose',\n",
       "       'win', 'lose', 'lose', 'lose'], dtype='<U4')"
      ]
     },
     "execution_count": 23,
     "metadata": {},
     "output_type": "execute_result"
    }
   ],
   "source": [
    "loaded_clf.predict(X_test)"
   ]
  },
  {
   "cell_type": "markdown",
   "metadata": {},
   "source": [
    "# Global explainability : feat importance summing to 1"
   ]
  },
  {
   "cell_type": "code",
   "execution_count": 24,
   "metadata": {},
   "outputs": [
    {
     "data": {
      "text/plain": [
       "(31,)"
      ]
     },
     "execution_count": 24,
     "metadata": {},
     "output_type": "execute_result"
    }
   ],
   "source": [
    "clf.feature_importances_.shape"
   ]
  },
  {
   "cell_type": "markdown",
   "metadata": {},
   "source": [
    "# Local explainability and masks"
   ]
  },
  {
   "cell_type": "code",
   "execution_count": 25,
   "metadata": {},
   "outputs": [],
   "source": [
    "explain_matrix, masks = clf.explain(X_test)"
   ]
  },
  {
   "cell_type": "code",
   "execution_count": 26,
   "metadata": {},
   "outputs": [
    {
     "data": {
      "image/png": "[encoded data removed]",
      "text/plain": [
       "<Figure size 1440x1440 with 3 Axes>"
      ]
     },
     "metadata": {
      "needs_background": "light"
     },
     "output_type": "display_data"
    }
   ],
   "source": [
    "fig, axs = plt.subplots(1, 3, figsize=(20,20))\n",
    "\n",
    "for i in range(3):\n",
    "    axs[i].imshow(masks[i][:50])\n",
    "    axs[i].set_title(f\"mask {i}\")\n"
   ]
  },
  {
   "cell_type": "markdown",
   "metadata": {},
   "source": [
    "# XGB"
   ]
  },
  {
   "cell_type": "code",
   "execution_count": 27,
   "metadata": {},
   "outputs": [],
   "source": [
    "#pip install xgboost"
   ]
  },
  {
   "cell_type": "code",
   "execution_count": 28,
   "metadata": {
    "scrolled": true
   },
   "outputs": [
    {
     "name": "stdout",
     "output_type": "stream",
     "text": [
      "[0]\tvalidation_0-logloss:0.63160\n",
      "[10]\tvalidation_0-logloss:0.34749\n"
     ]
    },
    {
     "name": "stderr",
     "output_type": "stream",
     "text": [
      "/opt/conda/envs/lightweight/lib/python3.7/site-packages/xgboost/sklearn.py:1224: UserWarning: The use of label encoder in XGBClassifier is deprecated and will be removed in a future release. To remove this warning, do the following: 1) Pass option use_label_encoder=False when constructing XGBClassifier object; and 2) Encode your labels (y) as integers starting with 0, i.e. 0, 1, 2, ..., [num_class - 1].\n",
      "  warnings.warn(label_encoder_deprecation_msg, UserWarning)\n"
     ]
    },
    {
     "name": "stdout",
     "output_type": "stream",
     "text": [
      "[20]\tvalidation_0-logloss:0.25066\n",
      "[30]\tvalidation_0-logloss:0.21056\n",
      "[40]\tvalidation_0-logloss:0.18941\n",
      "[50]\tvalidation_0-logloss:0.17599\n",
      "[60]\tvalidation_0-logloss:0.16997\n",
      "[70]\tvalidation_0-logloss:0.17158\n",
      "[80]\tvalidation_0-logloss:0.17218\n",
      "[90]\tvalidation_0-logloss:0.17072\n",
      "[100]\tvalidation_0-logloss:0.17466\n",
      "[110]\tvalidation_0-logloss:0.17787\n",
      "[120]\tvalidation_0-logloss:0.17956\n",
      "[130]\tvalidation_0-logloss:0.17910\n",
      "[140]\tvalidation_0-logloss:0.18067\n",
      "[150]\tvalidation_0-logloss:0.18065\n",
      "[160]\tvalidation_0-logloss:0.17830\n",
      "[170]\tvalidation_0-logloss:0.17983\n",
      "[180]\tvalidation_0-logloss:0.17909\n",
      "[190]\tvalidation_0-logloss:0.18343\n",
      "[200]\tvalidation_0-logloss:0.18436\n",
      "[210]\tvalidation_0-logloss:0.18566\n",
      "[220]\tvalidation_0-logloss:0.18711\n",
      "[230]\tvalidation_0-logloss:0.18964\n",
      "[240]\tvalidation_0-logloss:0.19052\n",
      "[250]\tvalidation_0-logloss:0.19161\n",
      "[260]\tvalidation_0-logloss:0.19389\n",
      "[263]\tvalidation_0-logloss:0.19464\n"
     ]
    },
    {
     "data": {
      "text/plain": [
       "XGBClassifier(base_score=0.5, booster='gbtree', colsample_bylevel=1,\n",
       "              colsample_bynode=1, colsample_bytree=1, enable_categorical=False,\n",
       "              gamma=0, gpu_id=-1, importance_type=None,\n",
       "              interaction_constraints='', learning_rate=0.1, max_delta_step=0,\n",
       "              max_depth=8, min_child_weight=1, missing=nan,\n",
       "              monotone_constraints='()', n_estimators=1000, n_jobs=-1,\n",
       "              nthread=8, num_parallel_tree=1, predictor='auto', random_state=0,\n",
       "              reg_alpha=0, reg_lambda=1, scale_pos_weight=1, seed=0,\n",
       "              silent=None, subsample=0.7, tree_method='exact',\n",
       "              validate_parameters=1, ...)"
      ]
     },
     "execution_count": 28,
     "metadata": {},
     "output_type": "execute_result"
    }
   ],
   "source": [
    "from xgboost import XGBClassifier\n",
    "import xgboost as xgb\n",
    "import matplotlib.pyplot as plt \n",
    "\n",
    "clf_xgb = XGBClassifier(max_depth=8,\n",
    "    learning_rate=0.1,\n",
    "    n_estimators=1000,\n",
    "    verbosity=0,\n",
    "    silent=None,\n",
    "    objective='binary:logistic',\n",
    "    booster='gbtree',\n",
    "    n_jobs=-1,\n",
    "    nthread=None,\n",
    "    gamma=0,\n",
    "    min_child_weight=1,\n",
    "    max_delta_step=0,\n",
    "    subsample=0.7,\n",
    "    colsample_bytree=1,\n",
    "    colsample_bylevel=1,\n",
    "    colsample_bynode=1,\n",
    "    reg_alpha=0,\n",
    "    reg_lambda=1,\n",
    "    scale_pos_weight=1,\n",
    "    base_score=0.5,\n",
    "    random_state=0,\n",
    "    seed=None,)\n",
    "\n",
    "clf_xgb.fit(X_train, y_train,\n",
    "        eval_set=[(X_valid, y_valid)],\n",
    "        early_stopping_rounds=200,\n",
    "        verbose=10)\n",
    "\n"
   ]
  },
  {
   "cell_type": "code",
   "execution_count": 70,
   "metadata": {},
   "outputs": [
    {
     "data": {
      "text/plain": [
       "<BarContainer object of 31 artists>"
      ]
     },
     "execution_count": 70,
     "metadata": {},
     "output_type": "execute_result"
    },
    {
     "data": {
      "image/png": "[encoded data removed]",
      "text/plain": [
       "<Figure size 864x2016 with 1 Axes>"
      ]
     },
     "metadata": {
      "needs_background": "light"
     },
     "output_type": "display_data"
    }
   ],
   "source": [
    "importances = clf_xgb.feature_importances_\n",
    "features = list(train.columns[:-2])\n",
    "importances_zip = zip(importances,features)\n",
    "sorted_importances_zip = sorted(importances_zip)\n",
    "fig, ax = plt.subplots(1,1, figsize=(12,28))\n",
    "importances, features = zip(*sorted_importances_zip)\n",
    "ax.barh(features, importances)"
   ]
  },
  {
   "cell_type": "code",
   "execution_count": null,
   "metadata": {},
   "outputs": [],
   "source": [
    "preds = np.array(clf_xgb.predict_proba(X_valid))\n",
    "valid_acc = accuracy_score(y_true= [0 if x =='lose' else 1 for x in y_valid ], y_pred=[0 if x < 0.5 else 1 for x in preds[:,1]])\n",
    "print(valid_acc)\n",
    "\n",
    "preds = np.array(clf_xgb.predict_proba(X_test))\n",
    "test_acc = accuracy_score(y_true=[0 if x =='lose' else 1 for x in y_test ], y_pred=[0 if x < 0.5 else 1 for x in preds[:,1]])\n",
    "print(test_acc)"
   ]
  },
  {
   "cell_type": "code",
   "execution_count": null,
   "metadata": {},
   "outputs": [],
   "source": [
    "from sklearn.ensemble import RandomForestClassifier\n",
    "from sklearn.model_selection import train_test_split\n",
    "from sklearn import metrics   \n",
    " \n",
    "# 학습 진행\n",
    "forest = RandomForestClassifier(n_estimators=1000, min_samples_leaf=3, min_samples_split=10, max_features=7)\n",
    "forest.fit(X_train, y_train)\n",
    "\n",
    "preds = np.array(forest.predict_proba(X_valid))\n",
    "valid_acc = accuracy_score(y_true= [0 if x =='lose' else 1 for x in y_valid ], y_pred=[0 if x < 0.5 else 1 for x in preds[:,1]])\n",
    "print(valid_acc)\n",
    "\n",
    "preds = np.array(forest.predict_proba(X_test))\n",
    "test_acc = accuracy_score(y_true=[0 if x =='lose' else 1 for x in y_test ], y_pred=[0 if x < 0.5 else 1 for x in preds[:,1]])\n",
    "print(test_acc)\n"
   ]
  },
  {
   "cell_type": "code",
   "execution_count": null,
   "metadata": {},
   "outputs": [],
   "source": [
    "from sklearn.linear_model import LogisticRegression\n",
    "logistic = LogisticRegression(max_iter=500)\n",
    "logistic.fit(X_train, y_train)\n",
    "\n",
    "preds = np.array(logistic.predict_proba(X_valid))\n",
    "valid_acc = accuracy_score(y_true= [0 if x =='lose' else 1 for x in y_valid ], y_pred=[0 if x < 0.5 else 1 for x in preds[:,1]])\n",
    "print(valid_acc)\n",
    "\n",
    "preds = np.array(logistic.predict_proba(X_test))\n",
    "test_acc = accuracy_score(y_true=[0 if x =='lose' else 1 for x in y_test ], y_pred=[0 if x < 0.5 else 1 for x in preds[:,1]])\n",
    "print(test_acc)"
   ]
  },
  {
   "cell_type": "code",
   "execution_count": null,
   "metadata": {},
   "outputs": [],
   "source": []
  }
 ],
 "metadata": {
  "kernelspec": {
   "display_name": "Python 3",
   "language": "python",
   "name": "python3"
  },
  "language_info": {
   "codemirror_mode": {
    "name": "ipython",
    "version": 3
   },
   "file_extension": ".py",
   "mimetype": "text/x-python",
   "name": "python",
   "nbconvert_exporter": "python",
   "pygments_lexer": "ipython3",
   "version": "3.7.11"
  },
  "toc": {
   "base_numbering": 1,
   "nav_menu": {},
   "number_sections": true,
   "sideBar": true,
   "skip_h1_title": false,
   "title_cell": "Table of Contents",
   "title_sidebar": "Contents",
   "toc_cell": false,
   "toc_position": {},
   "toc_section_display": true,
   "toc_window_display": false
  }
 },
 "nbformat": 4,
 "nbformat_minor": 4
}
